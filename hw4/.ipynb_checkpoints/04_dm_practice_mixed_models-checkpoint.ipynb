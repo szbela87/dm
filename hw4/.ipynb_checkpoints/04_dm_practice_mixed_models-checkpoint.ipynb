{
  "nbformat": 4,
  "nbformat_minor": 0,
  "metadata": {
    "colab": {
      "name": "04_dm_practice_mixed_models.ipynb",
      "provenance": [],
      "collapsed_sections": []
    },
    "kernelspec": {
      "name": "python3",
      "display_name": "Python 3"
    },
    "language_info": {
      "name": "python"
    },
    "accelerator": "GPU"
  },
  "cells": [
    {
      "cell_type": "markdown",
      "source": [
        "# Models for mixed data"
      ],
      "metadata": {
        "id": "N3IoSS0QCJcy"
      }
    },
    {
      "cell_type": "markdown",
      "source": [
        "* dataset has both numeric/categoric features and other, structured data (images, text, etc.)\n",
        "* NN for structured data, traditional models for other\n",
        "* how to combine them?\n",
        "* naïve approach: NN as one model of an ensemble\n",
        "* can we use a more clever approach?"
      ],
      "metadata": {
        "id": "k-CPr9gRDC7s"
      }
    },
    {
      "cell_type": "markdown",
      "source": [
        "## Imports and data preparation"
      ],
      "metadata": {
        "id": "LDIP1JSUCTmY"
      }
    },
    {
      "cell_type": "code",
      "execution_count": null,
      "metadata": {
        "colab": {
          "base_uri": "https://localhost:8080/"
        },
        "id": "ZvjstxBM3QuY",
        "outputId": "9df838f0-c0d3-4a60-d421-67138cca44b6"
      },
      "outputs": [
        {
          "output_type": "stream",
          "name": "stdout",
          "text": [
            "Drive already mounted at drive; to attempt to forcibly remount, call drive.mount(\"drive\", force_remount=True).\n"
          ]
        }
      ],
      "source": [
        "import pandas as pd\n",
        "import numpy as np\n",
        "\n",
        "from google.colab import drive\n",
        "drive.mount('drive')"
      ]
    },
    {
      "cell_type": "code",
      "source": [
        "# reading in data\n",
        "PATH = 'drive/MyDrive/DM+DL órák anyagai/AI képzés DM gyakorlatok/Competition 4 data/' # path to data (modify this accordingly)\n",
        "imgs = np.load(PATH + 'imgs.npy')\n",
        "df = pd.read_csv(PATH + 'train.csv')\n",
        "\n",
        "# separating target variable and image indices\n",
        "y = (df['Prognosis'] == 'SEVERE').astype(int)\n",
        "imgs_idcs = df['Image']\n",
        "df.drop(['Row_number', 'Death', 'Prognosis'], axis = 1, inplace = True)\n",
        "\n",
        "# one-hot encoding for hospitals\n",
        "df = pd.get_dummies(df, columns = ['Hospital'], prefix = 'Hospital')\n",
        "\n",
        "# preprocessing\n",
        "df.fillna(value = df.mean(), inplace = True) # imputing with mean\n",
        "df = df / df.abs().max() # max abs scaling\n",
        "\n",
        "# performing train/val split\n",
        "y_train, y_val = y[:800], y[800:]\n",
        "train_idcs, val_idcs = imgs_idcs[:800], imgs_idcs[800:]\n",
        "x_train, x_val = df.iloc[:800], df.iloc[800:] "
      ],
      "metadata": {
        "id": "Kgzf0MDB3g6V"
      },
      "execution_count": null,
      "outputs": []
    },
    {
      "cell_type": "code",
      "source": [
        "import torch\n",
        "\n",
        "# custom dataset object\n",
        "class CustomDataset(torch.utils.data.Dataset):\n",
        "    def __init__(self, tabular, target, img_idcs, transforms = None, img_channel_number = 3):\n",
        "        self.tabular = tabular\n",
        "        self.target = target\n",
        "        self.img_idcs = img_idcs\n",
        "        self.transforms = transforms\n",
        "        self.num_channels = img_channel_number\n",
        "    \n",
        "    def __getitem__(self, idx):\n",
        "        tabular = torch.FloatTensor(self.tabular.iloc[idx]) # convert tabular data to tensor\n",
        "        target = torch.FloatTensor([self.target.iloc[idx]])\n",
        "\n",
        "        img_idx = self.img_idcs.iloc[idx] # get index of corresponding image\n",
        "        img = torch.FloatTensor(imgs[img_idx])\n",
        "        img = torch.stack([img for _ in range(self.num_channels)]) # convert image to greyscale with given channel numbers\n",
        "        if self.transforms: # optional transforms\n",
        "            img = self.transforms(img)\n",
        "        return {'img': img, 'target': target, 'tabular': tabular}\n",
        "\n",
        "    def __len__(self):\n",
        "        return len(self.target)"
      ],
      "metadata": {
        "id": "TWXnY3YV4Fct"
      },
      "execution_count": null,
      "outputs": []
    },
    {
      "cell_type": "code",
      "source": [
        "import torchvision\n",
        "\n",
        "# define train and val ds\n",
        "train_trsfs = torchvision.transforms.Compose([\n",
        "                                              torchvision.transforms.Normalize([0.5, 0.5, 0.5], [0.25, 0.25, 0.25]),\n",
        "                                              torchvision.transforms.RandomRotation(degrees = 15)\n",
        "])\n",
        "val_trsfs = torchvision.transforms.Normalize([0.5, 0.5, 0.5], [0.25, 0.25, 0.25])\n",
        "\n",
        "train_ds = CustomDataset(x_train, y_train, train_idcs, transforms = train_trsfs)\n",
        "val_ds = CustomDataset(x_val, y_val, val_idcs, transforms = val_trsfs)\n",
        "\n",
        "# batching\n",
        "train_data = torch.utils.data.DataLoader(train_ds, shuffle = True, batch_size = 32)\n",
        "val_data = torch.utils.data.DataLoader(val_ds, batch_size = 32)"
      ],
      "metadata": {
        "id": "kn0MPXOD_C6R"
      },
      "execution_count": null,
      "outputs": []
    },
    {
      "cell_type": "markdown",
      "source": [
        "## NN as feature extractor "
      ],
      "metadata": {
        "id": "edpnr3qDCkaW"
      }
    },
    {
      "cell_type": "markdown",
      "source": [
        "*  we train a NN on the images, but instead of using its output, we use its hidden representation as additional features for a traditional ML model"
      ],
      "metadata": {
        "id": "cQ7HSijcCvK2"
      }
    },
    {
      "cell_type": "code",
      "source": [
        "# training loop\n",
        "def train(model, loss_fn, optim, num_epochs = 5):\n",
        "    device = 'cuda' if torch.cuda.is_available() else 'cpu'\n",
        "    train_accs, val_accs = [], []\n",
        "    model.to(device)\n",
        "    for _ in range(num_epochs):\n",
        "        model.train()\n",
        "        accs = []\n",
        "        for batch in train_data:\n",
        "            optim.zero_grad()\n",
        "            pred = model(batch['img'].to(device))\n",
        "            y = batch['target'].to(device)\n",
        "            accs.append(torch.sum((pred > 0.5) == y).item())\n",
        "            loss = loss_fn(pred, y)\n",
        "            loss.backward()\n",
        "            optim.step()\n",
        "        train_accs.append(np.sum(accs) / len(train_ds))\n",
        "\n",
        "        model.eval()\n",
        "        accs = []\n",
        "        with torch.no_grad():\n",
        "            for batch in val_data:\n",
        "                pred = model(batch['img'].to(device))\n",
        "                accs.append(torch.sum((pred > 0.5) == batch['target'].to(device)).item())\n",
        "        val_accs.append(np.sum(accs) / len(val_ds))\n",
        "    model.to('cpu')\n",
        "    return train_accs, val_accs"
      ],
      "metadata": {
        "id": "bD24AFKNDVCP"
      },
      "execution_count": null,
      "outputs": []
    },
    {
      "cell_type": "code",
      "source": [
        "conv_model = torchvision.models.resnet18(pretrained = True) # load model\n",
        "conv_model.fc = torch.nn.Sequential( # replace last layer\n",
        "        torch.nn.Linear(in_features = 512, out_features = 32),\n",
        "        torch.nn.Linear(in_features = 32, out_features = 1),\n",
        "        torch.nn.Sigmoid())\n",
        "\n",
        "loss = torch.nn.BCELoss()\n",
        "optim = torch.optim.Adam(conv_model.parameters(), lr = 1e-5, weight_decay = 1e-4)"
      ],
      "metadata": {
        "id": "0QrtMJCjBVwb"
      },
      "execution_count": null,
      "outputs": []
    },
    {
      "cell_type": "code",
      "source": [
        "train_accs, val_accs = train(conv_model, loss, optim)"
      ],
      "metadata": {
        "id": "zuCfsoxjDr18"
      },
      "execution_count": null,
      "outputs": []
    },
    {
      "cell_type": "code",
      "source": [
        "from matplotlib import pyplot as plt\n",
        "\n",
        "plt.figure(figsize = (6, 6))\n",
        "plt.plot(train_accs, label = 'train')\n",
        "plt.plot(val_accs, label = 'val')\n",
        "plt.legend()\n",
        "plt.show()"
      ],
      "metadata": {
        "colab": {
          "base_uri": "https://localhost:8080/",
          "height": 374
        },
        "id": "GpHk6GuVIq8Y",
        "outputId": "e333aa02-480b-4328-f472-dcbe0aa0d1a3"
      },
      "execution_count": null,
      "outputs": [
        {
          "output_type": "display_data",
          "data": {
            "text/plain": [
              "<Figure size 432x432 with 1 Axes>"
            ],
            "image/png": "[encoded data removed]"
          },
          "metadata": {
            "needs_background": "light"
          }
        }
      ]
    },
    {
      "cell_type": "code",
      "source": [
        "print('Final accuracy on validation set: {:.2f}%'.format(100 * val_accs[-1]))"
      ],
      "metadata": {
        "colab": {
          "base_uri": "https://localhost:8080/"
        },
        "id": "0ReoGPtJYwez",
        "outputId": "16941bc0-0f5a-4f13-d679-5cae6c1ae424"
      },
      "execution_count": null,
      "outputs": [
        {
          "output_type": "stream",
          "name": "stdout",
          "text": [
            "Final accuracy on validation set: 67.89%\n"
          ]
        }
      ]
    },
    {
      "cell_type": "code",
      "source": [
        "# get inner representation (output of the first dense layer)\n",
        "def get_inner_repr(model, x):\n",
        "    repr = None\n",
        "    def _hook(module_, input_, output_):\n",
        "        nonlocal repr\n",
        "        repr = output_\n",
        "    hook = model.fc[0].register_forward_hook(_hook)\n",
        "    model(x)\n",
        "    hook.remove()\n",
        "    return repr.to('cpu')"
      ],
      "metadata": {
        "id": "vDIEPeL9UPn_"
      },
      "execution_count": null,
      "outputs": []
    },
    {
      "cell_type": "code",
      "source": [
        "preds = []\n",
        "conv_model.to('cuda')\n",
        "conv_model.eval()\n",
        "with torch.no_grad():\n",
        "    for i in range(len(df)):\n",
        "        torch.cuda.empty_cache()\n",
        "        img = imgs[imgs_idcs.iloc[i]]\n",
        "        img = torch.FloatTensor(img)\n",
        "        img = torch.stack([img for _ in range(3)])    \n",
        "        img = val_trsfs(img)\n",
        "        batched_img = img.reshape((1, *img.shape)).to('cuda')\n",
        "        preds.append(get_inner_repr(conv_model, batched_img))\n",
        "conv_model = conv_model.to('cpu')"
      ],
      "metadata": {
        "id": "v1BIehueTUow"
      },
      "execution_count": null,
      "outputs": []
    },
    {
      "cell_type": "code",
      "source": [
        "# add image represenations to dataset\n",
        "df[[f'feature{i+1}' for i in range(32)]] = np.array([np.array(pred.flatten()) for pred in preds])"
      ],
      "metadata": {
        "id": "xzy4iHSiV-Hu"
      },
      "execution_count": null,
      "outputs": []
    },
    {
      "cell_type": "code",
      "source": [
        "from sklearn.svm import SVC\n",
        "from sklearn.metrics import balanced_accuracy_score\n",
        "\n",
        "svm = SVC(kernel = 'rbf')\n",
        "svm.fit(x_train, y_train)\n",
        "print('Baseline performance: {:.2f}%'.format(100 * balanced_accuracy_score(svm.predict(x_val), y_val)))\n",
        "\n",
        "# get performance with added features\n",
        "x_train_2, x_val_2 = df.iloc[:800], df.iloc[800:]\n",
        "svm.fit(x_train_2, y_train)\n",
        "print('Performance with added features: {:.2f}%'.format(100* balanced_accuracy_score(svm.predict(x_val_2), y_val)))"
      ],
      "metadata": {
        "colab": {
          "base_uri": "https://localhost:8080/"
        },
        "id": "-iymUJrbWc18",
        "outputId": "bf8d640d-02b6-4b16-df72-523a47322c58"
      },
      "execution_count": null,
      "outputs": [
        {
          "output_type": "stream",
          "name": "stdout",
          "text": [
            "Baseline performance: 66.36%\n",
            "Performance with added features: 70.07%\n"
          ]
        }
      ]
    },
    {
      "cell_type": "markdown",
      "source": [
        "## NN model trained on all kinds of data"
      ],
      "metadata": {
        "id": "slnqy7tnD0LZ"
      }
    },
    {
      "cell_type": "markdown",
      "source": [
        "* we train one NN model on all data\n",
        "* it should learn an image representation best suited to augment the tabular data\n",
        "* might require more precise hyperparameter optimisation\n",
        "* might be harder to train"
      ],
      "metadata": {
        "id": "0RWKtiMpD4kC"
      }
    },
    {
      "cell_type": "code",
      "source": [
        "# build NN model to predict from both image and tabular data\n",
        "class MixedModel(torch.nn.Module):\n",
        "    def __init__(self):\n",
        "        super().__init__()\n",
        "        conv_model = torchvision.models.resnet18(pretrained = True)\n",
        "        conv_model.fc = torch.nn.Linear(in_features = 512, out_features = 32)\n",
        "        self.conv_model = conv_model\n",
        "\n",
        "        self.tabular_model = torch.nn.Linear(in_features = 42, out_features = 32)\n",
        "        self.dropout = torch.nn.Dropout(p = 0.4)\n",
        "        self.final_layer = torch.nn.Linear(in_features = 64, out_features = 1)\n",
        "    \n",
        "    def forward(self, img, tabular):\n",
        "        x1 = self.conv_model(img)\n",
        "        x1 = torch.nn.functional.relu(x1)\n",
        "\n",
        "        x2 = self.tabular_model(tabular)\n",
        "        x2 = torch.nn.functional.leaky_relu(x2, negative_slope = 0.2)\n",
        "        x = torch.cat([x1, x2], axis = 1)\n",
        "        x = self.dropout(x)\n",
        "        x = self.final_layer(x)\n",
        "        return torch.sigmoid(x)"
      ],
      "metadata": {
        "id": "VM8c_fWpKMf4"
      },
      "execution_count": null,
      "outputs": []
    },
    {
      "cell_type": "code",
      "source": [
        "# training loop\n",
        "def train_with_tabular(model, loss_fn, optim, num_epochs = 5):\n",
        "    device = 'cuda' if torch.cuda.is_available() else 'cpu'\n",
        "    train_accs, val_accs = [], []\n",
        "    model.to(device)\n",
        "    for _ in range(num_epochs):\n",
        "        model.train()\n",
        "        accs = []\n",
        "        for batch in train_data:\n",
        "            optim.zero_grad()\n",
        "            img, tabular = batch['img'].to(device), batch['tabular'].to(device)\n",
        "            pred = model(img, tabular)\n",
        "            y = batch['target'].to(device)\n",
        "            accs.append(torch.sum((pred > 0.5) == y).item())\n",
        "            loss = loss_fn(pred, y)\n",
        "            loss.backward()\n",
        "            optim.step()\n",
        "        train_accs.append(np.sum(accs) / len(train_ds))\n",
        "\n",
        "        model.eval()\n",
        "        accs = []\n",
        "        with torch.no_grad():\n",
        "            for batch in val_data:\n",
        "                img, tabular = batch['img'].to(device), batch['tabular'].to(device)\n",
        "                pred = model(img, tabular)\n",
        "                accs.append(torch.sum((pred > 0.5) == batch['target'].to(device)).item())\n",
        "        val_accs.append(np.sum(accs) / len(val_ds))\n",
        "    model.to('cpu')\n",
        "    return train_accs, val_accs"
      ],
      "metadata": {
        "id": "z-xsGdrkMcMN"
      },
      "execution_count": null,
      "outputs": []
    },
    {
      "cell_type": "code",
      "source": [
        "mixed_model = MixedModel()\n",
        "\n",
        "loss = torch.nn.BCELoss()\n",
        "optim = torch.optim.Adam(mixed_model.parameters(), lr = 1e-5, weight_decay = 1e-4)"
      ],
      "metadata": {
        "id": "YtKGZAVKMvP7"
      },
      "execution_count": null,
      "outputs": []
    },
    {
      "cell_type": "code",
      "source": [
        "train_accs, val_accs = train_with_tabular(mixed_model, loss, optim, num_epochs = 10)"
      ],
      "metadata": {
        "id": "AFal3zoYM7VV"
      },
      "execution_count": null,
      "outputs": []
    },
    {
      "cell_type": "code",
      "source": [
        "plt.figure(figsize = (6, 6))\n",
        "plt.plot(train_accs, label = 'train')\n",
        "plt.plot(val_accs, label = 'val')\n",
        "plt.legend()\n",
        "plt.show()"
      ],
      "metadata": {
        "colab": {
          "base_uri": "https://localhost:8080/",
          "height": 374
        },
        "id": "kaHSlQ6ERWDG",
        "outputId": "12069358-fd7c-45eb-88e7-4b284b755612"
      },
      "execution_count": null,
      "outputs": [
        {
          "output_type": "display_data",
          "data": {
            "text/plain": [
              "<Figure size 432x432 with 1 Axes>"
            ],
            "image/png": "[encoded data removed]"
          },
          "metadata": {
            "needs_background": "light"
          }
        }
      ]
    },
    {
      "cell_type": "code",
      "source": [
        "print('Final accuracy on validation set: {:.2f}%'.format(100 * val_accs[-1]))"
      ],
      "metadata": {
        "colab": {
          "base_uri": "https://localhost:8080/"
        },
        "id": "PU49VKRgZBcl",
        "outputId": "662fe99b-deda-45c2-cb34-edcdaa977ff6"
      },
      "execution_count": null,
      "outputs": [
        {
          "output_type": "stream",
          "name": "stdout",
          "text": [
            "Final accuracy on validation set: 66.46%\n"
          ]
        }
      ]
    }
  ]
}