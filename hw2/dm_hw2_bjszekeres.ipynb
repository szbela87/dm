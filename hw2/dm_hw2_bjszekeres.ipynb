{
 "cells": [
  {
   "cell_type": "markdown",
   "id": "080dc546-31ed-4304-beb5-b49d453016ee",
   "metadata": {},
   "source": [
    "# Introduction\n",
    "\n",
    "About the task\n",
    "--------------\n",
    "\n",
    "This data set contains information on customers of an insurance company. \n",
    "The data consists of 86 variables and includes product usage data and socio-demographic data derived from zip area codes. \n",
    "The data was collected to answer the following question: Can you predict who would be interested in buying a caravan insurance policy and give an explanation why? \n",
    "\n",
    "Information about customers consists of 86 variables and includes product usage data and socio-demographic data derived from zip area codes. \n",
    "The data was supplied by the Dutch data mining company Sentient Machine Research \n",
    "and is based on a real world business problem. The training set contains over 5000 descriptions of customers, \n",
    "including the information of whether or not they have a caravan insurance policy. \n",
    "A test set contains 4000 customers of whom only the organisers know if they have a caravan insurance policy.\n",
    "\n",
    "Each observation corresponds to a postal code. \n",
    "Variables beginning with M refer to demographic statistics of the postal code, \n",
    "while variables beginning with P and A (as well as CARAVAN, the target variable) refer to product ownership and insurance statistics in the postal code.\n",
    "\n",
    "The details about the features are available in the https://github.com/szbela87/dm/blob/main/hw2/description.txt file.\n",
    "\n",
    "\n",
    "Competition rules\n",
    "-----------------\n",
    "\n",
    "Objective: predict the CARAVAN column of the evaluation data\n",
    "\n",
    "Models:\n",
    "\n",
    "    * first competition: only random forests\n",
    "    * second competition: any model\n",
    "\n",
    "Metric: balanced accuracy"
   ]
  },
  {
   "cell_type": "code",
   "execution_count": 1,
   "id": "a4dd94e5-c602-4f51-a7b8-e5b7273951d1",
   "metadata": {},
   "outputs": [],
   "source": [
    "%matplotlib inline\n",
    "import pandas as pd\n",
    "import numpy as np\n",
    "import matplotlib.pyplot as plt\n",
    "import seaborn as sns\n",
    "import warnings\n",
    "warnings.filterwarnings('ignore')"
   ]
  },
  {
   "cell_type": "markdown",
   "id": "d1d17ccf-9575-407b-a4ed-d7d24d00bb63",
   "metadata": {},
   "source": [
    "# Loading the data"
   ]
  },
  {
   "cell_type": "code",
   "execution_count": 2,
   "id": "7edbe8e5-a36a-473e-80b5-370b4d75798a",
   "metadata": {},
   "outputs": [],
   "source": [
    "df = pd.read_csv(\"https://raw.githubusercontent.com/szbela87/dm/main/hw2/ticdata2000.txt\",sep=\"\\t\",header=None)"
   ]
  },
  {
   "cell_type": "code",
   "execution_count": 3,
   "id": "5c46f7cf-58b5-4ccf-9948-e00add05ae5e",
   "metadata": {},
   "outputs": [],
   "source": [
    "df_test = pd.read_csv(\"https://raw.githubusercontent.com/szbela87/dm/main/hw2/ticeval2000.txt\",sep=\"\\t\",header=None)"
   ]
  },
  {
   "cell_type": "code",
   "execution_count": 4,
   "id": "73cf7a7a-047a-4bc9-83e3-0ff86a4c19eb",
   "metadata": {},
   "outputs": [
    {
     "data": {
      "text/html": [
       "<div>\n",
       "<style scoped>\n",
       "    .dataframe tbody tr th:only-of-type {\n",
       "        vertical-align: middle;\n",
       "    }\n",
       "\n",
       "    .dataframe tbody tr th {\n",
       "        vertical-align: top;\n",
       "    }\n",
       "\n",
       "    .dataframe thead th {\n",
       "        text-align: right;\n",
       "    }\n",
       "</style>\n",
       "<table border=\"1\" class=\"dataframe\">\n",
       "  <thead>\n",
       "    <tr style=\"text-align: right;\">\n",
       "      <th></th>\n",
       "      <th>0</th>\n",
       "      <th>1</th>\n",
       "      <th>2</th>\n",
       "      <th>3</th>\n",
       "      <th>4</th>\n",
       "      <th>5</th>\n",
       "      <th>6</th>\n",
       "      <th>7</th>\n",
       "      <th>8</th>\n",
       "      <th>9</th>\n",
       "      <th>...</th>\n",
       "      <th>76</th>\n",
       "      <th>77</th>\n",
       "      <th>78</th>\n",
       "      <th>79</th>\n",
       "      <th>80</th>\n",
       "      <th>81</th>\n",
       "      <th>82</th>\n",
       "      <th>83</th>\n",
       "      <th>84</th>\n",
       "      <th>85</th>\n",
       "    </tr>\n",
       "  </thead>\n",
       "  <tbody>\n",
       "    <tr>\n",
       "      <th>0</th>\n",
       "      <td>33</td>\n",
       "      <td>1</td>\n",
       "      <td>3</td>\n",
       "      <td>2</td>\n",
       "      <td>8</td>\n",
       "      <td>0</td>\n",
       "      <td>5</td>\n",
       "      <td>1</td>\n",
       "      <td>3</td>\n",
       "      <td>7</td>\n",
       "      <td>...</td>\n",
       "      <td>0</td>\n",
       "      <td>0</td>\n",
       "      <td>0</td>\n",
       "      <td>1</td>\n",
       "      <td>0</td>\n",
       "      <td>0</td>\n",
       "      <td>0</td>\n",
       "      <td>0</td>\n",
       "      <td>0</td>\n",
       "      <td>0</td>\n",
       "    </tr>\n",
       "    <tr>\n",
       "      <th>1</th>\n",
       "      <td>37</td>\n",
       "      <td>1</td>\n",
       "      <td>2</td>\n",
       "      <td>2</td>\n",
       "      <td>8</td>\n",
       "      <td>1</td>\n",
       "      <td>4</td>\n",
       "      <td>1</td>\n",
       "      <td>4</td>\n",
       "      <td>6</td>\n",
       "      <td>...</td>\n",
       "      <td>0</td>\n",
       "      <td>0</td>\n",
       "      <td>0</td>\n",
       "      <td>1</td>\n",
       "      <td>0</td>\n",
       "      <td>0</td>\n",
       "      <td>0</td>\n",
       "      <td>0</td>\n",
       "      <td>0</td>\n",
       "      <td>0</td>\n",
       "    </tr>\n",
       "    <tr>\n",
       "      <th>2</th>\n",
       "      <td>37</td>\n",
       "      <td>1</td>\n",
       "      <td>2</td>\n",
       "      <td>2</td>\n",
       "      <td>8</td>\n",
       "      <td>0</td>\n",
       "      <td>4</td>\n",
       "      <td>2</td>\n",
       "      <td>4</td>\n",
       "      <td>3</td>\n",
       "      <td>...</td>\n",
       "      <td>0</td>\n",
       "      <td>0</td>\n",
       "      <td>0</td>\n",
       "      <td>1</td>\n",
       "      <td>0</td>\n",
       "      <td>0</td>\n",
       "      <td>0</td>\n",
       "      <td>0</td>\n",
       "      <td>0</td>\n",
       "      <td>0</td>\n",
       "    </tr>\n",
       "    <tr>\n",
       "      <th>3</th>\n",
       "      <td>9</td>\n",
       "      <td>1</td>\n",
       "      <td>3</td>\n",
       "      <td>3</td>\n",
       "      <td>3</td>\n",
       "      <td>2</td>\n",
       "      <td>3</td>\n",
       "      <td>2</td>\n",
       "      <td>4</td>\n",
       "      <td>5</td>\n",
       "      <td>...</td>\n",
       "      <td>0</td>\n",
       "      <td>0</td>\n",
       "      <td>0</td>\n",
       "      <td>1</td>\n",
       "      <td>0</td>\n",
       "      <td>0</td>\n",
       "      <td>0</td>\n",
       "      <td>0</td>\n",
       "      <td>0</td>\n",
       "      <td>0</td>\n",
       "    </tr>\n",
       "    <tr>\n",
       "      <th>4</th>\n",
       "      <td>40</td>\n",
       "      <td>1</td>\n",
       "      <td>4</td>\n",
       "      <td>2</td>\n",
       "      <td>10</td>\n",
       "      <td>1</td>\n",
       "      <td>4</td>\n",
       "      <td>1</td>\n",
       "      <td>4</td>\n",
       "      <td>7</td>\n",
       "      <td>...</td>\n",
       "      <td>0</td>\n",
       "      <td>0</td>\n",
       "      <td>0</td>\n",
       "      <td>1</td>\n",
       "      <td>0</td>\n",
       "      <td>0</td>\n",
       "      <td>0</td>\n",
       "      <td>0</td>\n",
       "      <td>0</td>\n",
       "      <td>0</td>\n",
       "    </tr>\n",
       "  </tbody>\n",
       "</table>\n",
       "<p>5 rows × 86 columns</p>\n",
       "</div>"
      ],
      "text/plain": [
       "   0   1   2   3   4   5   6   7   8   9   ...  76  77  78  79  80  81  82  \\\n",
       "0  33   1   3   2   8   0   5   1   3   7  ...   0   0   0   1   0   0   0   \n",
       "1  37   1   2   2   8   1   4   1   4   6  ...   0   0   0   1   0   0   0   \n",
       "2  37   1   2   2   8   0   4   2   4   3  ...   0   0   0   1   0   0   0   \n",
       "3   9   1   3   3   3   2   3   2   4   5  ...   0   0   0   1   0   0   0   \n",
       "4  40   1   4   2  10   1   4   1   4   7  ...   0   0   0   1   0   0   0   \n",
       "\n",
       "   83  84  85  \n",
       "0   0   0   0  \n",
       "1   0   0   0  \n",
       "2   0   0   0  \n",
       "3   0   0   0  \n",
       "4   0   0   0  \n",
       "\n",
       "[5 rows x 86 columns]"
      ]
     },
     "execution_count": 4,
     "metadata": {},
     "output_type": "execute_result"
    }
   ],
   "source": [
    "df.head()"
   ]
  },
  {
   "cell_type": "code",
   "execution_count": 5,
   "id": "084185a5-796a-4aa1-b29e-f3c36339b035",
   "metadata": {},
   "outputs": [
    {
     "data": {
      "text/html": [
       "<div>\n",
       "<style scoped>\n",
       "    .dataframe tbody tr th:only-of-type {\n",
       "        vertical-align: middle;\n",
       "    }\n",
       "\n",
       "    .dataframe tbody tr th {\n",
       "        vertical-align: top;\n",
       "    }\n",
       "\n",
       "    .dataframe thead th {\n",
       "        text-align: right;\n",
       "    }\n",
       "</style>\n",
       "<table border=\"1\" class=\"dataframe\">\n",
       "  <thead>\n",
       "    <tr style=\"text-align: right;\">\n",
       "      <th></th>\n",
       "      <th>0</th>\n",
       "      <th>1</th>\n",
       "      <th>2</th>\n",
       "      <th>3</th>\n",
       "      <th>4</th>\n",
       "      <th>5</th>\n",
       "      <th>6</th>\n",
       "      <th>7</th>\n",
       "      <th>8</th>\n",
       "      <th>9</th>\n",
       "      <th>...</th>\n",
       "      <th>75</th>\n",
       "      <th>76</th>\n",
       "      <th>77</th>\n",
       "      <th>78</th>\n",
       "      <th>79</th>\n",
       "      <th>80</th>\n",
       "      <th>81</th>\n",
       "      <th>82</th>\n",
       "      <th>83</th>\n",
       "      <th>84</th>\n",
       "    </tr>\n",
       "  </thead>\n",
       "  <tbody>\n",
       "    <tr>\n",
       "      <th>0</th>\n",
       "      <td>33</td>\n",
       "      <td>1</td>\n",
       "      <td>4</td>\n",
       "      <td>2</td>\n",
       "      <td>8</td>\n",
       "      <td>0</td>\n",
       "      <td>6</td>\n",
       "      <td>0</td>\n",
       "      <td>3</td>\n",
       "      <td>5</td>\n",
       "      <td>...</td>\n",
       "      <td>0</td>\n",
       "      <td>0</td>\n",
       "      <td>0</td>\n",
       "      <td>0</td>\n",
       "      <td>1</td>\n",
       "      <td>0</td>\n",
       "      <td>0</td>\n",
       "      <td>0</td>\n",
       "      <td>0</td>\n",
       "      <td>0</td>\n",
       "    </tr>\n",
       "    <tr>\n",
       "      <th>1</th>\n",
       "      <td>6</td>\n",
       "      <td>1</td>\n",
       "      <td>3</td>\n",
       "      <td>2</td>\n",
       "      <td>2</td>\n",
       "      <td>0</td>\n",
       "      <td>5</td>\n",
       "      <td>0</td>\n",
       "      <td>4</td>\n",
       "      <td>5</td>\n",
       "      <td>...</td>\n",
       "      <td>2</td>\n",
       "      <td>0</td>\n",
       "      <td>0</td>\n",
       "      <td>0</td>\n",
       "      <td>1</td>\n",
       "      <td>0</td>\n",
       "      <td>0</td>\n",
       "      <td>0</td>\n",
       "      <td>0</td>\n",
       "      <td>0</td>\n",
       "    </tr>\n",
       "    <tr>\n",
       "      <th>2</th>\n",
       "      <td>39</td>\n",
       "      <td>1</td>\n",
       "      <td>3</td>\n",
       "      <td>3</td>\n",
       "      <td>9</td>\n",
       "      <td>1</td>\n",
       "      <td>4</td>\n",
       "      <td>2</td>\n",
       "      <td>3</td>\n",
       "      <td>5</td>\n",
       "      <td>...</td>\n",
       "      <td>1</td>\n",
       "      <td>0</td>\n",
       "      <td>0</td>\n",
       "      <td>0</td>\n",
       "      <td>1</td>\n",
       "      <td>0</td>\n",
       "      <td>0</td>\n",
       "      <td>0</td>\n",
       "      <td>0</td>\n",
       "      <td>0</td>\n",
       "    </tr>\n",
       "    <tr>\n",
       "      <th>3</th>\n",
       "      <td>9</td>\n",
       "      <td>1</td>\n",
       "      <td>2</td>\n",
       "      <td>3</td>\n",
       "      <td>3</td>\n",
       "      <td>2</td>\n",
       "      <td>3</td>\n",
       "      <td>2</td>\n",
       "      <td>4</td>\n",
       "      <td>5</td>\n",
       "      <td>...</td>\n",
       "      <td>0</td>\n",
       "      <td>0</td>\n",
       "      <td>0</td>\n",
       "      <td>0</td>\n",
       "      <td>1</td>\n",
       "      <td>0</td>\n",
       "      <td>0</td>\n",
       "      <td>0</td>\n",
       "      <td>0</td>\n",
       "      <td>0</td>\n",
       "    </tr>\n",
       "    <tr>\n",
       "      <th>4</th>\n",
       "      <td>31</td>\n",
       "      <td>1</td>\n",
       "      <td>2</td>\n",
       "      <td>4</td>\n",
       "      <td>7</td>\n",
       "      <td>0</td>\n",
       "      <td>2</td>\n",
       "      <td>0</td>\n",
       "      <td>7</td>\n",
       "      <td>9</td>\n",
       "      <td>...</td>\n",
       "      <td>0</td>\n",
       "      <td>0</td>\n",
       "      <td>0</td>\n",
       "      <td>0</td>\n",
       "      <td>1</td>\n",
       "      <td>0</td>\n",
       "      <td>0</td>\n",
       "      <td>0</td>\n",
       "      <td>0</td>\n",
       "      <td>0</td>\n",
       "    </tr>\n",
       "  </tbody>\n",
       "</table>\n",
       "<p>5 rows × 85 columns</p>\n",
       "</div>"
      ],
      "text/plain": [
       "   0   1   2   3   4   5   6   7   8   9   ...  75  76  77  78  79  80  81  \\\n",
       "0  33   1   4   2   8   0   6   0   3   5  ...   0   0   0   0   1   0   0   \n",
       "1   6   1   3   2   2   0   5   0   4   5  ...   2   0   0   0   1   0   0   \n",
       "2  39   1   3   3   9   1   4   2   3   5  ...   1   0   0   0   1   0   0   \n",
       "3   9   1   2   3   3   2   3   2   4   5  ...   0   0   0   0   1   0   0   \n",
       "4  31   1   2   4   7   0   2   0   7   9  ...   0   0   0   0   1   0   0   \n",
       "\n",
       "   82  83  84  \n",
       "0   0   0   0  \n",
       "1   0   0   0  \n",
       "2   0   0   0  \n",
       "3   0   0   0  \n",
       "4   0   0   0  \n",
       "\n",
       "[5 rows x 85 columns]"
      ]
     },
     "execution_count": 5,
     "metadata": {},
     "output_type": "execute_result"
    }
   ],
   "source": [
    "df_test.head()"
   ]
  },
  {
   "cell_type": "code",
   "execution_count": 6,
   "id": "ca7ab4b8-efd1-475c-8c59-9200540243ca",
   "metadata": {},
   "outputs": [],
   "source": [
    "feature_names = ['MOSTYPE' , 'MAANTHUI' , 'MGEMOMV' , 'MGEMLEEF' , 'MOSHOOFD' , 'MGODRK' , 'MGODPR' , 'MGODOV' , 'MGODGE' , 'MRELGE' , 'MRELSA' , 'MRELOV' , 'MFALLEEN' , 'MFGEKIND' , 'MFWEKIND' , 'MOPLHOOG' , 'MOPLMIDD' , 'MOPLLAAG' , 'MBERHOOG' , 'MBERZELF' , 'MBERBOER' , 'MBERMIDD' , 'MBERARBG' , 'MBERARBO' , 'MSKA' , 'MSKB1' , 'MSKB2' , 'MSKC' , 'MSKD' , 'MHHUUR' , 'MHKOOP' , 'MAUT1' , 'MAUT2' , 'MAUT0' , 'MZFONDS' , 'MZPART' , 'MINKM30' , 'MINK3045' , 'MINK4575' , 'MINK7512' , 'MINK123M' , 'MINKGEM' , 'MKOOPKLA' , 'PWAPART' , 'PWABEDR' , 'PWALAND' , 'PPERSAUT' , 'PBESAUT' , 'PMOTSCO' , 'PVRAAUT' , 'PAANHANG' , 'PTRACTOR' , 'PWERKT' , 'PBROM' , 'PLEVEN' , 'PPERSONG' , 'PGEZONG' , 'PWAOREG' , 'PBRAND' , 'PZEILPL' , 'PPLEZIER' , 'PFIETS' , 'PINBOED' , 'PBYSTAND' , 'AWAPART' , 'AWABEDR' , 'AWALAND' , 'APERSAUT' , 'ABESAUT' , 'AMOTSCO' , 'AVRAAUT' , 'AAANHANG' , 'ATRACTOR' , 'AWERKT' , 'ABROM' , 'ALEVEN' , 'APERSONG' , 'AGEZONG' , 'AWAOREG' , 'ABRAND' , 'AZEILPL' , 'APLEZIER' , 'AFIETS' , 'AINBOED' , 'ABYSTAND' , 'CARAVAN']\n"
   ]
  },
  {
   "cell_type": "code",
   "execution_count": 7,
   "id": "dd9db25b-9297-4805-b079-7c34b0442d36",
   "metadata": {},
   "outputs": [],
   "source": [
    "# renaming the columns - thanks for Márton Pesti for the feature_names.txt file :)"
   ]
  },
  {
   "cell_type": "code",
   "execution_count": 8,
   "id": "a3c26be7-d233-40b0-973d-d2b961eb48fe",
   "metadata": {},
   "outputs": [],
   "source": [
    "name_dict = {i: feature_names[i] for i in range(len(feature_names))}"
   ]
  },
  {
   "cell_type": "code",
   "execution_count": 9,
   "id": "38dcee52-9d96-490d-a471-17e28708b355",
   "metadata": {},
   "outputs": [
    {
     "data": {
      "text/plain": [
       "'MAANTHUI'"
      ]
     },
     "execution_count": 9,
     "metadata": {},
     "output_type": "execute_result"
    }
   ],
   "source": [
    "name_dict[1]"
   ]
  },
  {
   "cell_type": "code",
   "execution_count": 10,
   "id": "dc4d883c-9e5a-4bc4-a8ae-10607bfbc666",
   "metadata": {},
   "outputs": [],
   "source": [
    "df = df.rename(name_dict,axis=1)"
   ]
  },
  {
   "cell_type": "code",
   "execution_count": 11,
   "id": "f86312c5-2a7c-48f7-a3e6-71ca6068d015",
   "metadata": {},
   "outputs": [],
   "source": [
    "df_test = df_test.rename(name_dict,axis=1)"
   ]
  },
  {
   "cell_type": "code",
   "execution_count": 12,
   "id": "1e3fa9bd-2736-4452-91c9-fb59d35c62ce",
   "metadata": {},
   "outputs": [
    {
     "data": {
      "text/html": [
       "<div>\n",
       "<style scoped>\n",
       "    .dataframe tbody tr th:only-of-type {\n",
       "        vertical-align: middle;\n",
       "    }\n",
       "\n",
       "    .dataframe tbody tr th {\n",
       "        vertical-align: top;\n",
       "    }\n",
       "\n",
       "    .dataframe thead th {\n",
       "        text-align: right;\n",
       "    }\n",
       "</style>\n",
       "<table border=\"1\" class=\"dataframe\">\n",
       "  <thead>\n",
       "    <tr style=\"text-align: right;\">\n",
       "      <th></th>\n",
       "      <th>MOSTYPE</th>\n",
       "      <th>MAANTHUI</th>\n",
       "      <th>MGEMOMV</th>\n",
       "      <th>MGEMLEEF</th>\n",
       "      <th>MOSHOOFD</th>\n",
       "      <th>MGODRK</th>\n",
       "      <th>MGODPR</th>\n",
       "      <th>MGODOV</th>\n",
       "      <th>MGODGE</th>\n",
       "      <th>MRELGE</th>\n",
       "      <th>...</th>\n",
       "      <th>APERSONG</th>\n",
       "      <th>AGEZONG</th>\n",
       "      <th>AWAOREG</th>\n",
       "      <th>ABRAND</th>\n",
       "      <th>AZEILPL</th>\n",
       "      <th>APLEZIER</th>\n",
       "      <th>AFIETS</th>\n",
       "      <th>AINBOED</th>\n",
       "      <th>ABYSTAND</th>\n",
       "      <th>CARAVAN</th>\n",
       "    </tr>\n",
       "  </thead>\n",
       "  <tbody>\n",
       "    <tr>\n",
       "      <th>0</th>\n",
       "      <td>33</td>\n",
       "      <td>1</td>\n",
       "      <td>3</td>\n",
       "      <td>2</td>\n",
       "      <td>8</td>\n",
       "      <td>0</td>\n",
       "      <td>5</td>\n",
       "      <td>1</td>\n",
       "      <td>3</td>\n",
       "      <td>7</td>\n",
       "      <td>...</td>\n",
       "      <td>0</td>\n",
       "      <td>0</td>\n",
       "      <td>0</td>\n",
       "      <td>1</td>\n",
       "      <td>0</td>\n",
       "      <td>0</td>\n",
       "      <td>0</td>\n",
       "      <td>0</td>\n",
       "      <td>0</td>\n",
       "      <td>0</td>\n",
       "    </tr>\n",
       "    <tr>\n",
       "      <th>1</th>\n",
       "      <td>37</td>\n",
       "      <td>1</td>\n",
       "      <td>2</td>\n",
       "      <td>2</td>\n",
       "      <td>8</td>\n",
       "      <td>1</td>\n",
       "      <td>4</td>\n",
       "      <td>1</td>\n",
       "      <td>4</td>\n",
       "      <td>6</td>\n",
       "      <td>...</td>\n",
       "      <td>0</td>\n",
       "      <td>0</td>\n",
       "      <td>0</td>\n",
       "      <td>1</td>\n",
       "      <td>0</td>\n",
       "      <td>0</td>\n",
       "      <td>0</td>\n",
       "      <td>0</td>\n",
       "      <td>0</td>\n",
       "      <td>0</td>\n",
       "    </tr>\n",
       "    <tr>\n",
       "      <th>2</th>\n",
       "      <td>37</td>\n",
       "      <td>1</td>\n",
       "      <td>2</td>\n",
       "      <td>2</td>\n",
       "      <td>8</td>\n",
       "      <td>0</td>\n",
       "      <td>4</td>\n",
       "      <td>2</td>\n",
       "      <td>4</td>\n",
       "      <td>3</td>\n",
       "      <td>...</td>\n",
       "      <td>0</td>\n",
       "      <td>0</td>\n",
       "      <td>0</td>\n",
       "      <td>1</td>\n",
       "      <td>0</td>\n",
       "      <td>0</td>\n",
       "      <td>0</td>\n",
       "      <td>0</td>\n",
       "      <td>0</td>\n",
       "      <td>0</td>\n",
       "    </tr>\n",
       "    <tr>\n",
       "      <th>3</th>\n",
       "      <td>9</td>\n",
       "      <td>1</td>\n",
       "      <td>3</td>\n",
       "      <td>3</td>\n",
       "      <td>3</td>\n",
       "      <td>2</td>\n",
       "      <td>3</td>\n",
       "      <td>2</td>\n",
       "      <td>4</td>\n",
       "      <td>5</td>\n",
       "      <td>...</td>\n",
       "      <td>0</td>\n",
       "      <td>0</td>\n",
       "      <td>0</td>\n",
       "      <td>1</td>\n",
       "      <td>0</td>\n",
       "      <td>0</td>\n",
       "      <td>0</td>\n",
       "      <td>0</td>\n",
       "      <td>0</td>\n",
       "      <td>0</td>\n",
       "    </tr>\n",
       "    <tr>\n",
       "      <th>4</th>\n",
       "      <td>40</td>\n",
       "      <td>1</td>\n",
       "      <td>4</td>\n",
       "      <td>2</td>\n",
       "      <td>10</td>\n",
       "      <td>1</td>\n",
       "      <td>4</td>\n",
       "      <td>1</td>\n",
       "      <td>4</td>\n",
       "      <td>7</td>\n",
       "      <td>...</td>\n",
       "      <td>0</td>\n",
       "      <td>0</td>\n",
       "      <td>0</td>\n",
       "      <td>1</td>\n",
       "      <td>0</td>\n",
       "      <td>0</td>\n",
       "      <td>0</td>\n",
       "      <td>0</td>\n",
       "      <td>0</td>\n",
       "      <td>0</td>\n",
       "    </tr>\n",
       "  </tbody>\n",
       "</table>\n",
       "<p>5 rows × 86 columns</p>\n",
       "</div>"
      ],
      "text/plain": [
       "   MOSTYPE  MAANTHUI  MGEMOMV  MGEMLEEF  MOSHOOFD  MGODRK  MGODPR  MGODOV  \\\n",
       "0       33         1        3         2         8       0       5       1   \n",
       "1       37         1        2         2         8       1       4       1   \n",
       "2       37         1        2         2         8       0       4       2   \n",
       "3        9         1        3         3         3       2       3       2   \n",
       "4       40         1        4         2        10       1       4       1   \n",
       "\n",
       "   MGODGE  MRELGE  ...  APERSONG  AGEZONG  AWAOREG  ABRAND  AZEILPL  APLEZIER  \\\n",
       "0       3       7  ...         0        0        0       1        0         0   \n",
       "1       4       6  ...         0        0        0       1        0         0   \n",
       "2       4       3  ...         0        0        0       1        0         0   \n",
       "3       4       5  ...         0        0        0       1        0         0   \n",
       "4       4       7  ...         0        0        0       1        0         0   \n",
       "\n",
       "   AFIETS  AINBOED  ABYSTAND  CARAVAN  \n",
       "0       0        0         0        0  \n",
       "1       0        0         0        0  \n",
       "2       0        0         0        0  \n",
       "3       0        0         0        0  \n",
       "4       0        0         0        0  \n",
       "\n",
       "[5 rows x 86 columns]"
      ]
     },
     "execution_count": 12,
     "metadata": {},
     "output_type": "execute_result"
    }
   ],
   "source": [
    "df.head()"
   ]
  },
  {
   "cell_type": "code",
   "execution_count": 13,
   "id": "4ca97064-2b8e-4421-b67e-232b3022105b",
   "metadata": {},
   "outputs": [
    {
     "data": {
      "text/html": [
       "<div>\n",
       "<style scoped>\n",
       "    .dataframe tbody tr th:only-of-type {\n",
       "        vertical-align: middle;\n",
       "    }\n",
       "\n",
       "    .dataframe tbody tr th {\n",
       "        vertical-align: top;\n",
       "    }\n",
       "\n",
       "    .dataframe thead th {\n",
       "        text-align: right;\n",
       "    }\n",
       "</style>\n",
       "<table border=\"1\" class=\"dataframe\">\n",
       "  <thead>\n",
       "    <tr style=\"text-align: right;\">\n",
       "      <th></th>\n",
       "      <th>MOSTYPE</th>\n",
       "      <th>MAANTHUI</th>\n",
       "      <th>MGEMOMV</th>\n",
       "      <th>MGEMLEEF</th>\n",
       "      <th>MOSHOOFD</th>\n",
       "      <th>MGODRK</th>\n",
       "      <th>MGODPR</th>\n",
       "      <th>MGODOV</th>\n",
       "      <th>MGODGE</th>\n",
       "      <th>MRELGE</th>\n",
       "      <th>...</th>\n",
       "      <th>ALEVEN</th>\n",
       "      <th>APERSONG</th>\n",
       "      <th>AGEZONG</th>\n",
       "      <th>AWAOREG</th>\n",
       "      <th>ABRAND</th>\n",
       "      <th>AZEILPL</th>\n",
       "      <th>APLEZIER</th>\n",
       "      <th>AFIETS</th>\n",
       "      <th>AINBOED</th>\n",
       "      <th>ABYSTAND</th>\n",
       "    </tr>\n",
       "  </thead>\n",
       "  <tbody>\n",
       "    <tr>\n",
       "      <th>0</th>\n",
       "      <td>33</td>\n",
       "      <td>1</td>\n",
       "      <td>4</td>\n",
       "      <td>2</td>\n",
       "      <td>8</td>\n",
       "      <td>0</td>\n",
       "      <td>6</td>\n",
       "      <td>0</td>\n",
       "      <td>3</td>\n",
       "      <td>5</td>\n",
       "      <td>...</td>\n",
       "      <td>0</td>\n",
       "      <td>0</td>\n",
       "      <td>0</td>\n",
       "      <td>0</td>\n",
       "      <td>1</td>\n",
       "      <td>0</td>\n",
       "      <td>0</td>\n",
       "      <td>0</td>\n",
       "      <td>0</td>\n",
       "      <td>0</td>\n",
       "    </tr>\n",
       "    <tr>\n",
       "      <th>1</th>\n",
       "      <td>6</td>\n",
       "      <td>1</td>\n",
       "      <td>3</td>\n",
       "      <td>2</td>\n",
       "      <td>2</td>\n",
       "      <td>0</td>\n",
       "      <td>5</td>\n",
       "      <td>0</td>\n",
       "      <td>4</td>\n",
       "      <td>5</td>\n",
       "      <td>...</td>\n",
       "      <td>2</td>\n",
       "      <td>0</td>\n",
       "      <td>0</td>\n",
       "      <td>0</td>\n",
       "      <td>1</td>\n",
       "      <td>0</td>\n",
       "      <td>0</td>\n",
       "      <td>0</td>\n",
       "      <td>0</td>\n",
       "      <td>0</td>\n",
       "    </tr>\n",
       "    <tr>\n",
       "      <th>2</th>\n",
       "      <td>39</td>\n",
       "      <td>1</td>\n",
       "      <td>3</td>\n",
       "      <td>3</td>\n",
       "      <td>9</td>\n",
       "      <td>1</td>\n",
       "      <td>4</td>\n",
       "      <td>2</td>\n",
       "      <td>3</td>\n",
       "      <td>5</td>\n",
       "      <td>...</td>\n",
       "      <td>1</td>\n",
       "      <td>0</td>\n",
       "      <td>0</td>\n",
       "      <td>0</td>\n",
       "      <td>1</td>\n",
       "      <td>0</td>\n",
       "      <td>0</td>\n",
       "      <td>0</td>\n",
       "      <td>0</td>\n",
       "      <td>0</td>\n",
       "    </tr>\n",
       "    <tr>\n",
       "      <th>3</th>\n",
       "      <td>9</td>\n",
       "      <td>1</td>\n",
       "      <td>2</td>\n",
       "      <td>3</td>\n",
       "      <td>3</td>\n",
       "      <td>2</td>\n",
       "      <td>3</td>\n",
       "      <td>2</td>\n",
       "      <td>4</td>\n",
       "      <td>5</td>\n",
       "      <td>...</td>\n",
       "      <td>0</td>\n",
       "      <td>0</td>\n",
       "      <td>0</td>\n",
       "      <td>0</td>\n",
       "      <td>1</td>\n",
       "      <td>0</td>\n",
       "      <td>0</td>\n",
       "      <td>0</td>\n",
       "      <td>0</td>\n",
       "      <td>0</td>\n",
       "    </tr>\n",
       "    <tr>\n",
       "      <th>4</th>\n",
       "      <td>31</td>\n",
       "      <td>1</td>\n",
       "      <td>2</td>\n",
       "      <td>4</td>\n",
       "      <td>7</td>\n",
       "      <td>0</td>\n",
       "      <td>2</td>\n",
       "      <td>0</td>\n",
       "      <td>7</td>\n",
       "      <td>9</td>\n",
       "      <td>...</td>\n",
       "      <td>0</td>\n",
       "      <td>0</td>\n",
       "      <td>0</td>\n",
       "      <td>0</td>\n",
       "      <td>1</td>\n",
       "      <td>0</td>\n",
       "      <td>0</td>\n",
       "      <td>0</td>\n",
       "      <td>0</td>\n",
       "      <td>0</td>\n",
       "    </tr>\n",
       "  </tbody>\n",
       "</table>\n",
       "<p>5 rows × 85 columns</p>\n",
       "</div>"
      ],
      "text/plain": [
       "   MOSTYPE  MAANTHUI  MGEMOMV  MGEMLEEF  MOSHOOFD  MGODRK  MGODPR  MGODOV  \\\n",
       "0       33         1        4         2         8       0       6       0   \n",
       "1        6         1        3         2         2       0       5       0   \n",
       "2       39         1        3         3         9       1       4       2   \n",
       "3        9         1        2         3         3       2       3       2   \n",
       "4       31         1        2         4         7       0       2       0   \n",
       "\n",
       "   MGODGE  MRELGE  ...  ALEVEN  APERSONG  AGEZONG  AWAOREG  ABRAND  AZEILPL  \\\n",
       "0       3       5  ...       0         0        0        0       1        0   \n",
       "1       4       5  ...       2         0        0        0       1        0   \n",
       "2       3       5  ...       1         0        0        0       1        0   \n",
       "3       4       5  ...       0         0        0        0       1        0   \n",
       "4       7       9  ...       0         0        0        0       1        0   \n",
       "\n",
       "   APLEZIER  AFIETS  AINBOED  ABYSTAND  \n",
       "0         0       0        0         0  \n",
       "1         0       0        0         0  \n",
       "2         0       0        0         0  \n",
       "3         0       0        0         0  \n",
       "4         0       0        0         0  \n",
       "\n",
       "[5 rows x 85 columns]"
      ]
     },
     "execution_count": 13,
     "metadata": {},
     "output_type": "execute_result"
    }
   ],
   "source": [
    "df_test.head()"
   ]
  },
  {
   "cell_type": "markdown",
   "id": "4ef0f778-1187-499a-b57f-09608ee9192b",
   "metadata": {},
   "source": [
    "# EDA"
   ]
  },
  {
   "cell_type": "markdown",
   "id": "0ff19a06-ac5c-484b-a5fa-f50701c8c2e3",
   "metadata": {},
   "source": [
    "## Exploring the data"
   ]
  },
  {
   "cell_type": "code",
   "execution_count": 14,
   "id": "af74dd22-f747-4c50-a856-f6e31a4e1c4f",
   "metadata": {},
   "outputs": [
    {
     "data": {
      "text/html": [
       "<div>\n",
       "<style scoped>\n",
       "    .dataframe tbody tr th:only-of-type {\n",
       "        vertical-align: middle;\n",
       "    }\n",
       "\n",
       "    .dataframe tbody tr th {\n",
       "        vertical-align: top;\n",
       "    }\n",
       "\n",
       "    .dataframe thead th {\n",
       "        text-align: right;\n",
       "    }\n",
       "</style>\n",
       "<table border=\"1\" class=\"dataframe\">\n",
       "  <thead>\n",
       "    <tr style=\"text-align: right;\">\n",
       "      <th></th>\n",
       "      <th>MOSTYPE</th>\n",
       "      <th>MAANTHUI</th>\n",
       "      <th>MGEMOMV</th>\n",
       "      <th>MGEMLEEF</th>\n",
       "      <th>MOSHOOFD</th>\n",
       "      <th>MGODRK</th>\n",
       "      <th>MGODPR</th>\n",
       "      <th>MGODOV</th>\n",
       "      <th>MGODGE</th>\n",
       "      <th>MRELGE</th>\n",
       "      <th>...</th>\n",
       "      <th>APERSONG</th>\n",
       "      <th>AGEZONG</th>\n",
       "      <th>AWAOREG</th>\n",
       "      <th>ABRAND</th>\n",
       "      <th>AZEILPL</th>\n",
       "      <th>APLEZIER</th>\n",
       "      <th>AFIETS</th>\n",
       "      <th>AINBOED</th>\n",
       "      <th>ABYSTAND</th>\n",
       "      <th>CARAVAN</th>\n",
       "    </tr>\n",
       "  </thead>\n",
       "  <tbody>\n",
       "    <tr>\n",
       "      <th>count</th>\n",
       "      <td>5822.000000</td>\n",
       "      <td>5822.000000</td>\n",
       "      <td>5822.000000</td>\n",
       "      <td>5822.000000</td>\n",
       "      <td>5822.000000</td>\n",
       "      <td>5822.000000</td>\n",
       "      <td>5822.000000</td>\n",
       "      <td>5822.000000</td>\n",
       "      <td>5822.000000</td>\n",
       "      <td>5822.000000</td>\n",
       "      <td>...</td>\n",
       "      <td>5822.000000</td>\n",
       "      <td>5822.000000</td>\n",
       "      <td>5822.000000</td>\n",
       "      <td>5822.000000</td>\n",
       "      <td>5822.000000</td>\n",
       "      <td>5822.000000</td>\n",
       "      <td>5822.000000</td>\n",
       "      <td>5822.000000</td>\n",
       "      <td>5822.000000</td>\n",
       "      <td>5822.000000</td>\n",
       "    </tr>\n",
       "    <tr>\n",
       "      <th>mean</th>\n",
       "      <td>24.253349</td>\n",
       "      <td>1.110615</td>\n",
       "      <td>2.678805</td>\n",
       "      <td>2.991240</td>\n",
       "      <td>5.773617</td>\n",
       "      <td>0.696496</td>\n",
       "      <td>4.626932</td>\n",
       "      <td>1.069907</td>\n",
       "      <td>3.258502</td>\n",
       "      <td>6.183442</td>\n",
       "      <td>...</td>\n",
       "      <td>0.005325</td>\n",
       "      <td>0.006527</td>\n",
       "      <td>0.004638</td>\n",
       "      <td>0.570079</td>\n",
       "      <td>0.000515</td>\n",
       "      <td>0.006012</td>\n",
       "      <td>0.031776</td>\n",
       "      <td>0.007901</td>\n",
       "      <td>0.014256</td>\n",
       "      <td>0.059773</td>\n",
       "    </tr>\n",
       "    <tr>\n",
       "      <th>std</th>\n",
       "      <td>12.846706</td>\n",
       "      <td>0.405842</td>\n",
       "      <td>0.789835</td>\n",
       "      <td>0.814589</td>\n",
       "      <td>2.856760</td>\n",
       "      <td>1.003234</td>\n",
       "      <td>1.715843</td>\n",
       "      <td>1.017503</td>\n",
       "      <td>1.597647</td>\n",
       "      <td>1.909482</td>\n",
       "      <td>...</td>\n",
       "      <td>0.072782</td>\n",
       "      <td>0.080532</td>\n",
       "      <td>0.077403</td>\n",
       "      <td>0.562058</td>\n",
       "      <td>0.022696</td>\n",
       "      <td>0.081632</td>\n",
       "      <td>0.210986</td>\n",
       "      <td>0.090463</td>\n",
       "      <td>0.119996</td>\n",
       "      <td>0.237087</td>\n",
       "    </tr>\n",
       "    <tr>\n",
       "      <th>min</th>\n",
       "      <td>1.000000</td>\n",
       "      <td>1.000000</td>\n",
       "      <td>1.000000</td>\n",
       "      <td>1.000000</td>\n",
       "      <td>1.000000</td>\n",
       "      <td>0.000000</td>\n",
       "      <td>0.000000</td>\n",
       "      <td>0.000000</td>\n",
       "      <td>0.000000</td>\n",
       "      <td>0.000000</td>\n",
       "      <td>...</td>\n",
       "      <td>0.000000</td>\n",
       "      <td>0.000000</td>\n",
       "      <td>0.000000</td>\n",
       "      <td>0.000000</td>\n",
       "      <td>0.000000</td>\n",
       "      <td>0.000000</td>\n",
       "      <td>0.000000</td>\n",
       "      <td>0.000000</td>\n",
       "      <td>0.000000</td>\n",
       "      <td>0.000000</td>\n",
       "    </tr>\n",
       "    <tr>\n",
       "      <th>25%</th>\n",
       "      <td>10.000000</td>\n",
       "      <td>1.000000</td>\n",
       "      <td>2.000000</td>\n",
       "      <td>2.000000</td>\n",
       "      <td>3.000000</td>\n",
       "      <td>0.000000</td>\n",
       "      <td>4.000000</td>\n",
       "      <td>0.000000</td>\n",
       "      <td>2.000000</td>\n",
       "      <td>5.000000</td>\n",
       "      <td>...</td>\n",
       "      <td>0.000000</td>\n",
       "      <td>0.000000</td>\n",
       "      <td>0.000000</td>\n",
       "      <td>0.000000</td>\n",
       "      <td>0.000000</td>\n",
       "      <td>0.000000</td>\n",
       "      <td>0.000000</td>\n",
       "      <td>0.000000</td>\n",
       "      <td>0.000000</td>\n",
       "      <td>0.000000</td>\n",
       "    </tr>\n",
       "    <tr>\n",
       "      <th>50%</th>\n",
       "      <td>30.000000</td>\n",
       "      <td>1.000000</td>\n",
       "      <td>3.000000</td>\n",
       "      <td>3.000000</td>\n",
       "      <td>7.000000</td>\n",
       "      <td>0.000000</td>\n",
       "      <td>5.000000</td>\n",
       "      <td>1.000000</td>\n",
       "      <td>3.000000</td>\n",
       "      <td>6.000000</td>\n",
       "      <td>...</td>\n",
       "      <td>0.000000</td>\n",
       "      <td>0.000000</td>\n",
       "      <td>0.000000</td>\n",
       "      <td>1.000000</td>\n",
       "      <td>0.000000</td>\n",
       "      <td>0.000000</td>\n",
       "      <td>0.000000</td>\n",
       "      <td>0.000000</td>\n",
       "      <td>0.000000</td>\n",
       "      <td>0.000000</td>\n",
       "    </tr>\n",
       "    <tr>\n",
       "      <th>75%</th>\n",
       "      <td>35.000000</td>\n",
       "      <td>1.000000</td>\n",
       "      <td>3.000000</td>\n",
       "      <td>3.000000</td>\n",
       "      <td>8.000000</td>\n",
       "      <td>1.000000</td>\n",
       "      <td>6.000000</td>\n",
       "      <td>2.000000</td>\n",
       "      <td>4.000000</td>\n",
       "      <td>7.000000</td>\n",
       "      <td>...</td>\n",
       "      <td>0.000000</td>\n",
       "      <td>0.000000</td>\n",
       "      <td>0.000000</td>\n",
       "      <td>1.000000</td>\n",
       "      <td>0.000000</td>\n",
       "      <td>0.000000</td>\n",
       "      <td>0.000000</td>\n",
       "      <td>0.000000</td>\n",
       "      <td>0.000000</td>\n",
       "      <td>0.000000</td>\n",
       "    </tr>\n",
       "    <tr>\n",
       "      <th>max</th>\n",
       "      <td>41.000000</td>\n",
       "      <td>10.000000</td>\n",
       "      <td>5.000000</td>\n",
       "      <td>6.000000</td>\n",
       "      <td>10.000000</td>\n",
       "      <td>9.000000</td>\n",
       "      <td>9.000000</td>\n",
       "      <td>5.000000</td>\n",
       "      <td>9.000000</td>\n",
       "      <td>9.000000</td>\n",
       "      <td>...</td>\n",
       "      <td>1.000000</td>\n",
       "      <td>1.000000</td>\n",
       "      <td>2.000000</td>\n",
       "      <td>7.000000</td>\n",
       "      <td>1.000000</td>\n",
       "      <td>2.000000</td>\n",
       "      <td>3.000000</td>\n",
       "      <td>2.000000</td>\n",
       "      <td>2.000000</td>\n",
       "      <td>1.000000</td>\n",
       "    </tr>\n",
       "  </tbody>\n",
       "</table>\n",
       "<p>8 rows × 86 columns</p>\n",
       "</div>"
      ],
      "text/plain": [
       "           MOSTYPE     MAANTHUI      MGEMOMV     MGEMLEEF     MOSHOOFD  \\\n",
       "count  5822.000000  5822.000000  5822.000000  5822.000000  5822.000000   \n",
       "mean     24.253349     1.110615     2.678805     2.991240     5.773617   \n",
       "std      12.846706     0.405842     0.789835     0.814589     2.856760   \n",
       "min       1.000000     1.000000     1.000000     1.000000     1.000000   \n",
       "25%      10.000000     1.000000     2.000000     2.000000     3.000000   \n",
       "50%      30.000000     1.000000     3.000000     3.000000     7.000000   \n",
       "75%      35.000000     1.000000     3.000000     3.000000     8.000000   \n",
       "max      41.000000    10.000000     5.000000     6.000000    10.000000   \n",
       "\n",
       "            MGODRK       MGODPR       MGODOV       MGODGE       MRELGE  ...  \\\n",
       "count  5822.000000  5822.000000  5822.000000  5822.000000  5822.000000  ...   \n",
       "mean      0.696496     4.626932     1.069907     3.258502     6.183442  ...   \n",
       "std       1.003234     1.715843     1.017503     1.597647     1.909482  ...   \n",
       "min       0.000000     0.000000     0.000000     0.000000     0.000000  ...   \n",
       "25%       0.000000     4.000000     0.000000     2.000000     5.000000  ...   \n",
       "50%       0.000000     5.000000     1.000000     3.000000     6.000000  ...   \n",
       "75%       1.000000     6.000000     2.000000     4.000000     7.000000  ...   \n",
       "max       9.000000     9.000000     5.000000     9.000000     9.000000  ...   \n",
       "\n",
       "          APERSONG      AGEZONG      AWAOREG       ABRAND      AZEILPL  \\\n",
       "count  5822.000000  5822.000000  5822.000000  5822.000000  5822.000000   \n",
       "mean      0.005325     0.006527     0.004638     0.570079     0.000515   \n",
       "std       0.072782     0.080532     0.077403     0.562058     0.022696   \n",
       "min       0.000000     0.000000     0.000000     0.000000     0.000000   \n",
       "25%       0.000000     0.000000     0.000000     0.000000     0.000000   \n",
       "50%       0.000000     0.000000     0.000000     1.000000     0.000000   \n",
       "75%       0.000000     0.000000     0.000000     1.000000     0.000000   \n",
       "max       1.000000     1.000000     2.000000     7.000000     1.000000   \n",
       "\n",
       "          APLEZIER       AFIETS      AINBOED     ABYSTAND      CARAVAN  \n",
       "count  5822.000000  5822.000000  5822.000000  5822.000000  5822.000000  \n",
       "mean      0.006012     0.031776     0.007901     0.014256     0.059773  \n",
       "std       0.081632     0.210986     0.090463     0.119996     0.237087  \n",
       "min       0.000000     0.000000     0.000000     0.000000     0.000000  \n",
       "25%       0.000000     0.000000     0.000000     0.000000     0.000000  \n",
       "50%       0.000000     0.000000     0.000000     0.000000     0.000000  \n",
       "75%       0.000000     0.000000     0.000000     0.000000     0.000000  \n",
       "max       2.000000     3.000000     2.000000     2.000000     1.000000  \n",
       "\n",
       "[8 rows x 86 columns]"
      ]
     },
     "execution_count": 14,
     "metadata": {},
     "output_type": "execute_result"
    }
   ],
   "source": [
    "# Get an insight\n",
    "df.describe()"
   ]
  },
  {
   "cell_type": "code",
   "execution_count": 15,
   "id": "5a317e8f-d9a5-4b5a-9447-9b7540ce144a",
   "metadata": {},
   "outputs": [
    {
     "data": {
      "text/plain": [
       "0"
      ]
     },
     "execution_count": 15,
     "metadata": {},
     "output_type": "execute_result"
    }
   ],
   "source": [
    "df.isna().sum().max()"
   ]
  },
  {
   "cell_type": "markdown",
   "id": "09b095aa-c45d-4c08-b4c2-f3f8313a891d",
   "metadata": {},
   "source": [
    "We don't have any missing data"
   ]
  },
  {
   "cell_type": "code",
   "execution_count": 16,
   "id": "5f333729-8a10-49d2-88f2-5954bef8bd26",
   "metadata": {},
   "outputs": [],
   "source": [
    "# unique values\n",
    "unique_values = {}\n",
    "for col in df.columns[:-1]:\n",
    "    unique_values[col] = len(list(df[col].unique()))"
   ]
  },
  {
   "cell_type": "code",
   "execution_count": 17,
   "id": "dd47d457-6efa-4f86-b66c-420a936d9a16",
   "metadata": {},
   "outputs": [
    {
     "data": {
      "text/plain": [
       "{'MOSTYPE': 40,\n",
       " 'MAANTHUI': 9,\n",
       " 'MGEMOMV': 5,\n",
       " 'MGEMLEEF': 6,\n",
       " 'MOSHOOFD': 10,\n",
       " 'MGODRK': 10,\n",
       " 'MGODPR': 10,\n",
       " 'MGODOV': 6,\n",
       " 'MGODGE': 10,\n",
       " 'MRELGE': 10,\n",
       " 'MRELSA': 8,\n",
       " 'MRELOV': 10,\n",
       " 'MFALLEEN': 10,\n",
       " 'MFGEKIND': 10,\n",
       " 'MFWEKIND': 10,\n",
       " 'MOPLHOOG': 10,\n",
       " 'MOPLMIDD': 10,\n",
       " 'MOPLLAAG': 10,\n",
       " 'MBERHOOG': 10,\n",
       " 'MBERZELF': 6,\n",
       " 'MBERBOER': 10,\n",
       " 'MBERMIDD': 10,\n",
       " 'MBERARBG': 10,\n",
       " 'MBERARBO': 10,\n",
       " 'MSKA': 10,\n",
       " 'MSKB1': 10,\n",
       " 'MSKB2': 10,\n",
       " 'MSKC': 10,\n",
       " 'MSKD': 9,\n",
       " 'MHHUUR': 10,\n",
       " 'MHKOOP': 10,\n",
       " 'MAUT1': 10,\n",
       " 'MAUT2': 8,\n",
       " 'MAUT0': 10,\n",
       " 'MZFONDS': 10,\n",
       " 'MZPART': 10,\n",
       " 'MINKM30': 10,\n",
       " 'MINK3045': 10,\n",
       " 'MINK4575': 10,\n",
       " 'MINK7512': 10,\n",
       " 'MINK123M': 8,\n",
       " 'MINKGEM': 10,\n",
       " 'MKOOPKLA': 8,\n",
       " 'PWAPART': 4,\n",
       " 'PWABEDR': 7,\n",
       " 'PWALAND': 4,\n",
       " 'PPERSAUT': 6,\n",
       " 'PBESAUT': 4,\n",
       " 'PMOTSCO': 6,\n",
       " 'PVRAAUT': 4,\n",
       " 'PAANHANG': 6,\n",
       " 'PTRACTOR': 5,\n",
       " 'PWERKT': 5,\n",
       " 'PBROM': 6,\n",
       " 'PLEVEN': 10,\n",
       " 'PPERSONG': 7,\n",
       " 'PGEZONG': 3,\n",
       " 'PWAOREG': 5,\n",
       " 'PBRAND': 9,\n",
       " 'PZEILPL': 3,\n",
       " 'PPLEZIER': 7,\n",
       " 'PFIETS': 2,\n",
       " 'PINBOED': 7,\n",
       " 'PBYSTAND': 5,\n",
       " 'AWAPART': 3,\n",
       " 'AWABEDR': 3,\n",
       " 'AWALAND': 2,\n",
       " 'APERSAUT': 7,\n",
       " 'ABESAUT': 5,\n",
       " 'AMOTSCO': 4,\n",
       " 'AVRAAUT': 4,\n",
       " 'AAANHANG': 4,\n",
       " 'ATRACTOR': 5,\n",
       " 'AWERKT': 5,\n",
       " 'ABROM': 3,\n",
       " 'ALEVEN': 6,\n",
       " 'APERSONG': 2,\n",
       " 'AGEZONG': 2,\n",
       " 'AWAOREG': 3,\n",
       " 'ABRAND': 7,\n",
       " 'AZEILPL': 2,\n",
       " 'APLEZIER': 3,\n",
       " 'AFIETS': 4,\n",
       " 'AINBOED': 3,\n",
       " 'ABYSTAND': 3}"
      ]
     },
     "execution_count": 17,
     "metadata": {},
     "output_type": "execute_result"
    }
   ],
   "source": [
    "unique_values # df.nunique() is the same"
   ]
  },
  {
   "cell_type": "code",
   "execution_count": 18,
   "id": "71d0fed8-bafa-4464-8625-2394475e53ca",
   "metadata": {},
   "outputs": [
    {
     "data": {
      "text/plain": [
       "0.05977327378907592"
      ]
     },
     "execution_count": 18,
     "metadata": {},
     "output_type": "execute_result"
    }
   ],
   "source": [
    "df[\"CARAVAN\"].sum()/len(df)"
   ]
  },
  {
   "cell_type": "markdown",
   "id": "073a37cb-30f2-4759-98f8-a928f164a696",
   "metadata": {},
   "source": [
    "The dataset is very inbalanced."
   ]
  },
  {
   "cell_type": "code",
   "execution_count": 19,
   "id": "baba652f-cce8-456f-afb3-8d7b4d84205d",
   "metadata": {},
   "outputs": [
    {
     "data": {
      "text/plain": [
       "(5822, 4000)"
      ]
     },
     "execution_count": 19,
     "metadata": {},
     "output_type": "execute_result"
    }
   ],
   "source": [
    "len(df), len(df_test)"
   ]
  },
  {
   "cell_type": "code",
   "execution_count": 20,
   "id": "419c4cc5-26cc-484e-b2ab-670bdbd84455",
   "metadata": {},
   "outputs": [],
   "source": [
    "# numerical and categorical columns\n",
    "#num_columns = df.columns[df.nunique()>5]\n",
    "#cat_columns = df.drop(\"CARAVAN\",axis=1).columns[df.drop(\"CARAVAN\",axis=1).nunique()<=5]"
   ]
  },
  {
   "cell_type": "markdown",
   "id": "76a29b2a-80b3-46b6-b782-e824c7bfcc93",
   "metadata": {},
   "source": [
    "**Important** After analyzing the description file, I've decided that only the following two ones are categorical variables."
   ]
  },
  {
   "cell_type": "code",
   "execution_count": 21,
   "id": "d313e61e-8bb5-496b-af76-e37f29e9f8c3",
   "metadata": {},
   "outputs": [],
   "source": [
    "cat_columns = ['MOSTYPE','MOSHOOFD']"
   ]
  },
  {
   "cell_type": "code",
   "execution_count": 22,
   "id": "490439cd-62f8-4ea1-ae20-928ad31b301f",
   "metadata": {},
   "outputs": [],
   "source": [
    "column_names = list(df.drop(\"CARAVAN\",axis=1).columns)"
   ]
  },
  {
   "cell_type": "code",
   "execution_count": 23,
   "id": "9b949cf6-08c5-4bcf-ab42-42194a932340",
   "metadata": {},
   "outputs": [],
   "source": [
    "#column_names"
   ]
  },
  {
   "cell_type": "code",
   "execution_count": 24,
   "id": "4790a2df-6232-4d8d-b992-3c793a8ca78a",
   "metadata": {},
   "outputs": [
    {
     "data": {
      "text/plain": [
       "85"
      ]
     },
     "execution_count": 24,
     "metadata": {},
     "output_type": "execute_result"
    }
   ],
   "source": [
    "len(column_names)"
   ]
  },
  {
   "cell_type": "code",
   "execution_count": 25,
   "id": "d2751f46-806b-41c9-aef9-65266fdb4fc6",
   "metadata": {},
   "outputs": [
    {
     "data": {
      "text/plain": [
       "83"
      ]
     },
     "execution_count": 25,
     "metadata": {},
     "output_type": "execute_result"
    }
   ],
   "source": [
    "num_columns = []\n",
    "for item in column_names:\n",
    "    if item not in cat_columns:\n",
    "        num_columns.append(item)\n",
    "len(num_columns)"
   ]
  },
  {
   "cell_type": "code",
   "execution_count": 26,
   "id": "a2e65f14-befd-4b38-9e7f-8e8baf260e52",
   "metadata": {},
   "outputs": [],
   "source": [
    "#num_columns = []\n",
    "#cat_columns = list(df.drop(\"CARAVAN\",axis=1).columns)"
   ]
  },
  {
   "cell_type": "code",
   "execution_count": null,
   "id": "97e34cb6-c0e3-4ca9-882e-df9cff918e25",
   "metadata": {},
   "outputs": [],
   "source": []
  },
  {
   "cell_type": "code",
   "execution_count": null,
   "id": "47da4dcf-d059-403a-92e0-795dea7621d4",
   "metadata": {},
   "outputs": [],
   "source": []
  },
  {
   "cell_type": "code",
   "execution_count": 27,
   "id": "be38a197-a0c5-4a6a-8751-39264eca6bcd",
   "metadata": {},
   "outputs": [
    {
     "data": {
      "text/plain": [
       "(83, 2)"
      ]
     },
     "execution_count": 27,
     "metadata": {},
     "output_type": "execute_result"
    }
   ],
   "source": [
    "len(num_columns), len(cat_columns)"
   ]
  },
  {
   "cell_type": "code",
   "execution_count": 28,
   "id": "dc39a9b1-c77d-4002-9f58-435391eab609",
   "metadata": {},
   "outputs": [
    {
     "data": {
      "image/png": "[encoded data removed]",
      "text/plain": [
       "<Figure size 792x3240 with 83 Axes>"
      ]
     },
     "metadata": {
      "needs_background": "light"
     },
     "output_type": "display_data"
    }
   ],
   "source": [
    "# Plotting numerical columns\n",
    "plt.figure(figsize=(11,45))\n",
    "sns.distributions._has_statsmodels=False\n",
    "for i in range(len(num_columns)):\n",
    "    plt.subplot(18,5,i+1)\n",
    "    sns.distplot(df[num_columns[i]])\n",
    "    \n",
    "plt.tight_layout()"
   ]
  },
  {
   "cell_type": "code",
   "execution_count": 29,
   "id": "ebb64976-01ea-4a27-bd5d-03832cc6532a",
   "metadata": {},
   "outputs": [
    {
     "data": {
      "image/png": "[encoded data removed]",
      "text/plain": [
       "<Figure size 720x720 with 2 Axes>"
      ]
     },
     "metadata": {
      "needs_background": "light"
     },
     "output_type": "display_data"
    }
   ],
   "source": [
    "fig = plt.figure(figsize=(10,10));\n",
    "\n",
    "# Plot Telling the total count of different values in CARAVAN\n",
    "plt.subplot(3,1,1);\n",
    "df['CARAVAN'].value_counts().plot(kind='bar', title='Classifying CARAVAN', color='#10bbd4', grid=True);\n",
    "\n",
    "# Plot Telling the total count of different values in customer subtype\n",
    "plt.subplot(3,1,2);\n",
    "df['MOSTYPE'].value_counts().plot(kind='bar', align='center', title='Classifying Customer Subtypes', color='#10bbd4', grid=True);"
   ]
  },
  {
   "cell_type": "markdown",
   "id": "55ebb7cc-5a4f-4318-8ba4-540419e59687",
   "metadata": {},
   "source": [
    "33 = Lower class large families"
   ]
  },
  {
   "cell_type": "code",
   "execution_count": 30,
   "id": "28b3687d-7e92-4c1f-a63f-fad56bbb6892",
   "metadata": {},
   "outputs": [
    {
     "data": {
      "image/png": "[encoded data removed]",
      "text/plain": [
       "<Figure size 1080x720 with 1 Axes>"
      ]
     },
     "metadata": {
      "needs_background": "light"
     },
     "output_type": "display_data"
    }
   ],
   "source": [
    "# Plotting the dependency of preferring caravan policy based on category subtype\n",
    "categorysubtype_caravan = pd.crosstab(df['MOSTYPE'], df['CARAVAN']);\n",
    "categorysubtype_caravan_percentage = categorysubtype_caravan.div(categorysubtype_caravan.sum(1).astype(float), axis=0);\n",
    "categorysubtype_caravan_percentage.plot(figsize= (15,10), kind='barh', stacked=True, color=['#10bbd4', 'Crimson'], title='Category Subtype vs Caravan', grid=True);\n",
    "plt.xlabel('Category Subtype');\n",
    "plt.ylabel('CARAVAN or not');"
   ]
  },
  {
   "cell_type": "markdown",
   "id": "867c65e0-bab7-458c-9ea7-06c48f6aa022",
   "metadata": {},
   "source": [
    "* Senior cosmopolitans (L0:15)\n",
    "* Students in apartments (L0:16)\n",
    "* Fresh masters in the city (L0:17)\n",
    "* Single youth (L0:18)\n",
    "* Suburban youth (L0:19)\n",
    "* Large family farms (L0:40)\n",
    "\n",
    "don't have any Caravan Policy, and\n",
    "\n",
    "* Middle class families (L0:8)\n",
    "* Affluent young families (L0:12)\n",
    "\n",
    "have most of the Caravan Policies"
   ]
  },
  {
   "cell_type": "code",
   "execution_count": 31,
   "id": "f1f2e730-d68a-4599-9214-485a33d84671",
   "metadata": {},
   "outputs": [
    {
     "data": {
      "image/png": "[encoded data removed]",
      "text/plain": [
       "<Figure size 360x216 with 1 Axes>"
      ]
     },
     "metadata": {
      "needs_background": "light"
     },
     "output_type": "display_data"
    }
   ],
   "source": [
    "# dependency of preferring caravan based on age\n",
    "df['MGEMLEEF'].hist(figsize=(5,3), fc='#10bbd4', grid=True);\n",
    "plt.xlabel('age');\n",
    "plt.ylabel('count');"
   ]
  },
  {
   "cell_type": "markdown",
   "id": "12c49d24-3d0e-42d7-8653-dca5b4d9cd12",
   "metadata": {},
   "source": [
    "* 0-50 Yrs Age group bought most policies (L1:3)\n",
    "\n",
    "And\n",
    "\n",
    "* 20-30 (L1:1)\n",
    "* 70-80 (L1:6)\n",
    "\n",
    "Age groups don't prefer buying any Policies"
   ]
  },
  {
   "cell_type": "code",
   "execution_count": 32,
   "id": "85a9bb46-8bca-408e-b7c8-9652f2f58552",
   "metadata": {},
   "outputs": [
    {
     "data": {
      "image/png": "[encoded data removed]",
      "text/plain": [
       "<Figure size 360x216 with 1 Axes>"
      ]
     },
     "metadata": {
      "needs_background": "light"
     },
     "output_type": "display_data"
    }
   ],
   "source": [
    "# dependeny of caravan on age groups\n",
    "age_caravan = pd.crosstab(df['MGEMLEEF'], df['CARAVAN']);\n",
    "age_caravan_percentage = age_caravan.div(age_caravan.sum(1).astype(float),axis=0);\n",
    "age_caravan_percentage.plot(figsize=(5,3), kind='barh', stacked=True, color=['#10bbd4', 'Crimson'], title='Dependency of Caravan on age groups', grid=True);\n",
    "plt.xlabel('Age Groups');\n",
    "plt.ylabel('Caravan');"
   ]
  },
  {
   "cell_type": "markdown",
   "id": "22e3e131-d9df-4639-b506-f66e2b166d64",
   "metadata": {},
   "source": [
    "Group 1 doesn't like Caravan (L1:1 = 20-30 years old)."
   ]
  },
  {
   "cell_type": "code",
   "execution_count": 33,
   "id": "58598331-11b5-45aa-bb3a-79c3a0dff7f4",
   "metadata": {},
   "outputs": [
    {
     "data": {
      "image/png": "[encoded data removed]",
      "text/plain": [
       "<Figure size 432x288 with 1 Axes>"
      ]
     },
     "metadata": {
      "needs_background": "light"
     },
     "output_type": "display_data"
    }
   ],
   "source": [
    "# dependemcy based on customer type\n",
    "df['MOSHOOFD'].value_counts().plot(kind='barh', color='#10bbd4', grid=True);\n",
    "plt.xlabel('Customer Types');\n",
    "plt.ylabel('count');"
   ]
  },
  {
   "cell_type": "code",
   "execution_count": 34,
   "id": "05ec89ab-599c-4221-b673-2e475c5aa30b",
   "metadata": {},
   "outputs": [
    {
     "data": {
      "image/png": "[encoded data removed]",
      "text/plain": [
       "<Figure size 432x288 with 1 Axes>"
      ]
     },
     "metadata": {
      "needs_background": "light"
     },
     "output_type": "display_data"
    }
   ],
   "source": [
    "# dependency on customer types\n",
    "cust_type_caravan = pd.crosstab(df['MOSHOOFD'], df['CARAVAN']);\n",
    "cust_type_caravan_percentage = cust_type_caravan.div(cust_type_caravan.sum(1).astype(float), axis=0);\n",
    "cust_type_caravan_percentage.plot(kind='barh', stacked=True, color = ['#10bbd4', 'Crimson']);\n",
    "plt.xlabel('Customer types');\n",
    "plt.ylabel('Caravan');"
   ]
  },
  {
   "cell_type": "markdown",
   "id": "3c264a9b-8f28-4df3-a7e4-d58aa6d4631e",
   "metadata": {},
   "source": [
    "* \"Conservative families\" (L2:8)\n",
    "* \"Family with grown ups\" (L2:8)\n",
    "* \"Driven Growers\" (L2:2) \n",
    "* \"Succesfull hedonists\" (L2:1)\n",
    "* \"Average Family\" (L2:3)\n",
    "\n",
    "are important."
   ]
  },
  {
   "cell_type": "markdown",
   "id": "c50ee734-d856-4b78-b419-b83e02656c76",
   "metadata": {},
   "source": [
    "# Feature engineering"
   ]
  },
  {
   "cell_type": "markdown",
   "id": "2fb15b3f-6d19-45c4-9694-d1377c902cce",
   "metadata": {},
   "source": [
    "## Remove unnecessary columns and duplum rows"
   ]
  },
  {
   "cell_type": "code",
   "execution_count": 35,
   "id": "973deb3d-46cb-4d86-b2ee-62f9dcb09e50",
   "metadata": {},
   "outputs": [
    {
     "name": "stdout",
     "output_type": "stream",
     "text": [
      "[]\n"
     ]
    }
   ],
   "source": [
    "rem = []\n",
    "\n",
    "for col in df.columns:\n",
    "    if df[col].std() == 0: #standard deviation is zero\n",
    "        rem.append(col)\n",
    "\n",
    "#drop the columns        \n",
    "df.drop(rem,axis=1,inplace=True)\n",
    "\n",
    "print(rem)"
   ]
  },
  {
   "cell_type": "code",
   "execution_count": 36,
   "id": "e54efe6e-65f0-4f47-a607-8316957c499b",
   "metadata": {},
   "outputs": [],
   "source": [
    "#df[col].std().min()"
   ]
  },
  {
   "cell_type": "markdown",
   "id": "74fca8a1-2fcb-4439-a675-958a1e44967d",
   "metadata": {},
   "source": [
    "There isn't any constant column. And this std isn't so large to remove any other columns."
   ]
  },
  {
   "cell_type": "markdown",
   "id": "30f7022f-cfc0-4435-9cad-c9993104dbed",
   "metadata": {},
   "source": [
    "## Removing Duplums"
   ]
  },
  {
   "cell_type": "code",
   "execution_count": 37,
   "id": "9b4312f2-fa2e-48db-93c3-35181f54e6e8",
   "metadata": {},
   "outputs": [
    {
     "data": {
      "text/plain": [
       "(602, 5822)"
      ]
     },
     "execution_count": 37,
     "metadata": {},
     "output_type": "execute_result"
    }
   ],
   "source": [
    "df.duplicated().sum(), len(df)"
   ]
  },
  {
   "cell_type": "markdown",
   "id": "94fec755-6b1a-4946-899f-2d409d4d84e6",
   "metadata": {},
   "source": [
    "This means we have a lof of duplicated rows."
   ]
  },
  {
   "cell_type": "code",
   "execution_count": 38,
   "id": "9a0da6ac-4c7f-4ffb-919c-d8590a3151da",
   "metadata": {},
   "outputs": [],
   "source": [
    "df = df.drop_duplicates()"
   ]
  },
  {
   "cell_type": "code",
   "execution_count": 39,
   "id": "25dba5e8-12de-484e-a112-5053e9aa1d9f",
   "metadata": {},
   "outputs": [
    {
     "data": {
      "text/plain": [
       "5220"
      ]
     },
     "execution_count": 39,
     "metadata": {},
     "output_type": "execute_result"
    }
   ],
   "source": [
    "len(df)"
   ]
  },
  {
   "cell_type": "code",
   "execution_count": 40,
   "id": "7e80638e-59f0-4c8c-9628-423df96547d6",
   "metadata": {},
   "outputs": [
    {
     "data": {
      "text/plain": [
       "(307, 4000)"
      ]
     },
     "execution_count": 40,
     "metadata": {},
     "output_type": "execute_result"
    }
   ],
   "source": [
    "df_test.duplicated().sum(), len(df_test)"
   ]
  },
  {
   "cell_type": "code",
   "execution_count": 41,
   "id": "ea02442f-8071-4661-bd5a-d22389d02976",
   "metadata": {},
   "outputs": [],
   "source": [
    "#df_test = df_test.drop_duplicates()"
   ]
  },
  {
   "cell_type": "code",
   "execution_count": 42,
   "id": "b1b5dd4e-5e48-4c13-9eb3-c1135946dc5a",
   "metadata": {},
   "outputs": [
    {
     "data": {
      "text/plain": [
       "4000"
      ]
     },
     "execution_count": 42,
     "metadata": {},
     "output_type": "execute_result"
    }
   ],
   "source": [
    "len(df_test)"
   ]
  },
  {
   "cell_type": "code",
   "execution_count": 43,
   "id": "b1a35375-42f9-47c0-bdd2-aa613848bcdd",
   "metadata": {},
   "outputs": [],
   "source": [
    "# Drop target\n",
    "y = df[\"CARAVAN\"]\n",
    "df = df.drop(\"CARAVAN\",axis=1)"
   ]
  },
  {
   "cell_type": "code",
   "execution_count": 44,
   "id": "83ca020a-89c6-428b-a623-3ab0539cf0a5",
   "metadata": {},
   "outputs": [
    {
     "data": {
      "image/png": "[encoded data removed]",
      "text/plain": [
       "<Figure size 2160x2880 with 83 Axes>"
      ]
     },
     "metadata": {
      "needs_background": "light"
     },
     "output_type": "display_data"
    }
   ],
   "source": [
    "plt.figure(figsize=(30,40));\n",
    "\n",
    "for i in range(len(num_columns)):\n",
    "    plt.subplot(25,4,i+1);\n",
    "    sns.boxplot(df[num_columns[i]],  showmeans=True, palette=[sns.xkcd_rgb[\"denim blue\"], sns.xkcd_rgb[\"medium green\"]]);\n",
    "    \n",
    "plt.tight_layout();"
   ]
  },
  {
   "cell_type": "markdown",
   "id": "bf2306f4-426b-4bb4-93d6-3beb9cfdd6e6",
   "metadata": {},
   "source": [
    "## Scaling and One hot encoding"
   ]
  },
  {
   "cell_type": "markdown",
   "id": "e87836a5-97c1-4a64-964c-f7368e0557ce",
   "metadata": {},
   "source": [
    "There are a lof of outliers in the numerical columns, so that we'll use RobustScaler to scaling them.\n",
    "For categorical columns we will use pd.get_dummies()"
   ]
  },
  {
   "cell_type": "code",
   "execution_count": 45,
   "id": "2acc372f-8081-4edc-b83c-eca11efbc616",
   "metadata": {},
   "outputs": [],
   "source": [
    "from sklearn.preprocessing import RobustScaler\n",
    "\n",
    "from sklearn.model_selection import train_test_split\n",
    "from sklearn import metrics\n",
    "from sklearn.metrics import accuracy_score, balanced_accuracy_score\n",
    "from sklearn.ensemble import RandomForestClassifier"
   ]
  },
  {
   "cell_type": "code",
   "execution_count": 46,
   "id": "dc693b0c-ee8e-46de-9ef6-847f9babaf7b",
   "metadata": {},
   "outputs": [
    {
     "data": {
      "text/plain": [
       "(5220, 4000)"
      ]
     },
     "execution_count": 46,
     "metadata": {},
     "output_type": "execute_result"
    }
   ],
   "source": [
    "len(df), len(df_test)"
   ]
  },
  {
   "cell_type": "code",
   "execution_count": 47,
   "id": "439e5d65-0b61-43e9-8940-355d7af69701",
   "metadata": {},
   "outputs": [],
   "source": [
    "robust_scaler = RobustScaler()\n",
    "df[num_columns] = robust_scaler.fit_transform(df[num_columns])"
   ]
  },
  {
   "cell_type": "code",
   "execution_count": 48,
   "id": "eea8ee58-fbcc-4efd-b165-5f4a82d79311",
   "metadata": {},
   "outputs": [
    {
     "data": {
      "text/html": [
       "<div>\n",
       "<style scoped>\n",
       "    .dataframe tbody tr th:only-of-type {\n",
       "        vertical-align: middle;\n",
       "    }\n",
       "\n",
       "    .dataframe tbody tr th {\n",
       "        vertical-align: top;\n",
       "    }\n",
       "\n",
       "    .dataframe thead th {\n",
       "        text-align: right;\n",
       "    }\n",
       "</style>\n",
       "<table border=\"1\" class=\"dataframe\">\n",
       "  <thead>\n",
       "    <tr style=\"text-align: right;\">\n",
       "      <th></th>\n",
       "      <th>MAANTHUI</th>\n",
       "      <th>MGEMOMV</th>\n",
       "      <th>MGEMLEEF</th>\n",
       "      <th>MGODRK</th>\n",
       "      <th>MGODPR</th>\n",
       "      <th>MGODOV</th>\n",
       "      <th>MGODGE</th>\n",
       "      <th>MRELGE</th>\n",
       "      <th>MRELSA</th>\n",
       "      <th>MRELOV</th>\n",
       "      <th>...</th>\n",
       "      <th>ALEVEN</th>\n",
       "      <th>APERSONG</th>\n",
       "      <th>AGEZONG</th>\n",
       "      <th>AWAOREG</th>\n",
       "      <th>ABRAND</th>\n",
       "      <th>AZEILPL</th>\n",
       "      <th>APLEZIER</th>\n",
       "      <th>AFIETS</th>\n",
       "      <th>AINBOED</th>\n",
       "      <th>ABYSTAND</th>\n",
       "    </tr>\n",
       "  </thead>\n",
       "  <tbody>\n",
       "    <tr>\n",
       "      <th>0</th>\n",
       "      <td>0.0</td>\n",
       "      <td>0.0</td>\n",
       "      <td>-1.0</td>\n",
       "      <td>0.0</td>\n",
       "      <td>0.0</td>\n",
       "      <td>0.0</td>\n",
       "      <td>0.0</td>\n",
       "      <td>0.5</td>\n",
       "      <td>-1.0</td>\n",
       "      <td>0.0</td>\n",
       "      <td>...</td>\n",
       "      <td>0.0</td>\n",
       "      <td>0.0</td>\n",
       "      <td>0.0</td>\n",
       "      <td>0.0</td>\n",
       "      <td>0.0</td>\n",
       "      <td>0.0</td>\n",
       "      <td>0.0</td>\n",
       "      <td>0.0</td>\n",
       "      <td>0.0</td>\n",
       "      <td>0.0</td>\n",
       "    </tr>\n",
       "    <tr>\n",
       "      <th>1</th>\n",
       "      <td>0.0</td>\n",
       "      <td>-1.0</td>\n",
       "      <td>-1.0</td>\n",
       "      <td>1.0</td>\n",
       "      <td>-0.5</td>\n",
       "      <td>0.0</td>\n",
       "      <td>0.5</td>\n",
       "      <td>0.0</td>\n",
       "      <td>1.0</td>\n",
       "      <td>0.0</td>\n",
       "      <td>...</td>\n",
       "      <td>0.0</td>\n",
       "      <td>0.0</td>\n",
       "      <td>0.0</td>\n",
       "      <td>0.0</td>\n",
       "      <td>0.0</td>\n",
       "      <td>0.0</td>\n",
       "      <td>0.0</td>\n",
       "      <td>0.0</td>\n",
       "      <td>0.0</td>\n",
       "      <td>0.0</td>\n",
       "    </tr>\n",
       "    <tr>\n",
       "      <th>2</th>\n",
       "      <td>0.0</td>\n",
       "      <td>-1.0</td>\n",
       "      <td>-1.0</td>\n",
       "      <td>0.0</td>\n",
       "      <td>-0.5</td>\n",
       "      <td>0.5</td>\n",
       "      <td>0.5</td>\n",
       "      <td>-1.5</td>\n",
       "      <td>1.0</td>\n",
       "      <td>1.0</td>\n",
       "      <td>...</td>\n",
       "      <td>0.0</td>\n",
       "      <td>0.0</td>\n",
       "      <td>0.0</td>\n",
       "      <td>0.0</td>\n",
       "      <td>0.0</td>\n",
       "      <td>0.0</td>\n",
       "      <td>0.0</td>\n",
       "      <td>0.0</td>\n",
       "      <td>0.0</td>\n",
       "      <td>0.0</td>\n",
       "    </tr>\n",
       "    <tr>\n",
       "      <th>3</th>\n",
       "      <td>0.0</td>\n",
       "      <td>0.0</td>\n",
       "      <td>0.0</td>\n",
       "      <td>2.0</td>\n",
       "      <td>-1.0</td>\n",
       "      <td>0.5</td>\n",
       "      <td>0.5</td>\n",
       "      <td>-0.5</td>\n",
       "      <td>1.0</td>\n",
       "      <td>0.0</td>\n",
       "      <td>...</td>\n",
       "      <td>0.0</td>\n",
       "      <td>0.0</td>\n",
       "      <td>0.0</td>\n",
       "      <td>0.0</td>\n",
       "      <td>0.0</td>\n",
       "      <td>0.0</td>\n",
       "      <td>0.0</td>\n",
       "      <td>0.0</td>\n",
       "      <td>0.0</td>\n",
       "      <td>0.0</td>\n",
       "    </tr>\n",
       "    <tr>\n",
       "      <th>4</th>\n",
       "      <td>0.0</td>\n",
       "      <td>1.0</td>\n",
       "      <td>-1.0</td>\n",
       "      <td>1.0</td>\n",
       "      <td>-0.5</td>\n",
       "      <td>0.0</td>\n",
       "      <td>0.5</td>\n",
       "      <td>0.5</td>\n",
       "      <td>0.0</td>\n",
       "      <td>0.0</td>\n",
       "      <td>...</td>\n",
       "      <td>0.0</td>\n",
       "      <td>0.0</td>\n",
       "      <td>0.0</td>\n",
       "      <td>0.0</td>\n",
       "      <td>0.0</td>\n",
       "      <td>0.0</td>\n",
       "      <td>0.0</td>\n",
       "      <td>0.0</td>\n",
       "      <td>0.0</td>\n",
       "      <td>0.0</td>\n",
       "    </tr>\n",
       "    <tr>\n",
       "      <th>...</th>\n",
       "      <td>...</td>\n",
       "      <td>...</td>\n",
       "      <td>...</td>\n",
       "      <td>...</td>\n",
       "      <td>...</td>\n",
       "      <td>...</td>\n",
       "      <td>...</td>\n",
       "      <td>...</td>\n",
       "      <td>...</td>\n",
       "      <td>...</td>\n",
       "      <td>...</td>\n",
       "      <td>...</td>\n",
       "      <td>...</td>\n",
       "      <td>...</td>\n",
       "      <td>...</td>\n",
       "      <td>...</td>\n",
       "      <td>...</td>\n",
       "      <td>...</td>\n",
       "      <td>...</td>\n",
       "      <td>...</td>\n",
       "      <td>...</td>\n",
       "    </tr>\n",
       "    <tr>\n",
       "      <th>5816</th>\n",
       "      <td>0.0</td>\n",
       "      <td>-1.0</td>\n",
       "      <td>0.0</td>\n",
       "      <td>0.0</td>\n",
       "      <td>0.5</td>\n",
       "      <td>-0.5</td>\n",
       "      <td>0.0</td>\n",
       "      <td>0.0</td>\n",
       "      <td>-1.0</td>\n",
       "      <td>0.5</td>\n",
       "      <td>...</td>\n",
       "      <td>0.0</td>\n",
       "      <td>0.0</td>\n",
       "      <td>0.0</td>\n",
       "      <td>0.0</td>\n",
       "      <td>-1.0</td>\n",
       "      <td>0.0</td>\n",
       "      <td>0.0</td>\n",
       "      <td>0.0</td>\n",
       "      <td>0.0</td>\n",
       "      <td>0.0</td>\n",
       "    </tr>\n",
       "    <tr>\n",
       "      <th>5817</th>\n",
       "      <td>0.0</td>\n",
       "      <td>-2.0</td>\n",
       "      <td>-1.0</td>\n",
       "      <td>0.0</td>\n",
       "      <td>0.5</td>\n",
       "      <td>0.0</td>\n",
       "      <td>-0.5</td>\n",
       "      <td>-2.5</td>\n",
       "      <td>1.0</td>\n",
       "      <td>2.0</td>\n",
       "      <td>...</td>\n",
       "      <td>2.0</td>\n",
       "      <td>0.0</td>\n",
       "      <td>0.0</td>\n",
       "      <td>0.0</td>\n",
       "      <td>0.0</td>\n",
       "      <td>0.0</td>\n",
       "      <td>0.0</td>\n",
       "      <td>0.0</td>\n",
       "      <td>0.0</td>\n",
       "      <td>0.0</td>\n",
       "    </tr>\n",
       "    <tr>\n",
       "      <th>5818</th>\n",
       "      <td>0.0</td>\n",
       "      <td>1.0</td>\n",
       "      <td>1.0</td>\n",
       "      <td>1.0</td>\n",
       "      <td>-0.5</td>\n",
       "      <td>0.0</td>\n",
       "      <td>0.5</td>\n",
       "      <td>0.0</td>\n",
       "      <td>-1.0</td>\n",
       "      <td>0.5</td>\n",
       "      <td>...</td>\n",
       "      <td>0.0</td>\n",
       "      <td>0.0</td>\n",
       "      <td>0.0</td>\n",
       "      <td>0.0</td>\n",
       "      <td>0.0</td>\n",
       "      <td>0.0</td>\n",
       "      <td>0.0</td>\n",
       "      <td>0.0</td>\n",
       "      <td>0.0</td>\n",
       "      <td>0.0</td>\n",
       "    </tr>\n",
       "    <tr>\n",
       "      <th>5819</th>\n",
       "      <td>0.0</td>\n",
       "      <td>0.0</td>\n",
       "      <td>1.0</td>\n",
       "      <td>0.0</td>\n",
       "      <td>0.5</td>\n",
       "      <td>-0.5</td>\n",
       "      <td>0.0</td>\n",
       "      <td>-0.5</td>\n",
       "      <td>0.0</td>\n",
       "      <td>1.0</td>\n",
       "      <td>...</td>\n",
       "      <td>0.0</td>\n",
       "      <td>0.0</td>\n",
       "      <td>0.0</td>\n",
       "      <td>0.0</td>\n",
       "      <td>0.0</td>\n",
       "      <td>0.0</td>\n",
       "      <td>0.0</td>\n",
       "      <td>0.0</td>\n",
       "      <td>0.0</td>\n",
       "      <td>0.0</td>\n",
       "    </tr>\n",
       "    <tr>\n",
       "      <th>5821</th>\n",
       "      <td>0.0</td>\n",
       "      <td>0.0</td>\n",
       "      <td>0.0</td>\n",
       "      <td>0.0</td>\n",
       "      <td>0.5</td>\n",
       "      <td>0.0</td>\n",
       "      <td>-0.5</td>\n",
       "      <td>0.5</td>\n",
       "      <td>0.0</td>\n",
       "      <td>0.0</td>\n",
       "      <td>...</td>\n",
       "      <td>0.0</td>\n",
       "      <td>0.0</td>\n",
       "      <td>0.0</td>\n",
       "      <td>0.0</td>\n",
       "      <td>-1.0</td>\n",
       "      <td>0.0</td>\n",
       "      <td>0.0</td>\n",
       "      <td>0.0</td>\n",
       "      <td>0.0</td>\n",
       "      <td>0.0</td>\n",
       "    </tr>\n",
       "  </tbody>\n",
       "</table>\n",
       "<p>5220 rows × 83 columns</p>\n",
       "</div>"
      ],
      "text/plain": [
       "      MAANTHUI  MGEMOMV  MGEMLEEF  MGODRK  MGODPR  MGODOV  MGODGE  MRELGE  \\\n",
       "0          0.0      0.0      -1.0     0.0     0.0     0.0     0.0     0.5   \n",
       "1          0.0     -1.0      -1.0     1.0    -0.5     0.0     0.5     0.0   \n",
       "2          0.0     -1.0      -1.0     0.0    -0.5     0.5     0.5    -1.5   \n",
       "3          0.0      0.0       0.0     2.0    -1.0     0.5     0.5    -0.5   \n",
       "4          0.0      1.0      -1.0     1.0    -0.5     0.0     0.5     0.5   \n",
       "...        ...      ...       ...     ...     ...     ...     ...     ...   \n",
       "5816       0.0     -1.0       0.0     0.0     0.5    -0.5     0.0     0.0   \n",
       "5817       0.0     -2.0      -1.0     0.0     0.5     0.0    -0.5    -2.5   \n",
       "5818       0.0      1.0       1.0     1.0    -0.5     0.0     0.5     0.0   \n",
       "5819       0.0      0.0       1.0     0.0     0.5    -0.5     0.0    -0.5   \n",
       "5821       0.0      0.0       0.0     0.0     0.5     0.0    -0.5     0.5   \n",
       "\n",
       "      MRELSA  MRELOV  ...  ALEVEN  APERSONG  AGEZONG  AWAOREG  ABRAND  \\\n",
       "0       -1.0     0.0  ...     0.0       0.0      0.0      0.0     0.0   \n",
       "1        1.0     0.0  ...     0.0       0.0      0.0      0.0     0.0   \n",
       "2        1.0     1.0  ...     0.0       0.0      0.0      0.0     0.0   \n",
       "3        1.0     0.0  ...     0.0       0.0      0.0      0.0     0.0   \n",
       "4        0.0     0.0  ...     0.0       0.0      0.0      0.0     0.0   \n",
       "...      ...     ...  ...     ...       ...      ...      ...     ...   \n",
       "5816    -1.0     0.5  ...     0.0       0.0      0.0      0.0    -1.0   \n",
       "5817     1.0     2.0  ...     2.0       0.0      0.0      0.0     0.0   \n",
       "5818    -1.0     0.5  ...     0.0       0.0      0.0      0.0     0.0   \n",
       "5819     0.0     1.0  ...     0.0       0.0      0.0      0.0     0.0   \n",
       "5821     0.0     0.0  ...     0.0       0.0      0.0      0.0    -1.0   \n",
       "\n",
       "      AZEILPL  APLEZIER  AFIETS  AINBOED  ABYSTAND  \n",
       "0         0.0       0.0     0.0      0.0       0.0  \n",
       "1         0.0       0.0     0.0      0.0       0.0  \n",
       "2         0.0       0.0     0.0      0.0       0.0  \n",
       "3         0.0       0.0     0.0      0.0       0.0  \n",
       "4         0.0       0.0     0.0      0.0       0.0  \n",
       "...       ...       ...     ...      ...       ...  \n",
       "5816      0.0       0.0     0.0      0.0       0.0  \n",
       "5817      0.0       0.0     0.0      0.0       0.0  \n",
       "5818      0.0       0.0     0.0      0.0       0.0  \n",
       "5819      0.0       0.0     0.0      0.0       0.0  \n",
       "5821      0.0       0.0     0.0      0.0       0.0  \n",
       "\n",
       "[5220 rows x 83 columns]"
      ]
     },
     "execution_count": 48,
     "metadata": {},
     "output_type": "execute_result"
    }
   ],
   "source": [
    "df[num_columns]"
   ]
  },
  {
   "cell_type": "code",
   "execution_count": 49,
   "id": "cba66761-c383-489f-9879-414cf2f6b227",
   "metadata": {},
   "outputs": [],
   "source": [
    "df_test[num_columns] = robust_scaler.transform(df_test[num_columns])"
   ]
  },
  {
   "cell_type": "code",
   "execution_count": 50,
   "id": "6257d694-937d-459c-bc42-b86e012bb7a5",
   "metadata": {},
   "outputs": [
    {
     "data": {
      "text/html": [
       "<div>\n",
       "<style scoped>\n",
       "    .dataframe tbody tr th:only-of-type {\n",
       "        vertical-align: middle;\n",
       "    }\n",
       "\n",
       "    .dataframe tbody tr th {\n",
       "        vertical-align: top;\n",
       "    }\n",
       "\n",
       "    .dataframe thead th {\n",
       "        text-align: right;\n",
       "    }\n",
       "</style>\n",
       "<table border=\"1\" class=\"dataframe\">\n",
       "  <thead>\n",
       "    <tr style=\"text-align: right;\">\n",
       "      <th></th>\n",
       "      <th>MOSTYPE</th>\n",
       "      <th>MAANTHUI</th>\n",
       "      <th>MGEMOMV</th>\n",
       "      <th>MGEMLEEF</th>\n",
       "      <th>MOSHOOFD</th>\n",
       "      <th>MGODRK</th>\n",
       "      <th>MGODPR</th>\n",
       "      <th>MGODOV</th>\n",
       "      <th>MGODGE</th>\n",
       "      <th>MRELGE</th>\n",
       "      <th>...</th>\n",
       "      <th>ALEVEN</th>\n",
       "      <th>APERSONG</th>\n",
       "      <th>AGEZONG</th>\n",
       "      <th>AWAOREG</th>\n",
       "      <th>ABRAND</th>\n",
       "      <th>AZEILPL</th>\n",
       "      <th>APLEZIER</th>\n",
       "      <th>AFIETS</th>\n",
       "      <th>AINBOED</th>\n",
       "      <th>ABYSTAND</th>\n",
       "    </tr>\n",
       "  </thead>\n",
       "  <tbody>\n",
       "    <tr>\n",
       "      <th>0</th>\n",
       "      <td>33</td>\n",
       "      <td>0.0</td>\n",
       "      <td>1.0</td>\n",
       "      <td>-1.0</td>\n",
       "      <td>8</td>\n",
       "      <td>0.0</td>\n",
       "      <td>0.5</td>\n",
       "      <td>-0.5</td>\n",
       "      <td>0.0</td>\n",
       "      <td>-0.5</td>\n",
       "      <td>...</td>\n",
       "      <td>0.0</td>\n",
       "      <td>0.0</td>\n",
       "      <td>0.0</td>\n",
       "      <td>0.0</td>\n",
       "      <td>0.0</td>\n",
       "      <td>0.0</td>\n",
       "      <td>0.0</td>\n",
       "      <td>0.0</td>\n",
       "      <td>0.0</td>\n",
       "      <td>0.0</td>\n",
       "    </tr>\n",
       "    <tr>\n",
       "      <th>1</th>\n",
       "      <td>6</td>\n",
       "      <td>0.0</td>\n",
       "      <td>0.0</td>\n",
       "      <td>-1.0</td>\n",
       "      <td>2</td>\n",
       "      <td>0.0</td>\n",
       "      <td>0.0</td>\n",
       "      <td>-0.5</td>\n",
       "      <td>0.5</td>\n",
       "      <td>-0.5</td>\n",
       "      <td>...</td>\n",
       "      <td>2.0</td>\n",
       "      <td>0.0</td>\n",
       "      <td>0.0</td>\n",
       "      <td>0.0</td>\n",
       "      <td>0.0</td>\n",
       "      <td>0.0</td>\n",
       "      <td>0.0</td>\n",
       "      <td>0.0</td>\n",
       "      <td>0.0</td>\n",
       "      <td>0.0</td>\n",
       "    </tr>\n",
       "  </tbody>\n",
       "</table>\n",
       "<p>2 rows × 85 columns</p>\n",
       "</div>"
      ],
      "text/plain": [
       "   MOSTYPE  MAANTHUI  MGEMOMV  MGEMLEEF  MOSHOOFD  MGODRK  MGODPR  MGODOV  \\\n",
       "0       33       0.0      1.0      -1.0         8     0.0     0.5    -0.5   \n",
       "1        6       0.0      0.0      -1.0         2     0.0     0.0    -0.5   \n",
       "\n",
       "   MGODGE  MRELGE  ...  ALEVEN  APERSONG  AGEZONG  AWAOREG  ABRAND  AZEILPL  \\\n",
       "0     0.0    -0.5  ...     0.0       0.0      0.0      0.0     0.0      0.0   \n",
       "1     0.5    -0.5  ...     2.0       0.0      0.0      0.0     0.0      0.0   \n",
       "\n",
       "   APLEZIER  AFIETS  AINBOED  ABYSTAND  \n",
       "0       0.0     0.0      0.0       0.0  \n",
       "1       0.0     0.0      0.0       0.0  \n",
       "\n",
       "[2 rows x 85 columns]"
      ]
     },
     "execution_count": 50,
     "metadata": {},
     "output_type": "execute_result"
    }
   ],
   "source": [
    "df_test.head(2)"
   ]
  },
  {
   "cell_type": "code",
   "execution_count": 51,
   "id": "0cb8eb97-d84d-4c34-92c3-9a961ef48d06",
   "metadata": {},
   "outputs": [],
   "source": [
    "df_all = pd.concat([df,df_test],axis=0)"
   ]
  },
  {
   "cell_type": "code",
   "execution_count": 52,
   "id": "2baf2383-2c2d-42a5-baa1-777dac6214ec",
   "metadata": {},
   "outputs": [],
   "source": [
    "df_all[cat_columns] = df_all[cat_columns].astype(str)"
   ]
  },
  {
   "cell_type": "code",
   "execution_count": 53,
   "id": "44e32271-753b-4544-9ea0-e7a5b6e3cafd",
   "metadata": {},
   "outputs": [],
   "source": [
    "df_all = pd.get_dummies(df_all)"
   ]
  },
  {
   "cell_type": "code",
   "execution_count": 54,
   "id": "ee4074ac-af8f-4cd0-b5ad-22d8183881e6",
   "metadata": {},
   "outputs": [
    {
     "data": {
      "text/html": [
       "<div>\n",
       "<style scoped>\n",
       "    .dataframe tbody tr th:only-of-type {\n",
       "        vertical-align: middle;\n",
       "    }\n",
       "\n",
       "    .dataframe tbody tr th {\n",
       "        vertical-align: top;\n",
       "    }\n",
       "\n",
       "    .dataframe thead th {\n",
       "        text-align: right;\n",
       "    }\n",
       "</style>\n",
       "<table border=\"1\" class=\"dataframe\">\n",
       "  <thead>\n",
       "    <tr style=\"text-align: right;\">\n",
       "      <th></th>\n",
       "      <th>MAANTHUI</th>\n",
       "      <th>MGEMOMV</th>\n",
       "      <th>MGEMLEEF</th>\n",
       "      <th>MGODRK</th>\n",
       "      <th>MGODPR</th>\n",
       "      <th>MGODOV</th>\n",
       "      <th>MGODGE</th>\n",
       "      <th>MRELGE</th>\n",
       "      <th>MRELSA</th>\n",
       "      <th>MRELOV</th>\n",
       "      <th>...</th>\n",
       "      <th>MOSHOOFD_1</th>\n",
       "      <th>MOSHOOFD_10</th>\n",
       "      <th>MOSHOOFD_2</th>\n",
       "      <th>MOSHOOFD_3</th>\n",
       "      <th>MOSHOOFD_4</th>\n",
       "      <th>MOSHOOFD_5</th>\n",
       "      <th>MOSHOOFD_6</th>\n",
       "      <th>MOSHOOFD_7</th>\n",
       "      <th>MOSHOOFD_8</th>\n",
       "      <th>MOSHOOFD_9</th>\n",
       "    </tr>\n",
       "  </thead>\n",
       "  <tbody>\n",
       "    <tr>\n",
       "      <th>0</th>\n",
       "      <td>0.0</td>\n",
       "      <td>0.0</td>\n",
       "      <td>-1.0</td>\n",
       "      <td>0.0</td>\n",
       "      <td>0.0</td>\n",
       "      <td>0.0</td>\n",
       "      <td>0.0</td>\n",
       "      <td>0.5</td>\n",
       "      <td>-1.0</td>\n",
       "      <td>0.0</td>\n",
       "      <td>...</td>\n",
       "      <td>0</td>\n",
       "      <td>0</td>\n",
       "      <td>0</td>\n",
       "      <td>0</td>\n",
       "      <td>0</td>\n",
       "      <td>0</td>\n",
       "      <td>0</td>\n",
       "      <td>0</td>\n",
       "      <td>1</td>\n",
       "      <td>0</td>\n",
       "    </tr>\n",
       "    <tr>\n",
       "      <th>1</th>\n",
       "      <td>0.0</td>\n",
       "      <td>-1.0</td>\n",
       "      <td>-1.0</td>\n",
       "      <td>1.0</td>\n",
       "      <td>-0.5</td>\n",
       "      <td>0.0</td>\n",
       "      <td>0.5</td>\n",
       "      <td>0.0</td>\n",
       "      <td>1.0</td>\n",
       "      <td>0.0</td>\n",
       "      <td>...</td>\n",
       "      <td>0</td>\n",
       "      <td>0</td>\n",
       "      <td>0</td>\n",
       "      <td>0</td>\n",
       "      <td>0</td>\n",
       "      <td>0</td>\n",
       "      <td>0</td>\n",
       "      <td>0</td>\n",
       "      <td>1</td>\n",
       "      <td>0</td>\n",
       "    </tr>\n",
       "    <tr>\n",
       "      <th>2</th>\n",
       "      <td>0.0</td>\n",
       "      <td>-1.0</td>\n",
       "      <td>-1.0</td>\n",
       "      <td>0.0</td>\n",
       "      <td>-0.5</td>\n",
       "      <td>0.5</td>\n",
       "      <td>0.5</td>\n",
       "      <td>-1.5</td>\n",
       "      <td>1.0</td>\n",
       "      <td>1.0</td>\n",
       "      <td>...</td>\n",
       "      <td>0</td>\n",
       "      <td>0</td>\n",
       "      <td>0</td>\n",
       "      <td>0</td>\n",
       "      <td>0</td>\n",
       "      <td>0</td>\n",
       "      <td>0</td>\n",
       "      <td>0</td>\n",
       "      <td>1</td>\n",
       "      <td>0</td>\n",
       "    </tr>\n",
       "    <tr>\n",
       "      <th>3</th>\n",
       "      <td>0.0</td>\n",
       "      <td>0.0</td>\n",
       "      <td>0.0</td>\n",
       "      <td>2.0</td>\n",
       "      <td>-1.0</td>\n",
       "      <td>0.5</td>\n",
       "      <td>0.5</td>\n",
       "      <td>-0.5</td>\n",
       "      <td>1.0</td>\n",
       "      <td>0.0</td>\n",
       "      <td>...</td>\n",
       "      <td>0</td>\n",
       "      <td>0</td>\n",
       "      <td>0</td>\n",
       "      <td>1</td>\n",
       "      <td>0</td>\n",
       "      <td>0</td>\n",
       "      <td>0</td>\n",
       "      <td>0</td>\n",
       "      <td>0</td>\n",
       "      <td>0</td>\n",
       "    </tr>\n",
       "    <tr>\n",
       "      <th>4</th>\n",
       "      <td>0.0</td>\n",
       "      <td>1.0</td>\n",
       "      <td>-1.0</td>\n",
       "      <td>1.0</td>\n",
       "      <td>-0.5</td>\n",
       "      <td>0.0</td>\n",
       "      <td>0.5</td>\n",
       "      <td>0.5</td>\n",
       "      <td>0.0</td>\n",
       "      <td>0.0</td>\n",
       "      <td>...</td>\n",
       "      <td>0</td>\n",
       "      <td>1</td>\n",
       "      <td>0</td>\n",
       "      <td>0</td>\n",
       "      <td>0</td>\n",
       "      <td>0</td>\n",
       "      <td>0</td>\n",
       "      <td>0</td>\n",
       "      <td>0</td>\n",
       "      <td>0</td>\n",
       "    </tr>\n",
       "    <tr>\n",
       "      <th>...</th>\n",
       "      <td>...</td>\n",
       "      <td>...</td>\n",
       "      <td>...</td>\n",
       "      <td>...</td>\n",
       "      <td>...</td>\n",
       "      <td>...</td>\n",
       "      <td>...</td>\n",
       "      <td>...</td>\n",
       "      <td>...</td>\n",
       "      <td>...</td>\n",
       "      <td>...</td>\n",
       "      <td>...</td>\n",
       "      <td>...</td>\n",
       "      <td>...</td>\n",
       "      <td>...</td>\n",
       "      <td>...</td>\n",
       "      <td>...</td>\n",
       "      <td>...</td>\n",
       "      <td>...</td>\n",
       "      <td>...</td>\n",
       "      <td>...</td>\n",
       "    </tr>\n",
       "    <tr>\n",
       "      <th>3995</th>\n",
       "      <td>0.0</td>\n",
       "      <td>-1.0</td>\n",
       "      <td>1.0</td>\n",
       "      <td>0.0</td>\n",
       "      <td>1.0</td>\n",
       "      <td>0.5</td>\n",
       "      <td>-1.5</td>\n",
       "      <td>-0.5</td>\n",
       "      <td>1.0</td>\n",
       "      <td>0.0</td>\n",
       "      <td>...</td>\n",
       "      <td>0</td>\n",
       "      <td>0</td>\n",
       "      <td>0</td>\n",
       "      <td>0</td>\n",
       "      <td>0</td>\n",
       "      <td>0</td>\n",
       "      <td>0</td>\n",
       "      <td>0</td>\n",
       "      <td>1</td>\n",
       "      <td>0</td>\n",
       "    </tr>\n",
       "    <tr>\n",
       "      <th>3996</th>\n",
       "      <td>0.0</td>\n",
       "      <td>-1.0</td>\n",
       "      <td>0.0</td>\n",
       "      <td>1.0</td>\n",
       "      <td>0.0</td>\n",
       "      <td>0.0</td>\n",
       "      <td>0.0</td>\n",
       "      <td>-1.0</td>\n",
       "      <td>1.0</td>\n",
       "      <td>1.0</td>\n",
       "      <td>...</td>\n",
       "      <td>0</td>\n",
       "      <td>0</td>\n",
       "      <td>0</td>\n",
       "      <td>0</td>\n",
       "      <td>0</td>\n",
       "      <td>1</td>\n",
       "      <td>0</td>\n",
       "      <td>0</td>\n",
       "      <td>0</td>\n",
       "      <td>0</td>\n",
       "    </tr>\n",
       "    <tr>\n",
       "      <th>3997</th>\n",
       "      <td>0.0</td>\n",
       "      <td>-1.0</td>\n",
       "      <td>0.0</td>\n",
       "      <td>1.0</td>\n",
       "      <td>0.0</td>\n",
       "      <td>0.0</td>\n",
       "      <td>0.0</td>\n",
       "      <td>0.5</td>\n",
       "      <td>-1.0</td>\n",
       "      <td>0.0</td>\n",
       "      <td>...</td>\n",
       "      <td>0</td>\n",
       "      <td>0</td>\n",
       "      <td>0</td>\n",
       "      <td>0</td>\n",
       "      <td>0</td>\n",
       "      <td>0</td>\n",
       "      <td>0</td>\n",
       "      <td>0</td>\n",
       "      <td>1</td>\n",
       "      <td>0</td>\n",
       "    </tr>\n",
       "    <tr>\n",
       "      <th>3998</th>\n",
       "      <td>0.0</td>\n",
       "      <td>0.0</td>\n",
       "      <td>0.0</td>\n",
       "      <td>1.0</td>\n",
       "      <td>-0.5</td>\n",
       "      <td>0.5</td>\n",
       "      <td>0.0</td>\n",
       "      <td>0.5</td>\n",
       "      <td>0.0</td>\n",
       "      <td>0.0</td>\n",
       "      <td>...</td>\n",
       "      <td>0</td>\n",
       "      <td>0</td>\n",
       "      <td>0</td>\n",
       "      <td>0</td>\n",
       "      <td>0</td>\n",
       "      <td>0</td>\n",
       "      <td>0</td>\n",
       "      <td>0</td>\n",
       "      <td>1</td>\n",
       "      <td>0</td>\n",
       "    </tr>\n",
       "    <tr>\n",
       "      <th>3999</th>\n",
       "      <td>0.0</td>\n",
       "      <td>-1.0</td>\n",
       "      <td>0.0</td>\n",
       "      <td>4.0</td>\n",
       "      <td>-1.0</td>\n",
       "      <td>-0.5</td>\n",
       "      <td>0.0</td>\n",
       "      <td>-0.5</td>\n",
       "      <td>1.0</td>\n",
       "      <td>0.0</td>\n",
       "      <td>...</td>\n",
       "      <td>0</td>\n",
       "      <td>0</td>\n",
       "      <td>1</td>\n",
       "      <td>0</td>\n",
       "      <td>0</td>\n",
       "      <td>0</td>\n",
       "      <td>0</td>\n",
       "      <td>0</td>\n",
       "      <td>0</td>\n",
       "      <td>0</td>\n",
       "    </tr>\n",
       "  </tbody>\n",
       "</table>\n",
       "<p>9220 rows × 133 columns</p>\n",
       "</div>"
      ],
      "text/plain": [
       "      MAANTHUI  MGEMOMV  MGEMLEEF  MGODRK  MGODPR  MGODOV  MGODGE  MRELGE  \\\n",
       "0          0.0      0.0      -1.0     0.0     0.0     0.0     0.0     0.5   \n",
       "1          0.0     -1.0      -1.0     1.0    -0.5     0.0     0.5     0.0   \n",
       "2          0.0     -1.0      -1.0     0.0    -0.5     0.5     0.5    -1.5   \n",
       "3          0.0      0.0       0.0     2.0    -1.0     0.5     0.5    -0.5   \n",
       "4          0.0      1.0      -1.0     1.0    -0.5     0.0     0.5     0.5   \n",
       "...        ...      ...       ...     ...     ...     ...     ...     ...   \n",
       "3995       0.0     -1.0       1.0     0.0     1.0     0.5    -1.5    -0.5   \n",
       "3996       0.0     -1.0       0.0     1.0     0.0     0.0     0.0    -1.0   \n",
       "3997       0.0     -1.0       0.0     1.0     0.0     0.0     0.0     0.5   \n",
       "3998       0.0      0.0       0.0     1.0    -0.5     0.5     0.0     0.5   \n",
       "3999       0.0     -1.0       0.0     4.0    -1.0    -0.5     0.0    -0.5   \n",
       "\n",
       "      MRELSA  MRELOV  ...  MOSHOOFD_1  MOSHOOFD_10  MOSHOOFD_2  MOSHOOFD_3  \\\n",
       "0       -1.0     0.0  ...           0            0           0           0   \n",
       "1        1.0     0.0  ...           0            0           0           0   \n",
       "2        1.0     1.0  ...           0            0           0           0   \n",
       "3        1.0     0.0  ...           0            0           0           1   \n",
       "4        0.0     0.0  ...           0            1           0           0   \n",
       "...      ...     ...  ...         ...          ...         ...         ...   \n",
       "3995     1.0     0.0  ...           0            0           0           0   \n",
       "3996     1.0     1.0  ...           0            0           0           0   \n",
       "3997    -1.0     0.0  ...           0            0           0           0   \n",
       "3998     0.0     0.0  ...           0            0           0           0   \n",
       "3999     1.0     0.0  ...           0            0           1           0   \n",
       "\n",
       "      MOSHOOFD_4  MOSHOOFD_5  MOSHOOFD_6  MOSHOOFD_7  MOSHOOFD_8  MOSHOOFD_9  \n",
       "0              0           0           0           0           1           0  \n",
       "1              0           0           0           0           1           0  \n",
       "2              0           0           0           0           1           0  \n",
       "3              0           0           0           0           0           0  \n",
       "4              0           0           0           0           0           0  \n",
       "...          ...         ...         ...         ...         ...         ...  \n",
       "3995           0           0           0           0           1           0  \n",
       "3996           0           1           0           0           0           0  \n",
       "3997           0           0           0           0           1           0  \n",
       "3998           0           0           0           0           1           0  \n",
       "3999           0           0           0           0           0           0  \n",
       "\n",
       "[9220 rows x 133 columns]"
      ]
     },
     "execution_count": 54,
     "metadata": {},
     "output_type": "execute_result"
    }
   ],
   "source": [
    "df_all"
   ]
  },
  {
   "cell_type": "code",
   "execution_count": 55,
   "id": "641f51b5-8501-491a-847e-4967ab3e7f96",
   "metadata": {},
   "outputs": [
    {
     "data": {
      "text/plain": [
       "(9220, 5220, 4000)"
      ]
     },
     "execution_count": 55,
     "metadata": {},
     "output_type": "execute_result"
    }
   ],
   "source": [
    "len(df_all), len(df), len(df_test)"
   ]
  },
  {
   "cell_type": "code",
   "execution_count": 56,
   "id": "181b804e-b90e-461d-b17f-bdc688c4f579",
   "metadata": {},
   "outputs": [],
   "source": [
    "len_df = len(df)"
   ]
  },
  {
   "cell_type": "code",
   "execution_count": 57,
   "id": "cbe10e70-c070-49a6-ba0f-1f079e7b1d91",
   "metadata": {},
   "outputs": [],
   "source": [
    "df = df_all.iloc[:len_df]\n",
    "df_test = df_all.iloc[len_df:]"
   ]
  },
  {
   "cell_type": "code",
   "execution_count": null,
   "id": "19a6749b-6cee-4a0c-9719-4b8f6f07b7b2",
   "metadata": {},
   "outputs": [],
   "source": []
  },
  {
   "cell_type": "code",
   "execution_count": 58,
   "id": "7a9c5a8f-1e14-4f40-a617-4aa6e1bc5952",
   "metadata": {},
   "outputs": [
    {
     "data": {
      "text/plain": [
       "(9220, 5220, 4000)"
      ]
     },
     "execution_count": 58,
     "metadata": {},
     "output_type": "execute_result"
    }
   ],
   "source": [
    "len(df_all), len(df), len(df_test)"
   ]
  },
  {
   "cell_type": "markdown",
   "id": "1593ce49-b8c6-44b9-a71b-3680db808f9a",
   "metadata": {},
   "source": [
    "## Oversampling and undersampling the training set"
   ]
  },
  {
   "cell_type": "code",
   "execution_count": 59,
   "id": "7288abd9-90ad-439f-a3f6-d3baabb5e2f7",
   "metadata": {},
   "outputs": [
    {
     "data": {
      "text/plain": [
       "0    4880\n",
       "1     340\n",
       "Name: CARAVAN, dtype: int64"
      ]
     },
     "execution_count": 59,
     "metadata": {},
     "output_type": "execute_result"
    }
   ],
   "source": [
    "y.value_counts()"
   ]
  },
  {
   "cell_type": "code",
   "execution_count": 60,
   "id": "9222a987-e1f1-4e64-8401-8c63459030ff",
   "metadata": {},
   "outputs": [],
   "source": [
    "from scipy.stats import describe\n",
    "from imblearn.over_sampling import RandomOverSampler,SMOTE, ADASYN\n",
    "from imblearn.under_sampling import RandomUnderSampler\n",
    "from imblearn.metrics import classification_report_imbalanced\n",
    "from imblearn.pipeline import Pipeline as imb_Pipeline\n",
    "from imblearn.base import SamplerMixin\n",
    "from sklearn.decomposition import PCA\n"
   ]
  },
  {
   "cell_type": "code",
   "execution_count": 61,
   "id": "e8664701-58c1-4659-ad87-b0e25d7734c5",
   "metadata": {},
   "outputs": [],
   "source": [
    "from sklearn.linear_model import LogisticRegression\n",
    "from sklearn.ensemble import RandomForestClassifier\n",
    "from sklearn.model_selection import GridSearchCV\n",
    "from sklearn.model_selection import RandomizedSearchCV\n",
    "from sklearn.model_selection import cross_val_score\n",
    "from sklearn.metrics import make_scorer\n",
    "import time"
   ]
  },
  {
   "cell_type": "code",
   "execution_count": null,
   "id": "942390da-dc85-4f47-9ab3-54881a9551a7",
   "metadata": {},
   "outputs": [],
   "source": []
  },
  {
   "cell_type": "code",
   "execution_count": 62,
   "id": "32afea9b-715d-4f7a-8fdc-03e28ab876c6",
   "metadata": {},
   "outputs": [],
   "source": [
    "X_train, X_test, y_train, y_test = train_test_split(df,y,test_size=0.25, random_state=42)"
   ]
  },
  {
   "cell_type": "code",
   "execution_count": 63,
   "id": "a032532d-01bb-40dc-87b7-1fb6917031ba",
   "metadata": {},
   "outputs": [
    {
     "data": {
      "text/plain": [
       "0.06821282401091405"
      ]
     },
     "execution_count": 63,
     "metadata": {},
     "output_type": "execute_result"
    }
   ],
   "source": [
    "y_train.sum()/(len(y_train)-y_train.sum())"
   ]
  },
  {
   "cell_type": "code",
   "execution_count": 64,
   "id": "c6f19f90-4660-49b9-9a32-44987603fea1",
   "metadata": {},
   "outputs": [
    {
     "name": "stdout",
     "output_type": "stream",
     "text": [
      "over: 0.11 & under: 0.81 | score: 0.5852\n",
      "over: 0.11 & under: 0.82 | score: 0.5700\n",
      "over: 0.11 & under: 0.83 | score: 0.6088\n",
      "over: 0.11 & under: 0.84 | score: 0.6002\n",
      "over: 0.11 & under: 0.85 | score: 0.6235\n",
      "over: 0.11 & under: 0.86 | score: 0.5852\n",
      "over: 0.11 & under: 0.87 | score: 0.6354\n",
      "over: 0.11 & under: 0.88 | score: 0.6173\n",
      "over: 0.11 & under: 0.89 | score: 0.5944\n",
      "over: 0.11 & under: 0.90 | score: 0.6628\n",
      "over: 0.11 & under: 0.91 | score: 0.6272\n",
      "over: 0.11 & under: 0.92 | score: 0.5942\n",
      "over: 0.11 & under: 0.93 | score: 0.5835\n",
      "over: 0.11 & under: 0.94 | score: 0.5969\n",
      "over: 0.11 & under: 0.95 | score: 0.6623\n",
      "over: 0.11 & under: 0.96 | score: 0.6012\n",
      "over: 0.11 & under: 0.97 | score: 0.6169\n",
      "over: 0.11 & under: 0.98 | score: 0.6115\n",
      "over: 0.11 & under: 0.99 | score: 0.6163\n",
      "over: 0.11 & under: 1.00 | score: 0.6181\n",
      "over: 0.12 & under: 0.81 | score: 0.5825\n",
      "over: 0.12 & under: 0.82 | score: 0.6309\n",
      "over: 0.12 & under: 0.83 | score: 0.5977\n",
      "over: 0.12 & under: 0.84 | score: 0.6111\n",
      "over: 0.12 & under: 0.85 | score: 0.6045\n",
      "over: 0.12 & under: 0.86 | score: 0.6407\n",
      "over: 0.12 & under: 0.87 | score: 0.5988\n",
      "over: 0.12 & under: 0.88 | score: 0.5730\n",
      "over: 0.12 & under: 0.89 | score: 0.5947\n",
      "over: 0.12 & under: 0.90 | score: 0.5944\n",
      "over: 0.12 & under: 0.91 | score: 0.5947\n",
      "over: 0.12 & under: 0.92 | score: 0.6292\n",
      "over: 0.12 & under: 0.93 | score: 0.6323\n",
      "over: 0.12 & under: 0.94 | score: 0.6340\n",
      "over: 0.12 & under: 0.95 | score: 0.6344\n",
      "over: 0.12 & under: 0.96 | score: 0.5949\n",
      "over: 0.12 & under: 0.97 | score: 0.6440\n",
      "over: 0.12 & under: 0.98 | score: 0.6051\n",
      "over: 0.12 & under: 0.99 | score: 0.6504\n",
      "over: 0.12 & under: 1.00 | score: 0.6276\n",
      "over: 0.13 & under: 0.81 | score: 0.6053\n",
      "over: 0.13 & under: 0.82 | score: 0.6000\n",
      "over: 0.13 & under: 0.83 | score: 0.5770\n",
      "over: 0.13 & under: 0.84 | score: 0.6060\n",
      "over: 0.13 & under: 0.85 | score: 0.6064\n",
      "over: 0.13 & under: 0.86 | score: 0.6025\n",
      "over: 0.13 & under: 0.87 | score: 0.6181\n",
      "over: 0.13 & under: 0.88 | score: 0.6056\n",
      "over: 0.13 & under: 0.89 | score: 0.6202\n",
      "over: 0.13 & under: 0.90 | score: 0.5998\n",
      "over: 0.13 & under: 0.91 | score: 0.6144\n",
      "over: 0.13 & under: 0.92 | score: 0.6469\n",
      "over: 0.13 & under: 0.93 | score: 0.5916\n",
      "over: 0.13 & under: 0.94 | score: 0.6313\n",
      "over: 0.13 & under: 0.95 | score: 0.6006\n",
      "over: 0.13 & under: 0.96 | score: 0.5825\n",
      "over: 0.13 & under: 0.97 | score: 0.6239\n",
      "over: 0.13 & under: 0.98 | score: 0.6247\n",
      "over: 0.13 & under: 0.99 | score: 0.6426\n",
      "over: 0.13 & under: 1.00 | score: 0.6066\n",
      "over: 0.14 & under: 0.81 | score: 0.5909\n",
      "over: 0.14 & under: 0.82 | score: 0.5862\n",
      "over: 0.14 & under: 0.83 | score: 0.5778\n",
      "over: 0.14 & under: 0.84 | score: 0.6173\n",
      "over: 0.14 & under: 0.85 | score: 0.5938\n",
      "over: 0.14 & under: 0.86 | score: 0.6163\n",
      "over: 0.14 & under: 0.87 | score: 0.6202\n",
      "over: 0.14 & under: 0.88 | score: 0.6154\n",
      "over: 0.14 & under: 0.89 | score: 0.6004\n",
      "over: 0.14 & under: 0.90 | score: 0.5996\n",
      "over: 0.14 & under: 0.91 | score: 0.6023\n",
      "over: 0.14 & under: 0.92 | score: 0.6442\n",
      "over: 0.14 & under: 0.93 | score: 0.6025\n",
      "over: 0.14 & under: 0.94 | score: 0.6302\n",
      "over: 0.14 & under: 0.95 | score: 0.6204\n",
      "over: 0.14 & under: 0.96 | score: 0.6183\n",
      "over: 0.14 & under: 0.97 | score: 0.6475\n",
      "over: 0.14 & under: 0.98 | score: 0.6251\n",
      "over: 0.14 & under: 0.99 | score: 0.6088\n",
      "over: 0.14 & under: 1.00 | score: 0.6202\n",
      "over: 0.15 & under: 0.81 | score: 0.6121\n",
      "over: 0.15 & under: 0.82 | score: 0.5823\n",
      "over: 0.15 & under: 0.83 | score: 0.5819\n",
      "over: 0.15 & under: 0.84 | score: 0.5716\n",
      "over: 0.15 & under: 0.85 | score: 0.5605\n",
      "over: 0.15 & under: 0.86 | score: 0.6200\n",
      "over: 0.15 & under: 0.87 | score: 0.5965\n",
      "over: 0.15 & under: 0.88 | score: 0.6121\n",
      "over: 0.15 & under: 0.89 | score: 0.5704\n",
      "over: 0.15 & under: 0.90 | score: 0.6117\n",
      "over: 0.15 & under: 0.91 | score: 0.5891\n",
      "over: 0.15 & under: 0.92 | score: 0.6259\n",
      "over: 0.15 & under: 0.93 | score: 0.5895\n",
      "over: 0.15 & under: 0.94 | score: 0.5856\n",
      "over: 0.15 & under: 0.95 | score: 0.5909\n",
      "over: 0.15 & under: 0.96 | score: 0.5918\n",
      "over: 0.15 & under: 0.97 | score: 0.5712\n",
      "over: 0.15 & under: 0.98 | score: 0.6101\n",
      "over: 0.15 & under: 0.99 | score: 0.6058\n",
      "over: 0.15 & under: 1.00 | score: 0.5932\n",
      "over: 0.16 & under: 0.81 | score: 0.5887\n",
      "over: 0.16 & under: 0.82 | score: 0.5774\n",
      "over: 0.16 & under: 0.83 | score: 0.5531\n",
      "over: 0.16 & under: 0.84 | score: 0.5570\n",
      "over: 0.16 & under: 0.85 | score: 0.5990\n",
      "over: 0.16 & under: 0.86 | score: 0.5770\n",
      "over: 0.16 & under: 0.87 | score: 0.6181\n",
      "over: 0.16 & under: 0.88 | score: 0.6093\n",
      "over: 0.16 & under: 0.89 | score: 0.5852\n",
      "over: 0.16 & under: 0.90 | score: 0.6027\n",
      "over: 0.16 & under: 0.91 | score: 0.5848\n",
      "over: 0.16 & under: 0.92 | score: 0.5811\n",
      "over: 0.16 & under: 0.93 | score: 0.5891\n",
      "over: 0.16 & under: 0.94 | score: 0.5973\n",
      "over: 0.16 & under: 0.95 | score: 0.6051\n",
      "over: 0.16 & under: 0.96 | score: 0.5893\n",
      "over: 0.16 & under: 0.97 | score: 0.6286\n",
      "over: 0.16 & under: 0.98 | score: 0.6091\n",
      "over: 0.16 & under: 0.99 | score: 0.6033\n",
      "over: 0.16 & under: 1.00 | score: 0.6078\n",
      "over: 0.17 & under: 0.81 | score: 0.5663\n",
      "over: 0.17 & under: 0.82 | score: 0.5599\n",
      "over: 0.17 & under: 0.83 | score: 0.5556\n",
      "over: 0.17 & under: 0.84 | score: 0.6084\n",
      "over: 0.17 & under: 0.85 | score: 0.5930\n",
      "over: 0.17 & under: 0.86 | score: 0.5854\n",
      "over: 0.17 & under: 0.87 | score: 0.5973\n",
      "over: 0.17 & under: 0.88 | score: 0.5630\n",
      "over: 0.17 & under: 0.89 | score: 0.6021\n",
      "over: 0.17 & under: 0.90 | score: 0.5753\n",
      "over: 0.17 & under: 0.91 | score: 0.6095\n",
      "over: 0.17 & under: 0.92 | score: 0.5852\n",
      "over: 0.17 & under: 0.93 | score: 0.6064\n",
      "over: 0.17 & under: 0.94 | score: 0.6023\n",
      "over: 0.17 & under: 0.95 | score: 0.5885\n",
      "over: 0.17 & under: 0.96 | score: 0.5866\n",
      "over: 0.17 & under: 0.97 | score: 0.6012\n",
      "over: 0.17 & under: 0.98 | score: 0.6016\n",
      "over: 0.17 & under: 0.99 | score: 0.5654\n",
      "over: 0.17 & under: 1.00 | score: 0.5971\n",
      "over: 0.18 & under: 0.81 | score: 0.5492\n",
      "over: 0.18 & under: 0.82 | score: 0.5969\n",
      "over: 0.18 & under: 0.83 | score: 0.5975\n",
      "over: 0.18 & under: 0.84 | score: 0.6097\n",
      "over: 0.18 & under: 0.85 | score: 0.5981\n",
      "over: 0.18 & under: 0.86 | score: 0.5710\n",
      "over: 0.18 & under: 0.87 | score: 0.5936\n",
      "over: 0.18 & under: 0.88 | score: 0.5784\n",
      "over: 0.18 & under: 0.89 | score: 0.5852\n",
      "over: 0.18 & under: 0.90 | score: 0.6045\n",
      "over: 0.18 & under: 0.91 | score: 0.6086\n",
      "over: 0.18 & under: 0.92 | score: 0.5973\n",
      "over: 0.18 & under: 0.93 | score: 0.5887\n",
      "over: 0.18 & under: 0.94 | score: 0.6115\n",
      "over: 0.18 & under: 0.95 | score: 0.5792\n",
      "over: 0.18 & under: 0.96 | score: 0.5817\n",
      "over: 0.18 & under: 0.97 | score: 0.5831\n",
      "over: 0.18 & under: 0.98 | score: 0.5998\n",
      "over: 0.18 & under: 0.99 | score: 0.5553\n",
      "over: 0.18 & under: 1.00 | score: 0.6235\n",
      "over: 0.19 & under: 0.81 | score: 0.5700\n",
      "over: 0.19 & under: 0.82 | score: 0.5681\n",
      "over: 0.19 & under: 0.83 | score: 0.5794\n",
      "over: 0.19 & under: 0.84 | score: 0.5724\n",
      "over: 0.19 & under: 0.85 | score: 0.5817\n",
      "over: 0.19 & under: 0.86 | score: 0.5949\n",
      "over: 0.19 & under: 0.87 | score: 0.5819\n",
      "over: 0.19 & under: 0.88 | score: 0.5827\n",
      "over: 0.19 & under: 0.89 | score: 0.6337\n",
      "over: 0.19 & under: 0.90 | score: 0.5868\n",
      "over: 0.19 & under: 0.91 | score: 0.5759\n",
      "over: 0.19 & under: 0.92 | score: 0.5770\n",
      "over: 0.19 & under: 0.93 | score: 0.5924\n",
      "over: 0.19 & under: 0.94 | score: 0.5944\n",
      "over: 0.19 & under: 0.95 | score: 0.5934\n",
      "over: 0.19 & under: 0.96 | score: 0.5675\n",
      "over: 0.19 & under: 0.97 | score: 0.5872\n",
      "over: 0.19 & under: 0.98 | score: 0.6051\n",
      "over: 0.19 & under: 0.99 | score: 0.5990\n",
      "over: 0.19 & under: 1.00 | score: 0.5924\n",
      "over: 0.20 & under: 0.81 | score: 0.5405\n",
      "over: 0.20 & under: 0.82 | score: 0.5988\n",
      "over: 0.20 & under: 0.83 | score: 0.5827\n",
      "over: 0.20 & under: 0.84 | score: 0.5426\n",
      "over: 0.20 & under: 0.85 | score: 0.5599\n",
      "over: 0.20 & under: 0.86 | score: 0.5722\n",
      "over: 0.20 & under: 0.87 | score: 0.5749\n",
      "over: 0.20 & under: 0.88 | score: 0.5570\n",
      "over: 0.20 & under: 0.89 | score: 0.5601\n",
      "over: 0.20 & under: 0.90 | score: 0.5619\n",
      "over: 0.20 & under: 0.91 | score: 0.6150\n",
      "over: 0.20 & under: 0.92 | score: 0.5936\n",
      "over: 0.20 & under: 0.93 | score: 0.5636\n",
      "over: 0.20 & under: 0.94 | score: 0.5751\n",
      "over: 0.20 & under: 0.95 | score: 0.5761\n",
      "over: 0.20 & under: 0.96 | score: 0.6224\n",
      "over: 0.20 & under: 0.97 | score: 0.5805\n",
      "over: 0.20 & under: 0.98 | score: 0.5953\n",
      "over: 0.20 & under: 0.99 | score: 0.5877\n",
      "over: 0.20 & under: 1.00 | score: 0.6043\n",
      "72.13s\n"
     ]
    }
   ],
   "source": [
    "# tuning sampling strategies by hand\n",
    "start = time.time()\n",
    "max_over = 0.0\n",
    "max_under = 0.0\n",
    "max_balanced_accuracy = 0.0\n",
    "\n",
    "DIV_NUM = 100\n",
    "DIV_SIZE = 1.0/DIV_NUM\n",
    "\n",
    "for over_rate_ind in np.arange(11,1+DIV_NUM//5,1):\n",
    "    over_rate = over_rate_ind*DIV_SIZE\n",
    "    over = RandomOverSampler(sampling_strategy=over_rate)\n",
    "    X_train_over, y_train_over = over.fit_resample(X_train,y_train)\n",
    "    for under_rate_ind in np.arange(81,1+DIV_NUM,1):\n",
    "        under_rate = under_rate_ind*DIV_SIZE\n",
    "        under = RandomUnderSampler(sampling_strategy=under_rate)\n",
    "        X_train_under, y_train_under = under.fit_resample(X_train_over,y_train_over)\n",
    "        \n",
    "        rforest = RandomForestClassifier(n_estimators=100)\n",
    "        rforest.fit(X_train_under,y_train_under)\n",
    "        y_pred = rforest.predict(X_test)\n",
    "        print(f\"over: {over_rate:.2f} & under: {under_rate:.2f} | score: {balanced_accuracy_score(y_test,y_pred):.4f}\")\n",
    "        balanced_accuracy_score_temp = balanced_accuracy_score(y_test,y_pred)\n",
    "        if balanced_accuracy_score_temp > max_balanced_accuracy:\n",
    "            max_balanced_accuracy = balanced_accuracy_score_temp\n",
    "            max_over = over_rate\n",
    "            max_under = under_rate\n",
    "end = time.time()\n",
    "print(f\"{end-start:.2f}s\")"
   ]
  },
  {
   "cell_type": "code",
   "execution_count": 65,
   "id": "53f32b65-7c56-46b9-ace3-f3be54ae7414",
   "metadata": {},
   "outputs": [
    {
     "data": {
      "text/plain": [
       "(0.11, 0.9, 0.6627572016460905)"
      ]
     },
     "execution_count": 65,
     "metadata": {},
     "output_type": "execute_result"
    }
   ],
   "source": [
    "max_over, max_under, max_balanced_accuracy"
   ]
  },
  {
   "cell_type": "markdown",
   "id": "42de404a-e6ce-4cda-8cb6-873bef0a38e9",
   "metadata": {},
   "source": [
    "# Models"
   ]
  },
  {
   "cell_type": "markdown",
   "id": "5c11397a-b344-48cf-8811-839589934129",
   "metadata": {},
   "source": [
    "## 1st Competition\n",
    "\n",
    "Ensemble of Random forests."
   ]
  },
  {
   "cell_type": "code",
   "execution_count": 66,
   "id": "0478c76e-664c-47a5-abf2-9ad683c65715",
   "metadata": {},
   "outputs": [],
   "source": [
    "def train_ensemble(X_train,y_train,over_rate,under_rate, num_models=10,num_estimators = 100,max_depth=10,max_features=10):\n",
    "    \"\"\"\n",
    "    Training an ensemble random forest model\n",
    "    \"\"\"\n",
    "    models=[]\n",
    "    for i in range(num_models):\n",
    "        over = RandomOverSampler(sampling_strategy=over_rate)\n",
    "        X_train_over, y_train_over = over.fit_resample(X_train,y_train)\n",
    "        under = RandomUnderSampler(sampling_strategy=under_rate)\n",
    "        X_train_under, y_train_under = under.fit_resample(X_train_over,y_train_over)\n",
    "        rforest = RandomForestClassifier(n_estimators=num_estimators,max_depth=max_depth,max_features=max_features)\n",
    "        rforest.fit(X_train_under,y_train_under)\n",
    "        models.append(rforest)\n",
    "    return models"
   ]
  },
  {
   "cell_type": "code",
   "execution_count": 67,
   "id": "04874c48-70f4-4dda-ba5b-d07eb8b74db4",
   "metadata": {},
   "outputs": [],
   "source": [
    "def predict_ensemble(X,models):\n",
    "    \"\"\"\n",
    "    Creating ensemble prediction\n",
    "    \"\"\"\n",
    "    y_preds = []\n",
    "    for model in models:\n",
    "        y_pred = model.predict(X)\n",
    "        y_preds.append(y_pred)\n",
    "    y_preds = np.array(y_preds)\n",
    "    return np.round(np.mean(np.array(y_preds),axis=0)).astype(int)"
   ]
  },
  {
   "cell_type": "code",
   "execution_count": 68,
   "id": "0b19ec0b-e968-459a-90d9-780523d63c1b",
   "metadata": {},
   "outputs": [],
   "source": [
    "models = train_ensemble(X_train,y_train,max_over,max_under,10,100,5,50)"
   ]
  },
  {
   "cell_type": "code",
   "execution_count": 69,
   "id": "ab5a3283-a468-45fd-963e-31048882a9eb",
   "metadata": {},
   "outputs": [],
   "source": [
    "y_preds = predict_ensemble(X_test,models)"
   ]
  },
  {
   "cell_type": "code",
   "execution_count": 70,
   "id": "0d79510f-f442-4968-9a49-c0ee09e81a2a",
   "metadata": {},
   "outputs": [
    {
     "data": {
      "text/plain": [
       "array([0, 1, 0, ..., 0, 0, 1])"
      ]
     },
     "execution_count": 70,
     "metadata": {},
     "output_type": "execute_result"
    }
   ],
   "source": [
    "y_preds"
   ]
  },
  {
   "cell_type": "code",
   "execution_count": 71,
   "id": "72e249e1-c68f-4713-beb5-924f67dcb7dc",
   "metadata": {},
   "outputs": [
    {
     "data": {
      "text/plain": [
       "0.6969135802469135"
      ]
     },
     "execution_count": 71,
     "metadata": {},
     "output_type": "execute_result"
    }
   ],
   "source": [
    "balanced_accuracy_score(y_test,y_preds)"
   ]
  },
  {
   "cell_type": "code",
   "execution_count": 72,
   "id": "8d5faf51-1392-4864-8ed3-b568aeca63ed",
   "metadata": {},
   "outputs": [],
   "source": [
    "# Confusion matrix\n",
    "from sklearn.metrics import confusion_matrix\n",
    "def print_report(y_true,y_pred):\n",
    "    cm = pd.DataFrame(confusion_matrix(y_pred=y_pred, y_true=y_true), \n",
    "                      columns=[\"0\",\"1\"], index=[\"0\",\"1\"])\n",
    "    cm.index.name = 'True'\n",
    "    cm.columns.name = 'Predicted'\n",
    "    return cm"
   ]
  },
  {
   "cell_type": "code",
   "execution_count": 73,
   "id": "585105cb-c5cc-45af-8376-74f435d26272",
   "metadata": {},
   "outputs": [
    {
     "data": {
      "text/html": [
       "<div>\n",
       "<style scoped>\n",
       "    .dataframe tbody tr th:only-of-type {\n",
       "        vertical-align: middle;\n",
       "    }\n",
       "\n",
       "    .dataframe tbody tr th {\n",
       "        vertical-align: top;\n",
       "    }\n",
       "\n",
       "    .dataframe thead th {\n",
       "        text-align: right;\n",
       "    }\n",
       "</style>\n",
       "<table border=\"1\" class=\"dataframe\">\n",
       "  <thead>\n",
       "    <tr style=\"text-align: right;\">\n",
       "      <th>Predicted</th>\n",
       "      <th>0</th>\n",
       "      <th>1</th>\n",
       "    </tr>\n",
       "    <tr>\n",
       "      <th>True</th>\n",
       "      <th></th>\n",
       "      <th></th>\n",
       "    </tr>\n",
       "  </thead>\n",
       "  <tbody>\n",
       "    <tr>\n",
       "      <th>0</th>\n",
       "      <td>897</td>\n",
       "      <td>318</td>\n",
       "    </tr>\n",
       "    <tr>\n",
       "      <th>1</th>\n",
       "      <td>31</td>\n",
       "      <td>59</td>\n",
       "    </tr>\n",
       "  </tbody>\n",
       "</table>\n",
       "</div>"
      ],
      "text/plain": [
       "Predicted    0    1\n",
       "True               \n",
       "0          897  318\n",
       "1           31   59"
      ]
     },
     "execution_count": 73,
     "metadata": {},
     "output_type": "execute_result"
    }
   ],
   "source": [
    "print_report(y_test,y_preds)"
   ]
  },
  {
   "cell_type": "markdown",
   "id": "df1a082a-b0ec-48c3-98ac-18cd0adf3648",
   "metadata": {},
   "source": [
    "### Searching the hyperparameters by hand\n",
    "\n",
    "1. number of models\n",
    "2. num_estimators\n",
    "3. max_depth\n",
    "4. max_features"
   ]
  },
  {
   "cell_type": "code",
   "execution_count": 74,
   "id": "00552027-3dfd-4b85-859d-72b8ccae4ef5",
   "metadata": {},
   "outputs": [
    {
     "name": "stdout",
     "output_type": "stream",
     "text": [
      "1/100 | score: 0.6340 | time: 2.36s\n",
      "2/100 | score: 0.6533 | time: 11.23s\n",
      "3/100 | score: 0.6537 | time: 23.77s\n",
      "4/100 | score: 0.6901 | time: 30.37s\n",
      "5/100 | score: 0.6556 | time: 41.35s\n",
      "6/100 | score: 0.6879 | time: 44.23s\n",
      "7/100 | score: 0.6370 | time: 48.33s\n",
      "8/100 | score: 0.6770 | time: 52.51s\n",
      "9/100 | score: 0.7010 | time: 55.66s\n",
      "10/100 | score: 0.7008 | time: 60.44s\n",
      "11/100 | score: 0.6749 | time: 64.24s\n",
      "12/100 | score: 0.6776 | time: 69.23s\n",
      "13/100 | score: 0.7078 | time: 75.45s\n",
      "14/100 | score: 0.7035 | time: 78.74s\n",
      "15/100 | score: 0.6412 | time: 79.26s\n",
      "16/100 | score: 0.6724 | time: 84.38s\n",
      "17/100 | score: 0.6936 | time: 85.35s\n",
      "18/100 | score: 0.6774 | time: 96.19s\n",
      "19/100 | score: 0.6763 | time: 101.99s\n",
      "20/100 | score: 0.6601 | time: 108.85s\n",
      "21/100 | score: 0.6722 | time: 110.16s\n",
      "22/100 | score: 0.6992 | time: 112.33s\n",
      "23/100 | score: 0.7043 | time: 113.71s\n",
      "24/100 | score: 0.6549 | time: 122.05s\n",
      "25/100 | score: 0.6488 | time: 125.36s\n",
      "26/100 | score: 0.6944 | time: 135.20s\n",
      "27/100 | score: 0.6539 | time: 135.93s\n",
      "28/100 | score: 0.6311 | time: 137.80s\n",
      "29/100 | score: 0.6938 | time: 139.48s\n",
      "30/100 | score: 0.6424 | time: 142.49s\n",
      "31/100 | score: 0.6852 | time: 144.09s\n",
      "32/100 | score: 0.6422 | time: 144.33s\n",
      "33/100 | score: 0.6447 | time: 149.74s\n",
      "34/100 | score: 0.6290 | time: 162.49s\n",
      "35/100 | score: 0.6424 | time: 166.05s\n",
      "36/100 | score: 0.6527 | time: 176.08s\n",
      "37/100 | score: 0.6724 | time: 177.46s\n",
      "38/100 | score: 0.7006 | time: 179.44s\n",
      "39/100 | score: 0.6914 | time: 188.27s\n",
      "40/100 | score: 0.6395 | time: 198.34s\n",
      "41/100 | score: 0.6504 | time: 211.21s\n",
      "42/100 | score: 0.6893 | time: 215.69s\n",
      "43/100 | score: 0.6796 | time: 218.24s\n",
      "44/100 | score: 0.6856 | time: 218.56s\n",
      "45/100 | score: 0.6315 | time: 219.88s\n",
      "46/100 | score: 0.6918 | time: 221.40s\n",
      "47/100 | score: 0.6704 | time: 224.67s\n",
      "48/100 | score: 0.6796 | time: 236.02s\n",
      "49/100 | score: 0.6566 | time: 242.05s\n",
      "50/100 | score: 0.6679 | time: 245.05s\n",
      "51/100 | score: 0.6570 | time: 245.95s\n",
      "52/100 | score: 0.6949 | time: 249.36s\n",
      "53/100 | score: 0.6370 | time: 249.88s\n",
      "54/100 | score: 0.6391 | time: 255.13s\n",
      "55/100 | score: 0.6436 | time: 260.77s\n",
      "56/100 | score: 0.6805 | time: 262.39s\n",
      "57/100 | score: 0.6010 | time: 263.88s\n",
      "58/100 | score: 0.6296 | time: 269.76s\n",
      "59/100 | score: 0.6323 | time: 269.98s\n",
      "60/100 | score: 0.6354 | time: 275.70s\n",
      "61/100 | score: 0.6613 | time: 277.09s\n",
      "62/100 | score: 0.6216 | time: 281.10s\n",
      "63/100 | score: 0.6665 | time: 283.07s\n",
      "64/100 | score: 0.6986 | time: 294.76s\n",
      "65/100 | score: 0.6412 | time: 298.67s\n",
      "66/100 | score: 0.6912 | time: 303.47s\n",
      "67/100 | score: 0.6630 | time: 315.06s\n",
      "68/100 | score: 0.6986 | time: 318.32s\n",
      "69/100 | score: 0.6763 | time: 328.96s\n",
      "70/100 | score: 0.6455 | time: 334.69s\n",
      "71/100 | score: 0.6278 | time: 335.65s\n",
      "72/100 | score: 0.6607 | time: 336.97s\n",
      "73/100 | score: 0.5852 | time: 337.62s\n",
      "74/100 | score: 0.6541 | time: 340.70s\n",
      "75/100 | score: 0.6506 | time: 350.85s\n",
      "76/100 | score: 0.6667 | time: 377.40s\n",
      "77/100 | score: 0.6383 | time: 380.45s\n",
      "78/100 | score: 0.6576 | time: 384.80s\n",
      "79/100 | score: 0.6887 | time: 390.10s\n",
      "80/100 | score: 0.6704 | time: 402.81s\n",
      "81/100 | score: 0.6644 | time: 417.15s\n",
      "82/100 | score: 0.6819 | time: 421.46s\n",
      "83/100 | score: 0.6856 | time: 421.59s\n",
      "84/100 | score: 0.6568 | time: 427.81s\n",
      "85/100 | score: 0.6543 | time: 429.88s\n",
      "86/100 | score: 0.6130 | time: 433.16s\n",
      "87/100 | score: 0.6872 | time: 439.61s\n",
      "88/100 | score: 0.6619 | time: 452.72s\n",
      "89/100 | score: 0.6537 | time: 461.19s\n",
      "90/100 | score: 0.6733 | time: 466.25s\n",
      "91/100 | score: 0.7027 | time: 466.85s\n",
      "92/100 | score: 0.6426 | time: 474.87s\n",
      "93/100 | score: 0.6671 | time: 476.00s\n",
      "94/100 | score: 0.6607 | time: 478.59s\n",
      "95/100 | score: 0.6148 | time: 481.47s\n",
      "96/100 | score: 0.6809 | time: 487.53s\n",
      "97/100 | score: 0.6496 | time: 494.79s\n",
      "98/100 | score: 0.7041 | time: 500.27s\n",
      "99/100 | score: 0.6827 | time: 502.12s\n",
      "100/100 | score: 0.6998 | time: 506.20s\n"
     ]
    },
    {
     "data": {
      "text/plain": [
       "(0.7078189300411523, 11, 155, 3, 96)"
      ]
     },
     "execution_count": 74,
     "metadata": {},
     "output_type": "execute_result"
    }
   ],
   "source": [
    "# 1. number of models\n",
    "max_ba_score = 0.0\n",
    "max_model_num = 0\n",
    "max_estimators = 0\n",
    "max_depth = 0\n",
    "max_features = 0\n",
    "start = time.time()\n",
    "TRY = 100\n",
    "best_models = None\n",
    "\n",
    "# Random CV\n",
    "for i in range(0,TRY):\n",
    "    model_num = np.random.randint(1,21)\n",
    "    n_estimators = np.random.randint(1,201)\n",
    "    depth = np.random.randint(1,21)\n",
    "    features = np.random.randint(1,101)\n",
    "    \n",
    "    models = train_ensemble(X_train,y_train,max_over,max_under,\n",
    "                            num_models=model_num,\n",
    "                            num_estimators = n_estimators,\n",
    "                            max_depth=depth,\n",
    "                            max_features=features\n",
    "                           )\n",
    "    y_preds = predict_ensemble(X_test,models)\n",
    "    ba_score_temp = balanced_accuracy_score(y_test,y_preds)\n",
    "    if ba_score_temp > max_ba_score:\n",
    "        max_ba_score = ba_score_temp\n",
    "        max_model_num = model_num\n",
    "        max_estimators = n_estimators\n",
    "        max_depth = depth\n",
    "        max_features = features\n",
    "        best_models = models\n",
    "\n",
    "    end = time.time()\n",
    "    print(f\"{i+1}/{TRY} | score: {ba_score_temp:.4f} | time: {end-start:.2f}s\")\n",
    "max_ba_score, max_model_num, max_estimators, max_depth, max_features"
   ]
  },
  {
   "cell_type": "code",
   "execution_count": 75,
   "id": "08199bfa-a3be-4899-84bc-c6d2ddc0b120",
   "metadata": {},
   "outputs": [
    {
     "name": "stdout",
     "output_type": "stream",
     "text": [
      "0.709162346521146\n"
     ]
    },
    {
     "data": {
      "text/plain": [
       "0.7078189300411523"
      ]
     },
     "execution_count": 75,
     "metadata": {},
     "output_type": "execute_result"
    }
   ],
   "source": [
    "y_preds = predict_ensemble(X_train,best_models)\n",
    "print(balanced_accuracy_score(y_train,y_preds))\n",
    "y_preds = predict_ensemble(X_test,best_models)\n",
    "balanced_accuracy_score(y_test,y_preds)"
   ]
  },
  {
   "cell_type": "code",
   "execution_count": 76,
   "id": "4ad8f870-e651-4622-b922-5381b028dd69",
   "metadata": {},
   "outputs": [
    {
     "data": {
      "text/plain": [
       "(0.7078189300411523, 11, 155, 3, 96)"
      ]
     },
     "execution_count": 76,
     "metadata": {},
     "output_type": "execute_result"
    }
   ],
   "source": [
    "max_ba_score, max_model_num, max_estimators, max_depth, max_features"
   ]
  },
  {
   "cell_type": "markdown",
   "id": "b5b4db91-71b1-4781-b41c-ab29ef6a6887",
   "metadata": {},
   "source": [
    "**Conclusion** The best model has ~0.7 balanced accuracy on the validation set.\n",
    "I won't refit this model on the whole training (training+validation) dataset.\n",
    "I'll compare now these results with `RandomSearchCV`."
   ]
  },
  {
   "cell_type": "code",
   "execution_count": 77,
   "id": "9ddd9579-2972-42c1-9335-79212ccedccc",
   "metadata": {},
   "outputs": [],
   "source": [
    "over = RandomOverSampler(sampling_strategy=max_over)\n",
    "X_train_over, y_train_over = over.fit_resample(X_train,y_train)\n",
    "under = RandomUnderSampler(sampling_strategy=max_under)\n",
    "X_train_under, y_train_under = under.fit_resample(X_train_over,y_train_over)"
   ]
  },
  {
   "cell_type": "code",
   "execution_count": 78,
   "id": "65f70f2e-74fb-4933-a477-3075d17011f8",
   "metadata": {},
   "outputs": [
    {
     "name": "stdout",
     "output_type": "stream",
     "text": [
      "Best params:{'n_estimators': 50, 'max_features': 41, 'max_depth': 18}\n",
      "Time: 246.94s\n"
     ]
    },
    {
     "data": {
      "text/plain": [
       "0.6405349794238684"
      ]
     },
     "execution_count": 78,
     "metadata": {},
     "output_type": "execute_result"
    }
   ],
   "source": [
    "# random search cv\n",
    "start = time.time()\n",
    "rf = RandomForestClassifier()\n",
    "params = { 'max_depth': np.arange(1,21),\n",
    "           'n_estimators': np.arange(10,200,10),\n",
    "           'max_depth': np.arange(1,21),\n",
    "           'max_features': np.arange(1,101,10)\n",
    "            }\n",
    "\n",
    "model_2 = RandomizedSearchCV(rf, \n",
    "                        params, \n",
    "                        cv = 5, \n",
    "                        n_iter = 500, # instead of 1\n",
    "                        refit=True,\n",
    "                        n_jobs=4,\n",
    "                        scoring='balanced_accuracy',\n",
    "                        verbose=0)\n",
    "model_2.fit(X_train_under,y_train_under)\n",
    "\n",
    "print(\"Best params:{}\".format(model_2.best_params_))\n",
    "end = time.time()\n",
    "print(f\"Time: {end-start:.2f}s\")\n",
    "\n",
    "y_pred_2 = model_2.predict(X_test)\n",
    "balanced_accuracy_score(y_test,y_pred_2)"
   ]
  },
  {
   "cell_type": "code",
   "execution_count": 79,
   "id": "8adf3e62-e5ae-45a1-8cff-34d42f3857df",
   "metadata": {},
   "outputs": [
    {
     "data": {
      "text/plain": [
       "(0.7078189300411523, 11, 155, 3, 96)"
      ]
     },
     "execution_count": 79,
     "metadata": {},
     "output_type": "execute_result"
    }
   ],
   "source": [
    "max_ba_score, max_model_num, max_estimators, max_depth, max_features"
   ]
  },
  {
   "cell_type": "markdown",
   "id": "9aaed149-0988-4d41-b839-0f6a712e5164",
   "metadata": {},
   "source": [
    "### Comparison the models"
   ]
  },
  {
   "cell_type": "code",
   "execution_count": 80,
   "id": "4d445c0a-7223-4aeb-8357-489128af0c13",
   "metadata": {},
   "outputs": [
    {
     "name": "stdout",
     "output_type": "stream",
     "text": [
      "0.709162346521146\n",
      "0.7078189300411523\n"
     ]
    }
   ],
   "source": [
    "# 1st model\n",
    "y_train_pred = predict_ensemble(X_train,best_models)\n",
    "print(balanced_accuracy_score(y_train,y_train_pred))\n",
    "y_test_pred = predict_ensemble(X_test,best_models)\n",
    "print(balanced_accuracy_score(y_test,y_test_pred))"
   ]
  },
  {
   "cell_type": "code",
   "execution_count": 81,
   "id": "5f7e83bd-9ab8-4fb9-bfc8-e8caee3796f8",
   "metadata": {},
   "outputs": [
    {
     "data": {
      "text/html": [
       "<div>\n",
       "<style scoped>\n",
       "    .dataframe tbody tr th:only-of-type {\n",
       "        vertical-align: middle;\n",
       "    }\n",
       "\n",
       "    .dataframe tbody tr th {\n",
       "        vertical-align: top;\n",
       "    }\n",
       "\n",
       "    .dataframe thead th {\n",
       "        text-align: right;\n",
       "    }\n",
       "</style>\n",
       "<table border=\"1\" class=\"dataframe\">\n",
       "  <thead>\n",
       "    <tr style=\"text-align: right;\">\n",
       "      <th>Predicted</th>\n",
       "      <th>0</th>\n",
       "      <th>1</th>\n",
       "    </tr>\n",
       "    <tr>\n",
       "      <th>True</th>\n",
       "      <th></th>\n",
       "      <th></th>\n",
       "    </tr>\n",
       "  </thead>\n",
       "  <tbody>\n",
       "    <tr>\n",
       "      <th>0</th>\n",
       "      <td>856</td>\n",
       "      <td>359</td>\n",
       "    </tr>\n",
       "    <tr>\n",
       "      <th>1</th>\n",
       "      <td>26</td>\n",
       "      <td>64</td>\n",
       "    </tr>\n",
       "  </tbody>\n",
       "</table>\n",
       "</div>"
      ],
      "text/plain": [
       "Predicted    0    1\n",
       "True               \n",
       "0          856  359\n",
       "1           26   64"
      ]
     },
     "execution_count": 81,
     "metadata": {},
     "output_type": "execute_result"
    }
   ],
   "source": [
    "print_report(y_test,y_test_pred)"
   ]
  },
  {
   "cell_type": "code",
   "execution_count": 82,
   "id": "68302a73-ae75-4ebf-8676-8060f31ebef7",
   "metadata": {},
   "outputs": [
    {
     "name": "stdout",
     "output_type": "stream",
     "text": [
      "0.9100954979536153\n"
     ]
    },
    {
     "data": {
      "text/plain": [
       "0.6405349794238684"
      ]
     },
     "execution_count": 82,
     "metadata": {},
     "output_type": "execute_result"
    }
   ],
   "source": [
    "# 2nd model\n",
    "y_train_pred = model_2.predict(X_train)\n",
    "print(balanced_accuracy_score(y_train,y_train_pred))\n",
    "y_test_pred = model_2.predict(X_test)\n",
    "balanced_accuracy_score(y_test,y_test_pred)"
   ]
  },
  {
   "cell_type": "code",
   "execution_count": 83,
   "id": "c7adc86f-c690-4323-8ec7-69bd20d6b39f",
   "metadata": {},
   "outputs": [
    {
     "data": {
      "text/html": [
       "<div>\n",
       "<style scoped>\n",
       "    .dataframe tbody tr th:only-of-type {\n",
       "        vertical-align: middle;\n",
       "    }\n",
       "\n",
       "    .dataframe tbody tr th {\n",
       "        vertical-align: top;\n",
       "    }\n",
       "\n",
       "    .dataframe thead th {\n",
       "        text-align: right;\n",
       "    }\n",
       "</style>\n",
       "<table border=\"1\" class=\"dataframe\">\n",
       "  <thead>\n",
       "    <tr style=\"text-align: right;\">\n",
       "      <th>Predicted</th>\n",
       "      <th>0</th>\n",
       "      <th>1</th>\n",
       "    </tr>\n",
       "    <tr>\n",
       "      <th>True</th>\n",
       "      <th></th>\n",
       "      <th></th>\n",
       "    </tr>\n",
       "  </thead>\n",
       "  <tbody>\n",
       "    <tr>\n",
       "      <th>0</th>\n",
       "      <td>949</td>\n",
       "      <td>266</td>\n",
       "    </tr>\n",
       "    <tr>\n",
       "      <th>1</th>\n",
       "      <td>45</td>\n",
       "      <td>45</td>\n",
       "    </tr>\n",
       "  </tbody>\n",
       "</table>\n",
       "</div>"
      ],
      "text/plain": [
       "Predicted    0    1\n",
       "True               \n",
       "0          949  266\n",
       "1           45   45"
      ]
     },
     "execution_count": 83,
     "metadata": {},
     "output_type": "execute_result"
    }
   ],
   "source": [
    "print_report(y_test,y_test_pred)"
   ]
  },
  {
   "cell_type": "markdown",
   "id": "86e965a4-7fab-45da-8cb6-96a2ea432182",
   "metadata": {},
   "source": [
    "**Conclusion** Hmm, I choose the first model, because it generalizes better."
   ]
  },
  {
   "cell_type": "markdown",
   "id": "e4a3a0fc-2e48-4cbf-ba44-01d0ef8a955a",
   "metadata": {},
   "source": [
    "### Creating the submission"
   ]
  },
  {
   "cell_type": "code",
   "execution_count": 84,
   "id": "8dbc59e8-efbf-4f16-bf28-755f8ed3cf06",
   "metadata": {},
   "outputs": [],
   "source": [
    "X_test_final = df_test.to_numpy()"
   ]
  },
  {
   "cell_type": "code",
   "execution_count": 85,
   "id": "b1bf26ee-6b36-4c03-a2d8-d3f0eb5f9188",
   "metadata": {},
   "outputs": [
    {
     "data": {
      "text/plain": [
       "(4000, 133)"
      ]
     },
     "execution_count": 85,
     "metadata": {},
     "output_type": "execute_result"
    }
   ],
   "source": [
    "X_test_final.shape"
   ]
  },
  {
   "cell_type": "code",
   "execution_count": 86,
   "id": "0f5488ec-128e-4856-aa78-4942fc08cbd5",
   "metadata": {},
   "outputs": [],
   "source": [
    "y_test_final_pred = predict_ensemble(X_test_final,best_models)"
   ]
  },
  {
   "cell_type": "code",
   "execution_count": 87,
   "id": "8e2447f3-7202-4337-841e-7af0b050e964",
   "metadata": {},
   "outputs": [
    {
     "data": {
      "text/plain": [
       "array([0, 1, 1, ..., 1, 1, 0])"
      ]
     },
     "execution_count": 87,
     "metadata": {},
     "output_type": "execute_result"
    }
   ],
   "source": [
    "y_test_final_pred"
   ]
  },
  {
   "cell_type": "code",
   "execution_count": 88,
   "id": "48b616be-b5e1-4fe6-a382-367f81a04301",
   "metadata": {},
   "outputs": [
    {
     "data": {
      "text/html": [
       "<div>\n",
       "<style scoped>\n",
       "    .dataframe tbody tr th:only-of-type {\n",
       "        vertical-align: middle;\n",
       "    }\n",
       "\n",
       "    .dataframe tbody tr th {\n",
       "        vertical-align: top;\n",
       "    }\n",
       "\n",
       "    .dataframe thead th {\n",
       "        text-align: right;\n",
       "    }\n",
       "</style>\n",
       "<table border=\"1\" class=\"dataframe\">\n",
       "  <thead>\n",
       "    <tr style=\"text-align: right;\">\n",
       "      <th></th>\n",
       "      <th>MAANTHUI</th>\n",
       "      <th>MGEMOMV</th>\n",
       "      <th>MGEMLEEF</th>\n",
       "      <th>MGODRK</th>\n",
       "      <th>MGODPR</th>\n",
       "      <th>MGODOV</th>\n",
       "      <th>MGODGE</th>\n",
       "      <th>MRELGE</th>\n",
       "      <th>MRELSA</th>\n",
       "      <th>MRELOV</th>\n",
       "      <th>...</th>\n",
       "      <th>MOSHOOFD_1</th>\n",
       "      <th>MOSHOOFD_10</th>\n",
       "      <th>MOSHOOFD_2</th>\n",
       "      <th>MOSHOOFD_3</th>\n",
       "      <th>MOSHOOFD_4</th>\n",
       "      <th>MOSHOOFD_5</th>\n",
       "      <th>MOSHOOFD_6</th>\n",
       "      <th>MOSHOOFD_7</th>\n",
       "      <th>MOSHOOFD_8</th>\n",
       "      <th>MOSHOOFD_9</th>\n",
       "    </tr>\n",
       "  </thead>\n",
       "  <tbody>\n",
       "    <tr>\n",
       "      <th>0</th>\n",
       "      <td>0.0</td>\n",
       "      <td>1.0</td>\n",
       "      <td>-1.0</td>\n",
       "      <td>0.0</td>\n",
       "      <td>0.5</td>\n",
       "      <td>-0.5</td>\n",
       "      <td>0.0</td>\n",
       "      <td>-0.5</td>\n",
       "      <td>-1.0</td>\n",
       "      <td>1.0</td>\n",
       "      <td>...</td>\n",
       "      <td>0</td>\n",
       "      <td>0</td>\n",
       "      <td>0</td>\n",
       "      <td>0</td>\n",
       "      <td>0</td>\n",
       "      <td>0</td>\n",
       "      <td>0</td>\n",
       "      <td>0</td>\n",
       "      <td>1</td>\n",
       "      <td>0</td>\n",
       "    </tr>\n",
       "    <tr>\n",
       "      <th>1</th>\n",
       "      <td>0.0</td>\n",
       "      <td>0.0</td>\n",
       "      <td>-1.0</td>\n",
       "      <td>0.0</td>\n",
       "      <td>0.0</td>\n",
       "      <td>-0.5</td>\n",
       "      <td>0.5</td>\n",
       "      <td>-0.5</td>\n",
       "      <td>1.0</td>\n",
       "      <td>0.0</td>\n",
       "      <td>...</td>\n",
       "      <td>0</td>\n",
       "      <td>0</td>\n",
       "      <td>1</td>\n",
       "      <td>0</td>\n",
       "      <td>0</td>\n",
       "      <td>0</td>\n",
       "      <td>0</td>\n",
       "      <td>0</td>\n",
       "      <td>0</td>\n",
       "      <td>0</td>\n",
       "    </tr>\n",
       "    <tr>\n",
       "      <th>2</th>\n",
       "      <td>0.0</td>\n",
       "      <td>0.0</td>\n",
       "      <td>0.0</td>\n",
       "      <td>1.0</td>\n",
       "      <td>-0.5</td>\n",
       "      <td>0.5</td>\n",
       "      <td>0.0</td>\n",
       "      <td>-0.5</td>\n",
       "      <td>1.0</td>\n",
       "      <td>0.5</td>\n",
       "      <td>...</td>\n",
       "      <td>0</td>\n",
       "      <td>0</td>\n",
       "      <td>0</td>\n",
       "      <td>0</td>\n",
       "      <td>0</td>\n",
       "      <td>0</td>\n",
       "      <td>0</td>\n",
       "      <td>0</td>\n",
       "      <td>0</td>\n",
       "      <td>1</td>\n",
       "    </tr>\n",
       "    <tr>\n",
       "      <th>3</th>\n",
       "      <td>0.0</td>\n",
       "      <td>-1.0</td>\n",
       "      <td>0.0</td>\n",
       "      <td>2.0</td>\n",
       "      <td>-1.0</td>\n",
       "      <td>0.5</td>\n",
       "      <td>0.5</td>\n",
       "      <td>-0.5</td>\n",
       "      <td>3.0</td>\n",
       "      <td>-0.5</td>\n",
       "      <td>...</td>\n",
       "      <td>0</td>\n",
       "      <td>0</td>\n",
       "      <td>0</td>\n",
       "      <td>1</td>\n",
       "      <td>0</td>\n",
       "      <td>0</td>\n",
       "      <td>0</td>\n",
       "      <td>0</td>\n",
       "      <td>0</td>\n",
       "      <td>0</td>\n",
       "    </tr>\n",
       "    <tr>\n",
       "      <th>4</th>\n",
       "      <td>0.0</td>\n",
       "      <td>-1.0</td>\n",
       "      <td>1.0</td>\n",
       "      <td>0.0</td>\n",
       "      <td>-1.5</td>\n",
       "      <td>-0.5</td>\n",
       "      <td>2.0</td>\n",
       "      <td>1.5</td>\n",
       "      <td>-1.0</td>\n",
       "      <td>-1.0</td>\n",
       "      <td>...</td>\n",
       "      <td>0</td>\n",
       "      <td>0</td>\n",
       "      <td>0</td>\n",
       "      <td>0</td>\n",
       "      <td>0</td>\n",
       "      <td>0</td>\n",
       "      <td>0</td>\n",
       "      <td>1</td>\n",
       "      <td>0</td>\n",
       "      <td>0</td>\n",
       "    </tr>\n",
       "  </tbody>\n",
       "</table>\n",
       "<p>5 rows × 133 columns</p>\n",
       "</div>"
      ],
      "text/plain": [
       "   MAANTHUI  MGEMOMV  MGEMLEEF  MGODRK  MGODPR  MGODOV  MGODGE  MRELGE  \\\n",
       "0       0.0      1.0      -1.0     0.0     0.5    -0.5     0.0    -0.5   \n",
       "1       0.0      0.0      -1.0     0.0     0.0    -0.5     0.5    -0.5   \n",
       "2       0.0      0.0       0.0     1.0    -0.5     0.5     0.0    -0.5   \n",
       "3       0.0     -1.0       0.0     2.0    -1.0     0.5     0.5    -0.5   \n",
       "4       0.0     -1.0       1.0     0.0    -1.5    -0.5     2.0     1.5   \n",
       "\n",
       "   MRELSA  MRELOV  ...  MOSHOOFD_1  MOSHOOFD_10  MOSHOOFD_2  MOSHOOFD_3  \\\n",
       "0    -1.0     1.0  ...           0            0           0           0   \n",
       "1     1.0     0.0  ...           0            0           1           0   \n",
       "2     1.0     0.5  ...           0            0           0           0   \n",
       "3     3.0    -0.5  ...           0            0           0           1   \n",
       "4    -1.0    -1.0  ...           0            0           0           0   \n",
       "\n",
       "   MOSHOOFD_4  MOSHOOFD_5  MOSHOOFD_6  MOSHOOFD_7  MOSHOOFD_8  MOSHOOFD_9  \n",
       "0           0           0           0           0           1           0  \n",
       "1           0           0           0           0           0           0  \n",
       "2           0           0           0           0           0           1  \n",
       "3           0           0           0           0           0           0  \n",
       "4           0           0           0           1           0           0  \n",
       "\n",
       "[5 rows x 133 columns]"
      ]
     },
     "execution_count": 88,
     "metadata": {},
     "output_type": "execute_result"
    }
   ],
   "source": [
    "df_test.head()"
   ]
  },
  {
   "cell_type": "code",
   "execution_count": 89,
   "id": "5638910d-b600-41fd-8437-d44b22e4b22b",
   "metadata": {},
   "outputs": [],
   "source": [
    "name = \"dm_competition2_Bela_J_Szekeres_submission1.txt\""
   ]
  },
  {
   "cell_type": "code",
   "execution_count": 90,
   "id": "88b815ed-cf1d-4224-8b23-95b2e7b13813",
   "metadata": {
    "tags": []
   },
   "outputs": [],
   "source": [
    "pd.DataFrame(y_test_final_pred).to_csv(name,header=None,index=False)"
   ]
  },
  {
   "cell_type": "code",
   "execution_count": null,
   "id": "5d8f9263-13ef-4553-9ac5-99ec23f8417e",
   "metadata": {},
   "outputs": [],
   "source": []
  },
  {
   "cell_type": "code",
   "execution_count": null,
   "id": "b219a18c-ffa9-4094-84f8-76908f730981",
   "metadata": {},
   "outputs": [],
   "source": []
  },
  {
   "cell_type": "markdown",
   "id": "02cc9065-89b1-403e-8430-42d404863c19",
   "metadata": {},
   "source": [
    "## 2nd Competition\n",
    "\n",
    "Any model:\n",
    "\n",
    "We'll construct here an XGB Classifier model by randomsearchcv."
   ]
  },
  {
   "cell_type": "code",
   "execution_count": 91,
   "id": "7ec1791b-43a3-489a-9213-7147d94729b4",
   "metadata": {},
   "outputs": [],
   "source": [
    "import xgboost as xgb\n",
    "from sklearn.linear_model import LogisticRegression\n",
    "from sklearn.svm import SVC\n",
    "from sklearn.naive_bayes import GaussianNB"
   ]
  },
  {
   "cell_type": "code",
   "execution_count": 92,
   "id": "33c2156d-7d97-468f-b3bc-3682e7e4976c",
   "metadata": {},
   "outputs": [
    {
     "name": "stdout",
     "output_type": "stream",
     "text": [
      "Best params:{'subsample': 0.9, 'min_child_weight': 7, 'max_depth': 2, 'gamma': 0.8, 'colsample_bytree': 0.7}\n",
      "Time: 16.44s\n"
     ]
    },
    {
     "data": {
      "text/plain": [
       "0.6526748971193415"
      ]
     },
     "execution_count": 92,
     "metadata": {},
     "output_type": "execute_result"
    }
   ],
   "source": [
    "# random search cv\n",
    "start = time.time()\n",
    "xgb_model = xgb.XGBClassifier(use_label_encoder=False)\n",
    "params = {\n",
    "        'min_child_weight': [5, 6,7],\n",
    "        'gamma': [0.8,1,1.2],\n",
    "        'subsample': [0.9,1.0],\n",
    "        'colsample_bytree': [0.6,0.7,0.8],\n",
    "        'max_depth': [2]\n",
    "        }\n",
    "\n",
    "model_3 = RandomizedSearchCV(xgb_model, \n",
    "                        params, \n",
    "                        cv = 5, \n",
    "                        n_iter = 10, # instead of 1\n",
    "                        refit=True,\n",
    "                        n_jobs=1,\n",
    "                        scoring='balanced_accuracy',\n",
    "                        verbose=0)\n",
    "model_3.fit(X_train_under,y_train_under,eval_metric=\"logloss\")\n",
    "\n",
    "print(f\"Best params:{model_3.best_params_}\")\n",
    "end = time.time()\n",
    "print(f\"Time: {end-start:.2f}s\")\n",
    "\n",
    "y_pred_3 = model_3.predict(X_test)\n",
    "balanced_accuracy_score(y_test,y_pred_3)"
   ]
  },
  {
   "cell_type": "code",
   "execution_count": 93,
   "id": "232b9f86-6d89-4930-9bc2-0bdc35da104e",
   "metadata": {},
   "outputs": [
    {
     "data": {
      "text/plain": [
       "0.7904420190995907"
      ]
     },
     "execution_count": 93,
     "metadata": {},
     "output_type": "execute_result"
    }
   ],
   "source": [
    "y_train_pred_3 = model_3.predict(X_train)\n",
    "balanced_accuracy_score(y_train,y_train_pred_3)"
   ]
  },
  {
   "cell_type": "code",
   "execution_count": 94,
   "id": "faf0ec8c-8111-4a89-ab88-d42ccdb03a3c",
   "metadata": {},
   "outputs": [],
   "source": [
    "def train_ensemble_xgb(X_train,y_train,over_rate,under_rate,num_models=10,learning_rate=0.01,n_estimators = 100,max_depth=10,subsample=0.8,colsample_bytree=1.0,gamma=1.0,min_child_weight = 5):\n",
    "    \"\"\"\n",
    "    Training an ensemble XGB model\n",
    "    \"\"\"\n",
    "    models=[]\n",
    "    for i in range(num_models):\n",
    "        over = RandomOverSampler(sampling_strategy=over_rate)\n",
    "        X_train_over, y_train_over = over.fit_resample(X_train,y_train)\n",
    "        under = RandomUnderSampler(sampling_strategy=under_rate)\n",
    "        X_train_under, y_train_under = under.fit_resample(X_train_over,y_train_over)\n",
    "        xgb_cl = xgb.XGBClassifier(colsample_bytree=colsample_bytree,\n",
    "                                   gamma=gamma,\n",
    "                                   learning_rate=learning_rate,\n",
    "                                   max_depth=max_depth,\n",
    "                                   n_estimators=n_estimators,\n",
    "                                   subsample=subsample,\n",
    "                                   min_child_weight=min_child_weight\n",
    "              )\n",
    "        xgb_cl.fit(X_train_under,y_train_under,eval_metric=\"logloss\")\n",
    "        models.append(xgb_cl)\n",
    "    return models"
   ]
  },
  {
   "cell_type": "code",
   "execution_count": 95,
   "id": "6d192e06-74ee-4e08-bf44-0b713874a9bb",
   "metadata": {},
   "outputs": [],
   "source": [
    "xgb_models = train_ensemble_xgb(X_train,y_train,max_over,max_under,learning_rate=0.5)"
   ]
  },
  {
   "cell_type": "code",
   "execution_count": 96,
   "id": "c49416bf-fe3a-48b6-b7a9-1cf6a04fd59d",
   "metadata": {},
   "outputs": [],
   "source": [
    "y_pred = predict_ensemble(X_test,xgb_models)"
   ]
  },
  {
   "cell_type": "code",
   "execution_count": 97,
   "id": "e845f0a5-6c89-4856-8eed-3af5a596a833",
   "metadata": {},
   "outputs": [
    {
     "data": {
      "text/plain": [
       "0.5446034269563681"
      ]
     },
     "execution_count": 97,
     "metadata": {},
     "output_type": "execute_result"
    }
   ],
   "source": [
    "balanced_accuracy_score(y_pred,y_test)"
   ]
  },
  {
   "cell_type": "code",
   "execution_count": 99,
   "id": "a3f69a0d-a10f-49d7-b63e-ab3abe34a2ed",
   "metadata": {},
   "outputs": [
    {
     "name": "stdout",
     "output_type": "stream",
     "text": [
      "1/25 | score: 0.5560 | time: 2.46s\n",
      "2/25 | score: 0.5550 | time: 6.55s\n",
      "3/25 | score: 0.5366 | time: 6.85s\n",
      "4/25 | score: 0.5581 | time: 10.08s\n",
      "5/25 | score: 0.5527 | time: 16.90s\n",
      "6/25 | score: 0.5630 | time: 19.68s\n",
      "7/25 | score: 0.5564 | time: 22.48s\n",
      "8/25 | score: 0.5460 | time: 25.26s\n",
      "9/25 | score: 0.5589 | time: 29.21s\n",
      "10/25 | score: 0.5603 | time: 32.56s\n",
      "11/25 | score: 0.5597 | time: 34.48s\n",
      "12/25 | score: 0.5556 | time: 35.26s\n",
      "13/25 | score: 0.5574 | time: 40.86s\n",
      "14/25 | score: 0.5540 | time: 43.45s\n",
      "15/25 | score: 0.5457 | time: 48.33s\n",
      "16/25 | score: 0.5473 | time: 48.64s\n",
      "17/25 | score: 0.5554 | time: 54.88s\n",
      "18/25 | score: 0.5508 | time: 59.56s\n",
      "19/25 | score: 0.5579 | time: 64.97s\n",
      "20/25 | score: 0.5555 | time: 74.63s\n",
      "21/25 | score: 0.5569 | time: 78.98s\n",
      "22/25 | score: 0.5553 | time: 82.82s\n",
      "23/25 | score: 0.5508 | time: 93.90s\n",
      "24/25 | score: 0.5617 | time: 97.45s\n",
      "25/25 | score: 0.5632 | time: 104.70s\n",
      "\n",
      "Unfortunately, this strategy didn't worked well here.\n"
     ]
    },
    {
     "data": {
      "text/plain": [
       "0.5631838495916166"
      ]
     },
     "execution_count": 99,
     "metadata": {},
     "output_type": "execute_result"
    }
   ],
   "source": [
    "# Random Search\n",
    "best_ba_score = 0.0\n",
    "\n",
    "# Hyperparameters\n",
    "\n",
    "#'min_child_weight': [1, 5, 10],'gamma': [0.5, 1, 1.5, 2, 5],'subsample': [0.6, 0.8, 1.0],'colsample_bytree': [0.6, 0.8, 1.0],'max_depth': [3, 4, 5]\n",
    "\n",
    "# num_models=10,learning_rate=0.01,n_estimators = 100,max_depth=3,subsample=0.8,colsample_bytree=1.0,gamma=1.0)\n",
    "\n",
    "num_models_best = 0\n",
    "learning_rate_best = 0.0\n",
    "n_estimators_best = 0\n",
    "max_depth_best = 0\n",
    "subsample_best = 0.0\n",
    "colsample_bytree_best = 0.0\n",
    "gamma_best = 0.0\n",
    "min_child_weight = 0\n",
    "\n",
    "start = time.time()\n",
    "TRY = 25\n",
    "best_models = None\n",
    "\n",
    "# Random CV\n",
    "\n",
    "# Help for the parameter settings:\n",
    "# https://towardsdatascience.com/beginners-guide-to-xgboost-for-classification-problems-50f75aac5390\n",
    "\n",
    "for i in range(0,TRY):\n",
    "    \n",
    "    # Generating randomly the candidates\n",
    "    \n",
    "    num_models = np.random.randint(1,21)\n",
    "    learning_rate = np.random.rand()*0.2\n",
    "    n_estimators = np.random.randint(51,201)\n",
    "    max_depth = np.random.randint(2,4)\n",
    "    subsample = np.random.rand()*0.5+0.5\n",
    "    colsample_bytree = np.random.rand()*0.5+0.5\n",
    "    min_child_weight = np.random.randint(3,8)\n",
    "    gamma = np.random.rand()*5\n",
    "    \n",
    "    models_xgb = train_ensemble_xgb(X_train,y_train,max_over,max_under,\n",
    "                       num_models=num_models,\n",
    "                       learning_rate=learning_rate,\n",
    "                       n_estimators = n_estimators,\n",
    "                       max_depth = max_depth,\n",
    "                       subsample = subsample,\n",
    "                       colsample_bytree = colsample_bytree,\n",
    "                       min_child_weight = min_child_weight,\n",
    "                       gamma = gamma)\n",
    "    \n",
    "    # stacking the outputs by logistic regression\n",
    "    y_preds_test = predict_ensemble(X_test,models_xgb)  \n",
    "    \n",
    "    ba_score_temp = balanced_accuracy_score(y_preds_test,y_test)\n",
    "    if ba_score_temp > best_ba_score:\n",
    "        best_ba_score = ba_score_temp\n",
    "        \n",
    "        num_models_best = num_models\n",
    "        learning_rate_best = learning_rate\n",
    "        n_estimators_best = n_estimators\n",
    "        max_depth_best = max_depth\n",
    "        subsample_best = subsample\n",
    "        colsample_bytree_best = colsample_bytree\n",
    "        gamma_best = gamma\n",
    "        min_child_weight_best = min_child_weight\n",
    "        \n",
    "        best_models = models_xgb\n",
    "\n",
    "    end = time.time()\n",
    "    print(f\"{i+1}/{TRY} | score: {ba_score_temp:.4f} | time: {end-start:.2f}s\")\n",
    "    \n",
    "\n",
    "print(\"\\nUnfortunately, this strategy didn't worked well here.\")\n",
    "best_ba_score"
   ]
  },
  {
   "cell_type": "markdown",
   "id": "83d50669-f108-46d2-9b9a-4c2e6f328e64",
   "metadata": {},
   "source": [
    "**Conclusion** After a lot of numerical experiments I decided to submit my first competition entry for the 2nd competition as well."
   ]
  },
  {
   "cell_type": "code",
   "execution_count": null,
   "id": "00ff9a42-daba-419d-ad01-c7bd84b1975f",
   "metadata": {},
   "outputs": [],
   "source": []
  },
  {
   "cell_type": "code",
   "execution_count": 100,
   "id": "32b77a10-9d5d-4e6c-ba3d-1fda39b1378c",
   "metadata": {},
   "outputs": [],
   "source": [
    "name = \"dm_competition2_Bela_J_Szekeres_submission2.txt\""
   ]
  },
  {
   "cell_type": "code",
   "execution_count": 101,
   "id": "50aa0024-c501-4806-904e-4faef768f862",
   "metadata": {
    "tags": []
   },
   "outputs": [],
   "source": [
    "pd.DataFrame(y_test_final_pred).to_csv(name,header=None,index=False)"
   ]
  }
 ],
 "metadata": {
  "kernelspec": {
   "display_name": "Python 3 (ipykernel)",
   "language": "python",
   "name": "python3"
  },
  "language_info": {
   "codemirror_mode": {
    "name": "ipython",
    "version": 3
   },
   "file_extension": ".py",
   "mimetype": "text/x-python",
   "name": "python",
   "nbconvert_exporter": "python",
   "pygments_lexer": "ipython3",
   "version": "3.9.7"
  }
 },
 "nbformat": 4,
 "nbformat_minor": 5
}
