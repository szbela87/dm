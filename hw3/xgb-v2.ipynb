{
 "cells": [
  {
   "cell_type": "code",
   "execution_count": 1,
   "metadata": {
    "_cell_guid": "b1076dfc-b9ad-4769-8c92-a6c4dae69d19",
    "_uuid": "8f2839f25d086af736a60e9eeb907d3b93b6e0e5"
   },
   "outputs": [
    {
     "name": "stdout",
     "output_type": "stream",
     "text": [
      "./kaggle/input/Kannada-MNIST/train.csv\n",
      "./kaggle/input/Kannada-MNIST/sample_submission.csv\n",
      "./kaggle/input/Kannada-MNIST/test.csv\n",
      "./kaggle/input/Kannada-MNIST/Dig-MNIST.csv\n"
     ]
    }
   ],
   "source": [
    "# This Python 3 environment comes with many helpful analytics libraries installed\n",
    "# It is defined by the kaggle/python Docker image: https://github.com/kaggle/docker-python\n",
    "# For example, here's several helpful packages to load\n",
    "\n",
    "import numpy as np # linear algebra\n",
    "import pandas as pd # data processing, CSV file I/O (e.g. pd.read_csv)\n",
    "\n",
    "# Input data files are available in the read-only \"../input/\" directory\n",
    "# For example, running this (by clicking run or pressing Shift+Enter) will list all files under the input directory\n",
    "\n",
    "import os\n",
    "for dirname, _, filenames in os.walk('./kaggle/input'):\n",
    "#for dirname, _, filenames in os.walk('/kaggle/input'):\n",
    "    for filename in filenames:\n",
    "        print(os.path.join(dirname, filename))\n",
    "\n",
    "# You can write up to 20GB to the current directory (/kaggle/working/) that gets preserved as output when you create a version using \"Save & Run All\" \n",
    "# You can also write temporary files to /kaggle/temp/, but they won't be saved outside of the current session"
   ]
  },
  {
   "cell_type": "markdown",
   "metadata": {},
   "source": [
    "# Loading"
   ]
  },
  {
   "cell_type": "code",
   "execution_count": 2,
   "metadata": {},
   "outputs": [],
   "source": [
    "train_data = pd.read_csv('./kaggle/input/Kannada-MNIST/train.csv')\n",
    "valid_data = pd.read_csv('./kaggle/input/Kannada-MNIST/Dig-MNIST.csv')"
   ]
  },
  {
   "cell_type": "code",
   "execution_count": null,
   "metadata": {},
   "outputs": [],
   "source": []
  },
  {
   "cell_type": "code",
   "execution_count": 3,
   "metadata": {},
   "outputs": [],
   "source": [
    "import random\n",
    "random.seed(32)\n",
    "np.random.seed(42)\n",
    "train_data = train_data.sample(frac=1,random_state=52).reset_index(drop=True)\n",
    "valid_data = valid_data.sample(frac=1,random_state=62).reset_index(drop=True)\n",
    "X_train, y_train = (train_data.drop(['label'], axis=1), train_data.label)\n",
    "X_valid, y_valid = (valid_data.drop(['label'], axis=1), valid_data.label)\n",
    "#X_train = X_train/255. # We don't have to normalize our data\n",
    "#X_valid = X_valid/255. # because https://datascience.stackexchange.com/questions/60950/is-it-necessary-to-normalize-data-for-xgboost "
   ]
  },
  {
   "cell_type": "code",
   "execution_count": 4,
   "metadata": {},
   "outputs": [
    {
     "data": {
      "text/plain": [
       "(60000, 10240)"
      ]
     },
     "execution_count": 4,
     "metadata": {},
     "output_type": "execute_result"
    }
   ],
   "source": [
    "len(X_train), len(X_valid)"
   ]
  },
  {
   "cell_type": "code",
   "execution_count": 5,
   "metadata": {},
   "outputs": [],
   "source": [
    "import time"
   ]
  },
  {
   "cell_type": "code",
   "execution_count": 6,
   "metadata": {},
   "outputs": [],
   "source": [
    "from xgboost import XGBClassifier\n",
    "from sklearn.model_selection import train_test_split"
   ]
  },
  {
   "cell_type": "raw",
   "metadata": {},
   "source": [
    "start = time.time()\n",
    "clf = XGBClassifier(max_depth = 10, \n",
    "                    n_estimators = 200,\n",
    "                    use_label_encoder = False,\n",
    "                    eval_metric = 'mlogloss',\n",
    "                    num_class = 10,\n",
    "                    eta = 0.05,\n",
    "                    subsample = 0.9,\n",
    "                    colsample_bytree = 0.9,\n",
    "                   )#reg_lambda = 0.1)\n",
    "\n",
    "clf.fit(X_train_small, y_train_small)\n",
    "end = time.time()\n",
    "print(f\"Time: {end-start:.2f}s\")"
   ]
  },
  {
   "cell_type": "code",
   "execution_count": 7,
   "metadata": {},
   "outputs": [],
   "source": [
    "from sklearn.metrics import accuracy_score\n",
    "import random"
   ]
  },
  {
   "cell_type": "raw",
   "metadata": {},
   "source": [
    "start = time.time()\n",
    "y_pred = clf.predict(X_valid)\n",
    "end = time.time()\n",
    "print(f\"Time: {end-start:.2f}s\")\n",
    "\n",
    "print(accuracy_score(y_valid, y_pred))"
   ]
  },
  {
   "cell_type": "markdown",
   "metadata": {},
   "source": [
    "# Hyperparameter tuning"
   ]
  },
  {
   "cell_type": "markdown",
   "metadata": {},
   "source": [
    "I used https://towardsdatascience.com/xgboost-fine-tune-and-optimize-your-model-23d996fab663\n",
    "\n",
    "My idea is to use a multi-phase random training.\n",
    "\n",
    "1. Train a lot of models on a small training set (random set of the original train.csv) ---> Evaluate them on the validation set (Dig-MNIST.csv) ---> save the best ones\n",
    "2. These define a narrower range of parameters. We'll train a lot of models (but less then in the 1st step) on the medium-size dataset. ---> Evaluate them on the validation set (Dig-MNIST.csv) ---> save the best ones\n",
    "3. These define a narrower range of parameters. We'll train some models on this parameter-set randomly again and choose the best model for the competition.\n"
   ]
  },
  {
   "cell_type": "markdown",
   "metadata": {},
   "source": [
    "We'll tune the following parameters:\n",
    "\n",
    "* `max_depth`\n",
    "* `colsample_bytree`\n",
    "* `n_estimators`\n",
    "* `learning_rate`\n",
    "* `subsample`\n",
    "* `reg_lambda`"
   ]
  },
  {
   "cell_type": "code",
   "execution_count": 8,
   "metadata": {},
   "outputs": [],
   "source": [
    "def train(train_set_size,max_depth,colsample_bytree,n_estimators,learning_rate,subsample,reg_lambda):\n",
    "    \"\"\"\n",
    "    Train an XGBoost classifier with these parameters and returns the trained model\n",
    "    \"\"\"\n",
    "    #start = time.time()\n",
    "    if train_set_size<1.0:\n",
    "        train_data_sampled = train_data.sample(frac=train_set_size).reset_index(drop=True)\n",
    "    else:\n",
    "        train_data_sampled = train_data.copy()\n",
    "    #print(len(train_data_sampled))\n",
    "    X_train_sampled, y_train_sampled = (train_data_sampled.drop(['label'], axis=1), train_data_sampled.label)\n",
    "    \n",
    "    clf = XGBClassifier(use_label_encoder = False,\n",
    "                        eval_metric = 'mlogloss',\n",
    "                        num_class = 10,\n",
    "                        max_depth = max_depth, \n",
    "                        colsample_bytree = colsample_bytree,\n",
    "                        n_estimators = n_estimators,\n",
    "                        learning_rate = learning_rate,\n",
    "                        subsample = subsample,\n",
    "                        reg_lambda = reg_lambda,\n",
    "                       )\n",
    "    clf.fit(X_train_sampled,y_train_sampled)\n",
    "    #end = time.time()\n",
    "    #print(f\"T: {end-start:.2f}s\")\n",
    "    return clf\n",
    "    "
   ]
  },
  {
   "cell_type": "code",
   "execution_count": 9,
   "metadata": {},
   "outputs": [
    {
     "name": "stdout",
     "output_type": "stream",
     "text": [
      "Time: 32.22s\n"
     ]
    }
   ],
   "source": [
    "start = time.time()\n",
    "model = train(train_set_size = 1.0,\n",
    "              max_depth=5,\n",
    "              colsample_bytree = 1.0,\n",
    "              n_estimators = 10,\n",
    "              learning_rate = 0.2,\n",
    "              subsample = 1.0,\n",
    "              reg_lambda = 100)\n",
    "end = time.time()\n",
    "print(f\"Time: {end-start:.2f}s\")             "
   ]
  },
  {
   "cell_type": "code",
   "execution_count": 10,
   "metadata": {},
   "outputs": [
    {
     "name": "stdout",
     "output_type": "stream",
     "text": [
      "Time: 0.12s\n",
      "0.57998046875\n"
     ]
    }
   ],
   "source": [
    "start = time.time()\n",
    "y_pred = model.predict(X_valid)\n",
    "end = time.time()\n",
    "print(f\"Time: {end-start:.2f}s\")\n",
    "\n",
    "print(accuracy_score(y_valid, y_pred))"
   ]
  },
  {
   "cell_type": "markdown",
   "metadata": {},
   "source": [
    "## 1st round"
   ]
  },
  {
   "cell_type": "code",
   "execution_count": 11,
   "metadata": {},
   "outputs": [],
   "source": [
    "MAX_PARAM_NUM_1 = 20\n",
    "MAX_PARAM_NUM_1_BEST = 5\n",
    "parameters_1 = pd.DataFrame()\n",
    "np.random.seed(112)\n",
    "for i in range(MAX_PARAM_NUM_1):\n",
    "    max_depth = np.random.randint(3,21)\n",
    "    n_estimators = np.random.randint(20,200)\n",
    "    learning_rate = np.random.rand()*(0.4-0.01)+0.01\n",
    "    colsample_bytree = np.random.rand()*(1.0-0.1)+0.1\n",
    "    subsample = np.random.rand()*(1.0-0.1)+0.1\n",
    "    reg_lambda = np.random.rand()*100.0\n",
    "    parameters_1 = parameters_1.append({\"max_depth\":max_depth,\n",
    "                                        \"n_estimators\":n_estimators,\n",
    "                                        \"learning_rate\":learning_rate,\n",
    "                                        \"colsample_bytree\":colsample_bytree,\n",
    "                                        \"subsample\":subsample,\n",
    "                                        \"reg_lambda\":reg_lambda,\n",
    "                                        \"valid_acc\":i},ignore_index=True)\n",
    "parameters_1[\"max_depth\"] = parameters_1[\"max_depth\"].astype(int)\n",
    "parameters_1[\"n_estimators\"] = parameters_1[\"n_estimators\"].astype(int)"
   ]
  },
  {
   "cell_type": "code",
   "execution_count": 12,
   "metadata": {},
   "outputs": [
    {
     "name": "stdout",
     "output_type": "stream",
     "text": [
      "[1/20] VA: 0.5637 | ET: 19.24s\n",
      "[2/20] VA: 0.5792 | ET: 32.63s\n",
      "[3/20] VA: 0.5900 | ET: 39.32s\n",
      "[4/20] VA: 0.6070 | ET: 50.20s\n",
      "[5/20] VA: 0.5699 | ET: 79.64s\n",
      "[6/20] VA: 0.5752 | ET: 93.11s\n",
      "[7/20] VA: 0.5704 | ET: 106.92s\n",
      "[8/20] VA: 0.4974 | ET: 108.68s\n",
      "[9/20] VA: 0.5401 | ET: 112.82s\n",
      "[10/20] VA: 0.5297 | ET: 120.60s\n",
      "[11/20] VA: 0.5854 | ET: 124.95s\n",
      "[12/20] VA: 0.5665 | ET: 129.77s\n",
      "[13/20] VA: 0.5456 | ET: 131.85s\n",
      "[14/20] VA: 0.5807 | ET: 141.84s\n",
      "[15/20] VA: 0.5665 | ET: 145.40s\n",
      "[16/20] VA: 0.5634 | ET: 153.33s\n",
      "[17/20] VA: 0.5073 | ET: 157.34s\n",
      "[18/20] VA: 0.5375 | ET: 162.40s\n",
      "[19/20] VA: 0.5732 | ET: 188.17s\n",
      "[20/20] VA: 0.5854 | ET: 197.34s\n"
     ]
    }
   ],
   "source": [
    "valid_accs = []\n",
    "start = time.time()\n",
    "for i in range(MAX_PARAM_NUM_1):\n",
    "    params = parameters_1.iloc[i]\n",
    "    max_depth = int(params[\"max_depth\"])\n",
    "    n_estimators = int(params[\"n_estimators\"])\n",
    "    learning_rate = params[\"learning_rate\"]\n",
    "    colsample_bytree = params[\"colsample_bytree\"]\n",
    "    subsample = params[\"subsample\"]\n",
    "    reg_lambda = params[\"reg_lambda\"]\n",
    "    #print(f\"{i+1}\\n----\\n\")\n",
    "    #print(f\"max_depth {max_depth}\")\n",
    "    #print(f\"n_estimators {n_estimators}\")\n",
    "    #print(f\"learning_rate {learning_rate}\")\n",
    "    #print(f\"colsample_bytree {colsample_bytree}\")\n",
    "    #print(f\"subsample {subsample}\")\n",
    "    #print(f\"reg_lambda {reg_lambda}\")\n",
    "    model = train(train_set_size = 0.05,\n",
    "                  max_depth = max_depth,\n",
    "                  colsample_bytree = colsample_bytree,\n",
    "                  n_estimators = n_estimators,\n",
    "                  learning_rate = learning_rate,\n",
    "                  subsample = subsample,\n",
    "                  reg_lambda = reg_lambda)\n",
    "    y_pred = model.predict(X_valid)\n",
    "    valid_accs.append(accuracy_score(y_valid, y_pred))\n",
    "    end = time.time()\n",
    "    print(f\"[{i+1}/{MAX_PARAM_NUM_1}] VA: {accuracy_score(y_valid, y_pred):.4f} | ET: {end-start:.2f}s\")\n",
    "parameters_1[\"valid_acc\"]=valid_accs"
   ]
  },
  {
   "cell_type": "code",
   "execution_count": 13,
   "metadata": {},
   "outputs": [
    {
     "data": {
      "text/html": [
       "<div>\n",
       "<style scoped>\n",
       "    .dataframe tbody tr th:only-of-type {\n",
       "        vertical-align: middle;\n",
       "    }\n",
       "\n",
       "    .dataframe tbody tr th {\n",
       "        vertical-align: top;\n",
       "    }\n",
       "\n",
       "    .dataframe thead th {\n",
       "        text-align: right;\n",
       "    }\n",
       "</style>\n",
       "<table border=\"1\" class=\"dataframe\">\n",
       "  <thead>\n",
       "    <tr style=\"text-align: right;\">\n",
       "      <th></th>\n",
       "      <th>max_depth</th>\n",
       "      <th>n_estimators</th>\n",
       "      <th>learning_rate</th>\n",
       "      <th>colsample_bytree</th>\n",
       "      <th>subsample</th>\n",
       "      <th>reg_lambda</th>\n",
       "      <th>valid_acc</th>\n",
       "    </tr>\n",
       "  </thead>\n",
       "  <tbody>\n",
       "    <tr>\n",
       "      <th>0</th>\n",
       "      <td>7</td>\n",
       "      <td>191</td>\n",
       "      <td>0.259719</td>\n",
       "      <td>0.955015</td>\n",
       "      <td>0.168109</td>\n",
       "      <td>77.692966</td>\n",
       "      <td>0.563672</td>\n",
       "    </tr>\n",
       "    <tr>\n",
       "      <th>1</th>\n",
       "      <td>12</td>\n",
       "      <td>190</td>\n",
       "      <td>0.377405</td>\n",
       "      <td>0.525297</td>\n",
       "      <td>0.265613</td>\n",
       "      <td>50.927594</td>\n",
       "      <td>0.579199</td>\n",
       "    </tr>\n",
       "    <tr>\n",
       "      <th>2</th>\n",
       "      <td>19</td>\n",
       "      <td>71</td>\n",
       "      <td>0.310659</td>\n",
       "      <td>0.208061</td>\n",
       "      <td>0.906890</td>\n",
       "      <td>62.665927</td>\n",
       "      <td>0.590039</td>\n",
       "    </tr>\n",
       "    <tr>\n",
       "      <th>3</th>\n",
       "      <td>20</td>\n",
       "      <td>94</td>\n",
       "      <td>0.177366</td>\n",
       "      <td>0.454016</td>\n",
       "      <td>0.939993</td>\n",
       "      <td>7.362099</td>\n",
       "      <td>0.607031</td>\n",
       "    </tr>\n",
       "    <tr>\n",
       "      <th>4</th>\n",
       "      <td>19</td>\n",
       "      <td>116</td>\n",
       "      <td>0.108140</td>\n",
       "      <td>0.879084</td>\n",
       "      <td>0.589585</td>\n",
       "      <td>63.126719</td>\n",
       "      <td>0.569922</td>\n",
       "    </tr>\n",
       "    <tr>\n",
       "      <th>5</th>\n",
       "      <td>5</td>\n",
       "      <td>149</td>\n",
       "      <td>0.337292</td>\n",
       "      <td>0.738425</td>\n",
       "      <td>0.269561</td>\n",
       "      <td>98.566856</td>\n",
       "      <td>0.575195</td>\n",
       "    </tr>\n",
       "    <tr>\n",
       "      <th>6</th>\n",
       "      <td>16</td>\n",
       "      <td>59</td>\n",
       "      <td>0.206230</td>\n",
       "      <td>0.787177</td>\n",
       "      <td>0.715359</td>\n",
       "      <td>72.195738</td>\n",
       "      <td>0.570410</td>\n",
       "    </tr>\n",
       "    <tr>\n",
       "      <th>7</th>\n",
       "      <td>12</td>\n",
       "      <td>26</td>\n",
       "      <td>0.089378</td>\n",
       "      <td>0.535771</td>\n",
       "      <td>0.135331</td>\n",
       "      <td>56.502985</td>\n",
       "      <td>0.497363</td>\n",
       "    </tr>\n",
       "    <tr>\n",
       "      <th>8</th>\n",
       "      <td>16</td>\n",
       "      <td>127</td>\n",
       "      <td>0.041406</td>\n",
       "      <td>0.155487</td>\n",
       "      <td>0.195553</td>\n",
       "      <td>51.383707</td>\n",
       "      <td>0.540137</td>\n",
       "    </tr>\n",
       "    <tr>\n",
       "      <th>9</th>\n",
       "      <td>10</td>\n",
       "      <td>59</td>\n",
       "      <td>0.054733</td>\n",
       "      <td>0.546554</td>\n",
       "      <td>0.439515</td>\n",
       "      <td>97.906001</td>\n",
       "      <td>0.529687</td>\n",
       "    </tr>\n",
       "    <tr>\n",
       "      <th>10</th>\n",
       "      <td>7</td>\n",
       "      <td>120</td>\n",
       "      <td>0.282394</td>\n",
       "      <td>0.110609</td>\n",
       "      <td>0.906622</td>\n",
       "      <td>22.739025</td>\n",
       "      <td>0.585449</td>\n",
       "    </tr>\n",
       "    <tr>\n",
       "      <th>11</th>\n",
       "      <td>13</td>\n",
       "      <td>162</td>\n",
       "      <td>0.324537</td>\n",
       "      <td>0.191008</td>\n",
       "      <td>0.191007</td>\n",
       "      <td>23.287483</td>\n",
       "      <td>0.566504</td>\n",
       "    </tr>\n",
       "    <tr>\n",
       "      <th>12</th>\n",
       "      <td>12</td>\n",
       "      <td>54</td>\n",
       "      <td>0.151312</td>\n",
       "      <td>0.129218</td>\n",
       "      <td>0.280583</td>\n",
       "      <td>19.158170</td>\n",
       "      <td>0.545605</td>\n",
       "    </tr>\n",
       "    <tr>\n",
       "      <th>13</th>\n",
       "      <td>8</td>\n",
       "      <td>128</td>\n",
       "      <td>0.309773</td>\n",
       "      <td>0.587410</td>\n",
       "      <td>0.242747</td>\n",
       "      <td>46.389986</td>\n",
       "      <td>0.580664</td>\n",
       "    </tr>\n",
       "    <tr>\n",
       "      <th>14</th>\n",
       "      <td>3</td>\n",
       "      <td>59</td>\n",
       "      <td>0.233865</td>\n",
       "      <td>0.469635</td>\n",
       "      <td>0.618642</td>\n",
       "      <td>97.591304</td>\n",
       "      <td>0.566504</td>\n",
       "    </tr>\n",
       "    <tr>\n",
       "      <th>15</th>\n",
       "      <td>10</td>\n",
       "      <td>150</td>\n",
       "      <td>0.022865</td>\n",
       "      <td>0.141869</td>\n",
       "      <td>0.645989</td>\n",
       "      <td>72.514208</td>\n",
       "      <td>0.563379</td>\n",
       "    </tr>\n",
       "    <tr>\n",
       "      <th>16</th>\n",
       "      <td>11</td>\n",
       "      <td>93</td>\n",
       "      <td>0.033678</td>\n",
       "      <td>0.382039</td>\n",
       "      <td>0.112651</td>\n",
       "      <td>81.359640</td>\n",
       "      <td>0.507324</td>\n",
       "    </tr>\n",
       "    <tr>\n",
       "      <th>17</th>\n",
       "      <td>18</td>\n",
       "      <td>36</td>\n",
       "      <td>0.105631</td>\n",
       "      <td>0.941436</td>\n",
       "      <td>0.195315</td>\n",
       "      <td>21.618201</td>\n",
       "      <td>0.537500</td>\n",
       "    </tr>\n",
       "    <tr>\n",
       "      <th>18</th>\n",
       "      <td>20</td>\n",
       "      <td>160</td>\n",
       "      <td>0.064709</td>\n",
       "      <td>0.499801</td>\n",
       "      <td>0.737791</td>\n",
       "      <td>33.593724</td>\n",
       "      <td>0.573242</td>\n",
       "    </tr>\n",
       "    <tr>\n",
       "      <th>19</th>\n",
       "      <td>13</td>\n",
       "      <td>179</td>\n",
       "      <td>0.289427</td>\n",
       "      <td>0.173926</td>\n",
       "      <td>0.751220</td>\n",
       "      <td>44.074518</td>\n",
       "      <td>0.585449</td>\n",
       "    </tr>\n",
       "  </tbody>\n",
       "</table>\n",
       "</div>"
      ],
      "text/plain": [
       "    max_depth  n_estimators  learning_rate  colsample_bytree  subsample  \\\n",
       "0           7           191       0.259719          0.955015   0.168109   \n",
       "1          12           190       0.377405          0.525297   0.265613   \n",
       "2          19            71       0.310659          0.208061   0.906890   \n",
       "3          20            94       0.177366          0.454016   0.939993   \n",
       "4          19           116       0.108140          0.879084   0.589585   \n",
       "5           5           149       0.337292          0.738425   0.269561   \n",
       "6          16            59       0.206230          0.787177   0.715359   \n",
       "7          12            26       0.089378          0.535771   0.135331   \n",
       "8          16           127       0.041406          0.155487   0.195553   \n",
       "9          10            59       0.054733          0.546554   0.439515   \n",
       "10          7           120       0.282394          0.110609   0.906622   \n",
       "11         13           162       0.324537          0.191008   0.191007   \n",
       "12         12            54       0.151312          0.129218   0.280583   \n",
       "13          8           128       0.309773          0.587410   0.242747   \n",
       "14          3            59       0.233865          0.469635   0.618642   \n",
       "15         10           150       0.022865          0.141869   0.645989   \n",
       "16         11            93       0.033678          0.382039   0.112651   \n",
       "17         18            36       0.105631          0.941436   0.195315   \n",
       "18         20           160       0.064709          0.499801   0.737791   \n",
       "19         13           179       0.289427          0.173926   0.751220   \n",
       "\n",
       "    reg_lambda  valid_acc  \n",
       "0    77.692966   0.563672  \n",
       "1    50.927594   0.579199  \n",
       "2    62.665927   0.590039  \n",
       "3     7.362099   0.607031  \n",
       "4    63.126719   0.569922  \n",
       "5    98.566856   0.575195  \n",
       "6    72.195738   0.570410  \n",
       "7    56.502985   0.497363  \n",
       "8    51.383707   0.540137  \n",
       "9    97.906001   0.529687  \n",
       "10   22.739025   0.585449  \n",
       "11   23.287483   0.566504  \n",
       "12   19.158170   0.545605  \n",
       "13   46.389986   0.580664  \n",
       "14   97.591304   0.566504  \n",
       "15   72.514208   0.563379  \n",
       "16   81.359640   0.507324  \n",
       "17   21.618201   0.537500  \n",
       "18   33.593724   0.573242  \n",
       "19   44.074518   0.585449  "
      ]
     },
     "execution_count": 13,
     "metadata": {},
     "output_type": "execute_result"
    }
   ],
   "source": [
    "parameters_1"
   ]
  },
  {
   "cell_type": "code",
   "execution_count": 14,
   "metadata": {},
   "outputs": [],
   "source": [
    "min_parameters_1 = parameters_1.sort_values(\"valid_acc\",ascending=False).head(MAX_PARAM_NUM_1_BEST).min()\n",
    "max_parameters_1 = parameters_1.sort_values(\"valid_acc\",ascending=False).head(MAX_PARAM_NUM_1_BEST).max()\n",
    "parameters_1_domain = parameters_1.sort_values(\"valid_acc\",ascending=False).head(MAX_PARAM_NUM_1_BEST)\n"
   ]
  },
  {
   "cell_type": "code",
   "execution_count": 15,
   "metadata": {},
   "outputs": [
    {
     "data": {
      "text/plain": [
       "max_depth            7.000000\n",
       "n_estimators        71.000000\n",
       "learning_rate        0.177366\n",
       "colsample_bytree     0.110609\n",
       "subsample            0.242747\n",
       "reg_lambda           7.362099\n",
       "valid_acc            0.580664\n",
       "dtype: float64"
      ]
     },
     "execution_count": 15,
     "metadata": {},
     "output_type": "execute_result"
    }
   ],
   "source": [
    "min_parameters_1"
   ]
  },
  {
   "cell_type": "code",
   "execution_count": 16,
   "metadata": {
    "tags": []
   },
   "outputs": [
    {
     "data": {
      "text/plain": [
       "max_depth            20.000000\n",
       "n_estimators        179.000000\n",
       "learning_rate         0.310659\n",
       "colsample_bytree      0.587410\n",
       "subsample             0.939993\n",
       "reg_lambda           62.665927\n",
       "valid_acc             0.607031\n",
       "dtype: float64"
      ]
     },
     "execution_count": 16,
     "metadata": {},
     "output_type": "execute_result"
    }
   ],
   "source": [
    "max_parameters_1"
   ]
  },
  {
   "cell_type": "code",
   "execution_count": 17,
   "metadata": {},
   "outputs": [
    {
     "data": {
      "text/html": [
       "<div>\n",
       "<style scoped>\n",
       "    .dataframe tbody tr th:only-of-type {\n",
       "        vertical-align: middle;\n",
       "    }\n",
       "\n",
       "    .dataframe tbody tr th {\n",
       "        vertical-align: top;\n",
       "    }\n",
       "\n",
       "    .dataframe thead th {\n",
       "        text-align: right;\n",
       "    }\n",
       "</style>\n",
       "<table border=\"1\" class=\"dataframe\">\n",
       "  <thead>\n",
       "    <tr style=\"text-align: right;\">\n",
       "      <th></th>\n",
       "      <th>max_depth</th>\n",
       "      <th>n_estimators</th>\n",
       "      <th>learning_rate</th>\n",
       "      <th>colsample_bytree</th>\n",
       "      <th>subsample</th>\n",
       "      <th>reg_lambda</th>\n",
       "      <th>valid_acc</th>\n",
       "    </tr>\n",
       "  </thead>\n",
       "  <tbody>\n",
       "    <tr>\n",
       "      <th>3</th>\n",
       "      <td>20</td>\n",
       "      <td>94</td>\n",
       "      <td>0.177366</td>\n",
       "      <td>0.454016</td>\n",
       "      <td>0.939993</td>\n",
       "      <td>7.362099</td>\n",
       "      <td>0.607031</td>\n",
       "    </tr>\n",
       "    <tr>\n",
       "      <th>2</th>\n",
       "      <td>19</td>\n",
       "      <td>71</td>\n",
       "      <td>0.310659</td>\n",
       "      <td>0.208061</td>\n",
       "      <td>0.906890</td>\n",
       "      <td>62.665927</td>\n",
       "      <td>0.590039</td>\n",
       "    </tr>\n",
       "    <tr>\n",
       "      <th>10</th>\n",
       "      <td>7</td>\n",
       "      <td>120</td>\n",
       "      <td>0.282394</td>\n",
       "      <td>0.110609</td>\n",
       "      <td>0.906622</td>\n",
       "      <td>22.739025</td>\n",
       "      <td>0.585449</td>\n",
       "    </tr>\n",
       "    <tr>\n",
       "      <th>19</th>\n",
       "      <td>13</td>\n",
       "      <td>179</td>\n",
       "      <td>0.289427</td>\n",
       "      <td>0.173926</td>\n",
       "      <td>0.751220</td>\n",
       "      <td>44.074518</td>\n",
       "      <td>0.585449</td>\n",
       "    </tr>\n",
       "    <tr>\n",
       "      <th>13</th>\n",
       "      <td>8</td>\n",
       "      <td>128</td>\n",
       "      <td>0.309773</td>\n",
       "      <td>0.587410</td>\n",
       "      <td>0.242747</td>\n",
       "      <td>46.389986</td>\n",
       "      <td>0.580664</td>\n",
       "    </tr>\n",
       "  </tbody>\n",
       "</table>\n",
       "</div>"
      ],
      "text/plain": [
       "    max_depth  n_estimators  learning_rate  colsample_bytree  subsample  \\\n",
       "3          20            94       0.177366          0.454016   0.939993   \n",
       "2          19            71       0.310659          0.208061   0.906890   \n",
       "10          7           120       0.282394          0.110609   0.906622   \n",
       "19         13           179       0.289427          0.173926   0.751220   \n",
       "13          8           128       0.309773          0.587410   0.242747   \n",
       "\n",
       "    reg_lambda  valid_acc  \n",
       "3     7.362099   0.607031  \n",
       "2    62.665927   0.590039  \n",
       "10   22.739025   0.585449  \n",
       "19   44.074518   0.585449  \n",
       "13   46.389986   0.580664  "
      ]
     },
     "execution_count": 17,
     "metadata": {},
     "output_type": "execute_result"
    }
   ],
   "source": [
    "parameters_1_domain"
   ]
  },
  {
   "cell_type": "code",
   "execution_count": 32,
   "metadata": {},
   "outputs": [
    {
     "data": {
      "text/plain": [
       "8"
      ]
     },
     "execution_count": 32,
     "metadata": {},
     "output_type": "execute_result"
    }
   ],
   "source": [
    "np.random.choice(parameters_1_domain[\"max_depth\"].values)"
   ]
  },
  {
   "cell_type": "code",
   "execution_count": 30,
   "metadata": {},
   "outputs": [
    {
     "data": {
      "text/plain": [
       "3     20\n",
       "2     19\n",
       "10     7\n",
       "19    13\n",
       "13     8\n",
       "Name: max_depth, dtype: int64"
      ]
     },
     "execution_count": 30,
     "metadata": {},
     "output_type": "execute_result"
    }
   ],
   "source": []
  },
  {
   "cell_type": "markdown",
   "metadata": {},
   "source": [
    "## 2nd round"
   ]
  },
  {
   "cell_type": "code",
   "execution_count": 35,
   "metadata": {},
   "outputs": [],
   "source": [
    "MAX_PARAM_NUM_2 = 20\n",
    "MAX_PARAM_NUM_2_BEST = 5\n",
    "parameters_2 = pd.DataFrame()\n",
    "for i in range(MAX_PARAM_NUM_2):\n",
    "    \n",
    "    \n",
    "    max_depth = np.random.choice(parameters_1_domain[\"max_depth\"].values)\n",
    "    n_estimators = np.random.choice(parameters_1_domain[\"n_estimators\"].values)\n",
    "    learning_rate = np.random.choice(parameters_1_domain[\"learning_rate\"].values)\n",
    "    colsample_bytree = np.random.choice(parameters_1_domain[\"colsample_bytree\"].values)\n",
    "    subsample = np.random.choice(parameters_1_domain[\"subsample\"].values)\n",
    "    reg_lambda = np.random.choice(parameters_1_domain[\"reg_lambda\"].values)\n",
    "    \n",
    "    parameters_2 = parameters_2.append({\"max_depth\":max_depth,\n",
    "                                        \"n_estimators\":n_estimators,\n",
    "                                        \"learning_rate\":learning_rate,\n",
    "                                        \"colsample_bytree\":colsample_bytree,\n",
    "                                        \"subsample\":subsample,\n",
    "                                        \"reg_lambda\":reg_lambda,\n",
    "                                        \"valid_acc\":i},ignore_index=True)\n",
    "parameters_2[\"max_depth\"] = parameters_2[\"max_depth\"].astype(int)\n",
    "parameters_2[\"n_estimators\"] = parameters_2[\"n_estimators\"].astype(int)"
   ]
  },
  {
   "cell_type": "code",
   "execution_count": 36,
   "metadata": {
    "tags": []
   },
   "outputs": [
    {
     "data": {
      "text/html": [
       "<div>\n",
       "<style scoped>\n",
       "    .dataframe tbody tr th:only-of-type {\n",
       "        vertical-align: middle;\n",
       "    }\n",
       "\n",
       "    .dataframe tbody tr th {\n",
       "        vertical-align: top;\n",
       "    }\n",
       "\n",
       "    .dataframe thead th {\n",
       "        text-align: right;\n",
       "    }\n",
       "</style>\n",
       "<table border=\"1\" class=\"dataframe\">\n",
       "  <thead>\n",
       "    <tr style=\"text-align: right;\">\n",
       "      <th></th>\n",
       "      <th>max_depth</th>\n",
       "      <th>n_estimators</th>\n",
       "      <th>learning_rate</th>\n",
       "      <th>colsample_bytree</th>\n",
       "      <th>subsample</th>\n",
       "      <th>reg_lambda</th>\n",
       "      <th>valid_acc</th>\n",
       "    </tr>\n",
       "  </thead>\n",
       "  <tbody>\n",
       "    <tr>\n",
       "      <th>0</th>\n",
       "      <td>13</td>\n",
       "      <td>179</td>\n",
       "      <td>0.289427</td>\n",
       "      <td>0.454016</td>\n",
       "      <td>0.242747</td>\n",
       "      <td>62.665927</td>\n",
       "      <td>0.0</td>\n",
       "    </tr>\n",
       "    <tr>\n",
       "      <th>1</th>\n",
       "      <td>8</td>\n",
       "      <td>128</td>\n",
       "      <td>0.282394</td>\n",
       "      <td>0.454016</td>\n",
       "      <td>0.906890</td>\n",
       "      <td>46.389986</td>\n",
       "      <td>1.0</td>\n",
       "    </tr>\n",
       "    <tr>\n",
       "      <th>2</th>\n",
       "      <td>7</td>\n",
       "      <td>179</td>\n",
       "      <td>0.310659</td>\n",
       "      <td>0.454016</td>\n",
       "      <td>0.751220</td>\n",
       "      <td>46.389986</td>\n",
       "      <td>2.0</td>\n",
       "    </tr>\n",
       "    <tr>\n",
       "      <th>3</th>\n",
       "      <td>20</td>\n",
       "      <td>120</td>\n",
       "      <td>0.282394</td>\n",
       "      <td>0.587410</td>\n",
       "      <td>0.906890</td>\n",
       "      <td>22.739025</td>\n",
       "      <td>3.0</td>\n",
       "    </tr>\n",
       "    <tr>\n",
       "      <th>4</th>\n",
       "      <td>20</td>\n",
       "      <td>94</td>\n",
       "      <td>0.310659</td>\n",
       "      <td>0.454016</td>\n",
       "      <td>0.906890</td>\n",
       "      <td>46.389986</td>\n",
       "      <td>4.0</td>\n",
       "    </tr>\n",
       "    <tr>\n",
       "      <th>5</th>\n",
       "      <td>19</td>\n",
       "      <td>94</td>\n",
       "      <td>0.309773</td>\n",
       "      <td>0.208061</td>\n",
       "      <td>0.242747</td>\n",
       "      <td>7.362099</td>\n",
       "      <td>5.0</td>\n",
       "    </tr>\n",
       "    <tr>\n",
       "      <th>6</th>\n",
       "      <td>7</td>\n",
       "      <td>120</td>\n",
       "      <td>0.309773</td>\n",
       "      <td>0.454016</td>\n",
       "      <td>0.939993</td>\n",
       "      <td>46.389986</td>\n",
       "      <td>6.0</td>\n",
       "    </tr>\n",
       "    <tr>\n",
       "      <th>7</th>\n",
       "      <td>8</td>\n",
       "      <td>94</td>\n",
       "      <td>0.310659</td>\n",
       "      <td>0.587410</td>\n",
       "      <td>0.751220</td>\n",
       "      <td>44.074518</td>\n",
       "      <td>7.0</td>\n",
       "    </tr>\n",
       "    <tr>\n",
       "      <th>8</th>\n",
       "      <td>7</td>\n",
       "      <td>71</td>\n",
       "      <td>0.309773</td>\n",
       "      <td>0.173926</td>\n",
       "      <td>0.242747</td>\n",
       "      <td>62.665927</td>\n",
       "      <td>8.0</td>\n",
       "    </tr>\n",
       "    <tr>\n",
       "      <th>9</th>\n",
       "      <td>8</td>\n",
       "      <td>179</td>\n",
       "      <td>0.309773</td>\n",
       "      <td>0.587410</td>\n",
       "      <td>0.906622</td>\n",
       "      <td>62.665927</td>\n",
       "      <td>9.0</td>\n",
       "    </tr>\n",
       "    <tr>\n",
       "      <th>10</th>\n",
       "      <td>20</td>\n",
       "      <td>179</td>\n",
       "      <td>0.177366</td>\n",
       "      <td>0.173926</td>\n",
       "      <td>0.906890</td>\n",
       "      <td>44.074518</td>\n",
       "      <td>10.0</td>\n",
       "    </tr>\n",
       "    <tr>\n",
       "      <th>11</th>\n",
       "      <td>8</td>\n",
       "      <td>120</td>\n",
       "      <td>0.289427</td>\n",
       "      <td>0.173926</td>\n",
       "      <td>0.906890</td>\n",
       "      <td>46.389986</td>\n",
       "      <td>11.0</td>\n",
       "    </tr>\n",
       "    <tr>\n",
       "      <th>12</th>\n",
       "      <td>7</td>\n",
       "      <td>179</td>\n",
       "      <td>0.177366</td>\n",
       "      <td>0.110609</td>\n",
       "      <td>0.906622</td>\n",
       "      <td>22.739025</td>\n",
       "      <td>12.0</td>\n",
       "    </tr>\n",
       "    <tr>\n",
       "      <th>13</th>\n",
       "      <td>13</td>\n",
       "      <td>94</td>\n",
       "      <td>0.309773</td>\n",
       "      <td>0.208061</td>\n",
       "      <td>0.242747</td>\n",
       "      <td>22.739025</td>\n",
       "      <td>13.0</td>\n",
       "    </tr>\n",
       "    <tr>\n",
       "      <th>14</th>\n",
       "      <td>20</td>\n",
       "      <td>71</td>\n",
       "      <td>0.309773</td>\n",
       "      <td>0.110609</td>\n",
       "      <td>0.242747</td>\n",
       "      <td>62.665927</td>\n",
       "      <td>14.0</td>\n",
       "    </tr>\n",
       "    <tr>\n",
       "      <th>15</th>\n",
       "      <td>19</td>\n",
       "      <td>120</td>\n",
       "      <td>0.289427</td>\n",
       "      <td>0.454016</td>\n",
       "      <td>0.939993</td>\n",
       "      <td>22.739025</td>\n",
       "      <td>15.0</td>\n",
       "    </tr>\n",
       "    <tr>\n",
       "      <th>16</th>\n",
       "      <td>20</td>\n",
       "      <td>71</td>\n",
       "      <td>0.177366</td>\n",
       "      <td>0.454016</td>\n",
       "      <td>0.906622</td>\n",
       "      <td>46.389986</td>\n",
       "      <td>16.0</td>\n",
       "    </tr>\n",
       "    <tr>\n",
       "      <th>17</th>\n",
       "      <td>20</td>\n",
       "      <td>94</td>\n",
       "      <td>0.309773</td>\n",
       "      <td>0.587410</td>\n",
       "      <td>0.906622</td>\n",
       "      <td>62.665927</td>\n",
       "      <td>17.0</td>\n",
       "    </tr>\n",
       "    <tr>\n",
       "      <th>18</th>\n",
       "      <td>7</td>\n",
       "      <td>179</td>\n",
       "      <td>0.309773</td>\n",
       "      <td>0.454016</td>\n",
       "      <td>0.751220</td>\n",
       "      <td>7.362099</td>\n",
       "      <td>18.0</td>\n",
       "    </tr>\n",
       "    <tr>\n",
       "      <th>19</th>\n",
       "      <td>7</td>\n",
       "      <td>179</td>\n",
       "      <td>0.289427</td>\n",
       "      <td>0.208061</td>\n",
       "      <td>0.906890</td>\n",
       "      <td>22.739025</td>\n",
       "      <td>19.0</td>\n",
       "    </tr>\n",
       "  </tbody>\n",
       "</table>\n",
       "</div>"
      ],
      "text/plain": [
       "    max_depth  n_estimators  learning_rate  colsample_bytree  subsample  \\\n",
       "0          13           179       0.289427          0.454016   0.242747   \n",
       "1           8           128       0.282394          0.454016   0.906890   \n",
       "2           7           179       0.310659          0.454016   0.751220   \n",
       "3          20           120       0.282394          0.587410   0.906890   \n",
       "4          20            94       0.310659          0.454016   0.906890   \n",
       "5          19            94       0.309773          0.208061   0.242747   \n",
       "6           7           120       0.309773          0.454016   0.939993   \n",
       "7           8            94       0.310659          0.587410   0.751220   \n",
       "8           7            71       0.309773          0.173926   0.242747   \n",
       "9           8           179       0.309773          0.587410   0.906622   \n",
       "10         20           179       0.177366          0.173926   0.906890   \n",
       "11          8           120       0.289427          0.173926   0.906890   \n",
       "12          7           179       0.177366          0.110609   0.906622   \n",
       "13         13            94       0.309773          0.208061   0.242747   \n",
       "14         20            71       0.309773          0.110609   0.242747   \n",
       "15         19           120       0.289427          0.454016   0.939993   \n",
       "16         20            71       0.177366          0.454016   0.906622   \n",
       "17         20            94       0.309773          0.587410   0.906622   \n",
       "18          7           179       0.309773          0.454016   0.751220   \n",
       "19          7           179       0.289427          0.208061   0.906890   \n",
       "\n",
       "    reg_lambda  valid_acc  \n",
       "0    62.665927        0.0  \n",
       "1    46.389986        1.0  \n",
       "2    46.389986        2.0  \n",
       "3    22.739025        3.0  \n",
       "4    46.389986        4.0  \n",
       "5     7.362099        5.0  \n",
       "6    46.389986        6.0  \n",
       "7    44.074518        7.0  \n",
       "8    62.665927        8.0  \n",
       "9    62.665927        9.0  \n",
       "10   44.074518       10.0  \n",
       "11   46.389986       11.0  \n",
       "12   22.739025       12.0  \n",
       "13   22.739025       13.0  \n",
       "14   62.665927       14.0  \n",
       "15   22.739025       15.0  \n",
       "16   46.389986       16.0  \n",
       "17   62.665927       17.0  \n",
       "18    7.362099       18.0  \n",
       "19   22.739025       19.0  "
      ]
     },
     "execution_count": 36,
     "metadata": {},
     "output_type": "execute_result"
    }
   ],
   "source": [
    "parameters_2"
   ]
  },
  {
   "cell_type": "code",
   "execution_count": 37,
   "metadata": {
    "tags": []
   },
   "outputs": [
    {
     "name": "stdout",
     "output_type": "stream",
     "text": [
      "[1/20] VA: 0.6086 | ET: 45.43s\n",
      "[2/20] VA: 0.6288 | ET: 95.39s\n",
      "[3/20] VA: 0.6208 | ET: 153.17s\n",
      "[4/20] VA: 0.6259 | ET: 214.70s\n",
      "[5/20] VA: 0.6050 | ET: 254.88s\n",
      "[6/20] VA: 0.5952 | ET: 265.61s\n",
      "[7/20] VA: 0.6243 | ET: 301.41s\n",
      "[8/20] VA: 0.6174 | ET: 341.37s\n",
      "[9/20] VA: 0.5769 | ET: 348.53s\n",
      "[10/20] VA: 0.6236 | ET: 420.42s\n",
      "[11/20] VA: 0.6138 | ET: 452.58s\n",
      "[12/20] VA: 0.6098 | ET: 470.25s\n",
      "[13/20] VA: 0.6126 | ET: 487.35s\n",
      "[14/20] VA: 0.5985 | ET: 498.87s\n",
      "[15/20] VA: 0.5698 | ET: 505.42s\n",
      "[16/20] VA: 0.6162 | ET: 550.66s\n",
      "[17/20] VA: 0.6175 | ET: 586.95s\n",
      "[18/20] VA: 0.6148 | ET: 639.78s\n",
      "[19/20] VA: 0.6271 | ET: 681.88s\n",
      "[20/20] VA: 0.6119 | ET: 709.75s\n"
     ]
    }
   ],
   "source": [
    "valid_accs = []\n",
    "start = time.time()\n",
    "for i in range(MAX_PARAM_NUM_2):\n",
    "    params = parameters_2.iloc[i]\n",
    "    max_depth = int(params[\"max_depth\"])\n",
    "    n_estimators = int(params[\"n_estimators\"])\n",
    "    learning_rate = params[\"learning_rate\"]\n",
    "    colsample_bytree = params[\"colsample_bytree\"]\n",
    "    subsample = params[\"subsample\"]\n",
    "    reg_lambda = params[\"reg_lambda\"]\n",
    "    #print(f\"{i+1}\\n----\\n\")\n",
    "    #print(f\"max_depth {max_depth}\")\n",
    "    #print(f\"n_estimators {n_estimators}\")\n",
    "    #print(f\"learning_rate {learning_rate}\")\n",
    "    #print(f\"colsample_bytree {colsample_bytree}\")\n",
    "    #print(f\"subsample {subsample}\")\n",
    "    #print(f\"reg_lambda {reg_lambda}\")\n",
    "    model = train(train_set_size = 0.15,\n",
    "                  max_depth = max_depth,\n",
    "                  colsample_bytree = colsample_bytree,\n",
    "                  n_estimators = n_estimators,\n",
    "                  learning_rate = learning_rate,\n",
    "                  subsample = subsample,\n",
    "                  reg_lambda = reg_lambda)\n",
    "    y_pred = model.predict(X_valid)\n",
    "    valid_accs.append(accuracy_score(y_valid, y_pred))\n",
    "    end = time.time()\n",
    "    print(f\"[{i+1}/{MAX_PARAM_NUM_2}] VA: {accuracy_score(y_valid, y_pred):.4f} | ET: {end-start:.2f}s\")\n",
    "parameters_2[\"valid_acc\"]=valid_accs"
   ]
  },
  {
   "cell_type": "code",
   "execution_count": 38,
   "metadata": {
    "tags": []
   },
   "outputs": [],
   "source": [
    "min_parameters_2 = parameters_2.sort_values(\"valid_acc\",ascending=False).head(MAX_PARAM_NUM_2_BEST).min()\n",
    "max_parameters_2 = parameters_2.sort_values(\"valid_acc\",ascending=False).head(MAX_PARAM_NUM_2_BEST).max()"
   ]
  },
  {
   "cell_type": "code",
   "execution_count": 39,
   "metadata": {
    "tags": []
   },
   "outputs": [
    {
     "data": {
      "text/plain": [
       "max_depth             7.000000\n",
       "n_estimators        120.000000\n",
       "learning_rate         0.282394\n",
       "colsample_bytree      0.454016\n",
       "subsample             0.751220\n",
       "reg_lambda            7.362099\n",
       "valid_acc             0.623633\n",
       "dtype: float64"
      ]
     },
     "execution_count": 39,
     "metadata": {},
     "output_type": "execute_result"
    }
   ],
   "source": [
    "min_parameters_2"
   ]
  },
  {
   "cell_type": "code",
   "execution_count": 40,
   "metadata": {
    "tags": []
   },
   "outputs": [
    {
     "data": {
      "text/plain": [
       "max_depth            20.000000\n",
       "n_estimators        179.000000\n",
       "learning_rate         0.309773\n",
       "colsample_bytree      0.587410\n",
       "subsample             0.939993\n",
       "reg_lambda           62.665927\n",
       "valid_acc             0.628809\n",
       "dtype: float64"
      ]
     },
     "execution_count": 40,
     "metadata": {},
     "output_type": "execute_result"
    }
   ],
   "source": [
    "max_parameters_2"
   ]
  },
  {
   "cell_type": "code",
   "execution_count": 41,
   "metadata": {},
   "outputs": [],
   "source": [
    "parameters_2_domain = parameters_2.sort_values(\"valid_acc\",ascending=False).head(MAX_PARAM_NUM_2_BEST)\n"
   ]
  },
  {
   "cell_type": "code",
   "execution_count": 43,
   "metadata": {},
   "outputs": [
    {
     "data": {
      "text/html": [
       "<div>\n",
       "<style scoped>\n",
       "    .dataframe tbody tr th:only-of-type {\n",
       "        vertical-align: middle;\n",
       "    }\n",
       "\n",
       "    .dataframe tbody tr th {\n",
       "        vertical-align: top;\n",
       "    }\n",
       "\n",
       "    .dataframe thead th {\n",
       "        text-align: right;\n",
       "    }\n",
       "</style>\n",
       "<table border=\"1\" class=\"dataframe\">\n",
       "  <thead>\n",
       "    <tr style=\"text-align: right;\">\n",
       "      <th></th>\n",
       "      <th>max_depth</th>\n",
       "      <th>n_estimators</th>\n",
       "      <th>learning_rate</th>\n",
       "      <th>colsample_bytree</th>\n",
       "      <th>subsample</th>\n",
       "      <th>reg_lambda</th>\n",
       "      <th>valid_acc</th>\n",
       "    </tr>\n",
       "  </thead>\n",
       "  <tbody>\n",
       "    <tr>\n",
       "      <th>1</th>\n",
       "      <td>8</td>\n",
       "      <td>128</td>\n",
       "      <td>0.282394</td>\n",
       "      <td>0.454016</td>\n",
       "      <td>0.906890</td>\n",
       "      <td>46.389986</td>\n",
       "      <td>0.628809</td>\n",
       "    </tr>\n",
       "    <tr>\n",
       "      <th>18</th>\n",
       "      <td>7</td>\n",
       "      <td>179</td>\n",
       "      <td>0.309773</td>\n",
       "      <td>0.454016</td>\n",
       "      <td>0.751220</td>\n",
       "      <td>7.362099</td>\n",
       "      <td>0.627051</td>\n",
       "    </tr>\n",
       "    <tr>\n",
       "      <th>3</th>\n",
       "      <td>20</td>\n",
       "      <td>120</td>\n",
       "      <td>0.282394</td>\n",
       "      <td>0.587410</td>\n",
       "      <td>0.906890</td>\n",
       "      <td>22.739025</td>\n",
       "      <td>0.625879</td>\n",
       "    </tr>\n",
       "    <tr>\n",
       "      <th>6</th>\n",
       "      <td>7</td>\n",
       "      <td>120</td>\n",
       "      <td>0.309773</td>\n",
       "      <td>0.454016</td>\n",
       "      <td>0.939993</td>\n",
       "      <td>46.389986</td>\n",
       "      <td>0.624316</td>\n",
       "    </tr>\n",
       "    <tr>\n",
       "      <th>9</th>\n",
       "      <td>8</td>\n",
       "      <td>179</td>\n",
       "      <td>0.309773</td>\n",
       "      <td>0.587410</td>\n",
       "      <td>0.906622</td>\n",
       "      <td>62.665927</td>\n",
       "      <td>0.623633</td>\n",
       "    </tr>\n",
       "  </tbody>\n",
       "</table>\n",
       "</div>"
      ],
      "text/plain": [
       "    max_depth  n_estimators  learning_rate  colsample_bytree  subsample  \\\n",
       "1           8           128       0.282394          0.454016   0.906890   \n",
       "18          7           179       0.309773          0.454016   0.751220   \n",
       "3          20           120       0.282394          0.587410   0.906890   \n",
       "6           7           120       0.309773          0.454016   0.939993   \n",
       "9           8           179       0.309773          0.587410   0.906622   \n",
       "\n",
       "    reg_lambda  valid_acc  \n",
       "1    46.389986   0.628809  \n",
       "18    7.362099   0.627051  \n",
       "3    22.739025   0.625879  \n",
       "6    46.389986   0.624316  \n",
       "9    62.665927   0.623633  "
      ]
     },
     "execution_count": 43,
     "metadata": {},
     "output_type": "execute_result"
    }
   ],
   "source": [
    "parameters_2_domain"
   ]
  },
  {
   "cell_type": "markdown",
   "metadata": {},
   "source": [
    "## 3rd round"
   ]
  },
  {
   "cell_type": "code",
   "execution_count": 42,
   "metadata": {
    "tags": []
   },
   "outputs": [],
   "source": [
    "MAX_PARAM_NUM_3 = 10\n",
    "MAX_PARAM_NUM_3_BEST = 10\n",
    "parameters_3 = pd.DataFrame()\n",
    "for i in range(MAX_PARAM_NUM_3):\n",
    "    max_depth = np.random.choice(parameters_2_domain[\"max_depth\"].values)\n",
    "    n_estimators = np.random.choice(parameters_2_domain[\"n_estimators\"].values)\n",
    "    learning_rate = np.random.choice(parameters_2_domain[\"learning_rate\"].values)\n",
    "    colsample_bytree = np.random.choice(parameters_2_domain[\"colsample_bytree\"].values)\n",
    "    subsample = np.random.choice(parameters_2_domain[\"subsample\"].values)\n",
    "    reg_lambda = np.random.choice(parameters_2_domain[\"reg_lambda\"].values)\n",
    "    \n",
    "    parameters_3 = parameters_3.append({\"max_depth\":max_depth,\n",
    "                                        \"n_estimators\":n_estimators,\n",
    "                                        \"learning_rate\":learning_rate,\n",
    "                                        \"colsample_bytree\":colsample_bytree,\n",
    "                                        \"subsample\":subsample,\n",
    "                                        \"reg_lambda\":reg_lambda,\n",
    "                                        \"valid_acc\":i},ignore_index=True)\n",
    "parameters_3[\"max_depth\"] = parameters_3[\"max_depth\"].astype(int)\n",
    "parameters_3[\"n_estimators\"] = parameters_3[\"n_estimators\"].astype(int)"
   ]
  },
  {
   "cell_type": "code",
   "execution_count": null,
   "metadata": {
    "execution": {
     "iopub.execute_input": "2022-04-06T12:53:28.008281Z",
     "iopub.status.busy": "2022-04-06T12:53:28.007941Z",
     "iopub.status.idle": "2022-04-06T12:53:28.02142Z",
     "shell.execute_reply": "2022-04-06T12:53:28.020762Z",
     "shell.execute_reply.started": "2022-04-06T12:53:28.008252Z"
    }
   },
   "outputs": [],
   "source": [
    "parameters_3"
   ]
  },
  {
   "cell_type": "code",
   "execution_count": null,
   "metadata": {
    "execution": {
     "iopub.execute_input": "2022-04-06T12:53:28.023163Z",
     "iopub.status.busy": "2022-04-06T12:53:28.022863Z",
     "iopub.status.idle": "2022-04-06T13:26:01.746807Z",
     "shell.execute_reply": "2022-04-06T13:26:01.745794Z",
     "shell.execute_reply.started": "2022-04-06T12:53:28.023131Z"
    }
   },
   "outputs": [],
   "source": [
    "valid_accs = []\n",
    "start = time.time()\n",
    "models = []\n",
    "for i in range(MAX_PARAM_NUM_3):\n",
    "    params = parameters_3.iloc[i]\n",
    "    max_depth = int(params[\"max_depth\"])\n",
    "    n_estimators = int(params[\"n_estimators\"])\n",
    "    learning_rate = params[\"learning_rate\"]\n",
    "    colsample_bytree = params[\"colsample_bytree\"]\n",
    "    subsample = params[\"subsample\"]\n",
    "    reg_lambda = params[\"reg_lambda\"]\n",
    "    #print(f\"{i+1}\\n----\\n\")\n",
    "    #print(f\"max_depth {max_depth}\")\n",
    "    #print(f\"n_estimators {n_estimators}\")\n",
    "    #print(f\"learning_rate {learning_rate}\")\n",
    "    #print(f\"colsample_bytree {colsample_bytree}\")\n",
    "    #print(f\"subsample {subsample}\")\n",
    "    #print(f\"reg_lambda {reg_lambda}\")\n",
    "    model = train(train_set_size = 1.0,\n",
    "                  max_depth = max_depth,\n",
    "                  colsample_bytree = colsample_bytree,\n",
    "                  n_estimators = n_estimators,\n",
    "                  learning_rate = learning_rate,\n",
    "                  subsample = subsample,\n",
    "                  reg_lambda = reg_lambda)\n",
    "    models.append(model)\n",
    "    y_pred = model.predict(X_valid)\n",
    "    valid_accs.append(accuracy_score(y_valid, y_pred))\n",
    "    end = time.time()\n",
    "    print(f\"[{i+1}/{MAX_PARAM_NUM_3}] VA: {accuracy_score(y_valid, y_pred):.4f} | ET: {end-start:.2f}s\")\n",
    "parameters_3[\"valid_acc\"]=valid_accs"
   ]
  },
  {
   "cell_type": "code",
   "execution_count": null,
   "metadata": {
    "execution": {
     "iopub.execute_input": "2022-04-06T13:26:01.74826Z",
     "iopub.status.busy": "2022-04-06T13:26:01.74805Z",
     "iopub.status.idle": "2022-04-06T13:26:01.762418Z",
     "shell.execute_reply": "2022-04-06T13:26:01.761862Z",
     "shell.execute_reply.started": "2022-04-06T13:26:01.748232Z"
    }
   },
   "outputs": [],
   "source": [
    "parameters_3.sort_values(\"valid_acc\",ascending=False)"
   ]
  },
  {
   "cell_type": "code",
   "execution_count": null,
   "metadata": {
    "execution": {
     "iopub.execute_input": "2022-04-06T13:26:01.764052Z",
     "iopub.status.busy": "2022-04-06T13:26:01.763354Z",
     "iopub.status.idle": "2022-04-06T13:26:01.79121Z",
     "shell.execute_reply": "2022-04-06T13:26:01.789722Z",
     "shell.execute_reply.started": "2022-04-06T13:26:01.764013Z"
    }
   },
   "outputs": [],
   "source": [
    "parameters_3"
   ]
  },
  {
   "cell_type": "code",
   "execution_count": null,
   "metadata": {
    "execution": {
     "iopub.execute_input": "2022-04-06T13:26:01.792873Z",
     "iopub.status.busy": "2022-04-06T13:26:01.792545Z",
     "iopub.status.idle": "2022-04-06T13:26:01.806784Z",
     "shell.execute_reply": "2022-04-06T13:26:01.805709Z",
     "shell.execute_reply.started": "2022-04-06T13:26:01.79284Z"
    }
   },
   "outputs": [],
   "source": [
    "max_ind = parameters_3[\"valid_acc\"].argmax()"
   ]
  },
  {
   "cell_type": "code",
   "execution_count": null,
   "metadata": {
    "execution": {
     "iopub.execute_input": "2022-04-06T13:26:01.816159Z",
     "iopub.status.busy": "2022-04-06T13:26:01.815816Z",
     "iopub.status.idle": "2022-04-06T13:26:01.821412Z",
     "shell.execute_reply": "2022-04-06T13:26:01.820386Z",
     "shell.execute_reply.started": "2022-04-06T13:26:01.816122Z"
    }
   },
   "outputs": [],
   "source": [
    "clf = models[max_ind]"
   ]
  },
  {
   "cell_type": "code",
   "execution_count": null,
   "metadata": {
    "execution": {
     "iopub.execute_input": "2022-04-06T13:26:01.823852Z",
     "iopub.status.busy": "2022-04-06T13:26:01.823496Z",
     "iopub.status.idle": "2022-04-06T13:26:02.531153Z",
     "shell.execute_reply": "2022-04-06T13:26:02.530464Z",
     "shell.execute_reply.started": "2022-04-06T13:26:01.823812Z"
    }
   },
   "outputs": [],
   "source": [
    "y_pred = clf.predict(X_valid)"
   ]
  },
  {
   "cell_type": "code",
   "execution_count": null,
   "metadata": {
    "execution": {
     "iopub.execute_input": "2022-04-06T13:26:02.533114Z",
     "iopub.status.busy": "2022-04-06T13:26:02.532562Z",
     "iopub.status.idle": "2022-04-06T13:26:02.540391Z",
     "shell.execute_reply": "2022-04-06T13:26:02.539775Z",
     "shell.execute_reply.started": "2022-04-06T13:26:02.53307Z"
    }
   },
   "outputs": [],
   "source": [
    "accuracy_score(y_valid, y_pred)"
   ]
  },
  {
   "cell_type": "markdown",
   "metadata": {},
   "source": [
    "# Submission"
   ]
  },
  {
   "cell_type": "code",
   "execution_count": null,
   "metadata": {},
   "outputs": [],
   "source": []
  },
  {
   "cell_type": "code",
   "execution_count": null,
   "metadata": {
    "execution": {
     "iopub.execute_input": "2022-04-06T13:26:02.542351Z",
     "iopub.status.busy": "2022-04-06T13:26:02.541513Z",
     "iopub.status.idle": "2022-04-06T13:26:02.894353Z",
     "shell.execute_reply": "2022-04-06T13:26:02.893311Z",
     "shell.execute_reply.started": "2022-04-06T13:26:02.542313Z"
    }
   },
   "outputs": [],
   "source": [
    "test_data = pd.read_csv('./kaggle/input/Kannada-MNIST/test.csv')\n",
    "#test_data = pd.read_csv('/kaggle/input/Kannada-MNIST/test.csv')"
   ]
  },
  {
   "cell_type": "code",
   "execution_count": null,
   "metadata": {
    "execution": {
     "iopub.execute_input": "2022-04-06T13:26:02.896035Z",
     "iopub.status.busy": "2022-04-06T13:26:02.895786Z",
     "iopub.status.idle": "2022-04-06T13:26:02.909843Z",
     "shell.execute_reply": "2022-04-06T13:26:02.909063Z",
     "shell.execute_reply.started": "2022-04-06T13:26:02.896006Z"
    }
   },
   "outputs": [],
   "source": [
    "ids, test_set = test_data.id, test_data.drop(['id'], axis=1)"
   ]
  },
  {
   "cell_type": "code",
   "execution_count": null,
   "metadata": {
    "execution": {
     "iopub.execute_input": "2022-04-06T13:26:02.911625Z",
     "iopub.status.busy": "2022-04-06T13:26:02.911069Z",
     "iopub.status.idle": "2022-04-06T13:26:03.124952Z",
     "shell.execute_reply": "2022-04-06T13:26:03.12404Z",
     "shell.execute_reply.started": "2022-04-06T13:26:02.911588Z"
    }
   },
   "outputs": [],
   "source": [
    "final_preds = clf.predict(test_set)"
   ]
  },
  {
   "cell_type": "code",
   "execution_count": null,
   "metadata": {
    "execution": {
     "iopub.execute_input": "2022-04-06T13:26:03.127327Z",
     "iopub.status.busy": "2022-04-06T13:26:03.126683Z",
     "iopub.status.idle": "2022-04-06T13:26:03.146385Z",
     "shell.execute_reply": "2022-04-06T13:26:03.145671Z",
     "shell.execute_reply.started": "2022-04-06T13:26:03.127281Z"
    }
   },
   "outputs": [],
   "source": [
    "pd.Series(final_preds, index=ids, name='label').to_csv('./kaggle/working/submission.csv')\n",
    "#pd.Series(final_preds, index=ids, name='label').to_csv('/kaggle/working/submission.csv')"
   ]
  }
 ],
 "metadata": {
  "kernelspec": {
   "display_name": "Python 3 (ipykernel)",
   "language": "python",
   "name": "python3"
  },
  "language_info": {
   "codemirror_mode": {
    "name": "ipython",
    "version": 3
   },
   "file_extension": ".py",
   "mimetype": "text/x-python",
   "name": "python",
   "nbconvert_exporter": "python",
   "pygments_lexer": "ipython3",
   "version": "3.9.7"
  }
 },
 "nbformat": 4,
 "nbformat_minor": 4
}
