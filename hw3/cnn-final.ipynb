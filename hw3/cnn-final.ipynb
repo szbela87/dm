{
 "cells": [
  {
   "cell_type": "code",
   "execution_count": 1,
   "id": "f4905223",
   "metadata": {
    "_cell_guid": "b1076dfc-b9ad-4769-8c92-a6c4dae69d19",
    "_uuid": "8f2839f25d086af736a60e9eeb907d3b93b6e0e5",
    "execution": {
     "iopub.execute_input": "2022-04-05T11:37:43.407318Z",
     "iopub.status.busy": "2022-04-05T11:37:43.405823Z",
     "iopub.status.idle": "2022-04-05T11:37:43.417836Z",
     "shell.execute_reply": "2022-04-05T11:37:43.418235Z",
     "shell.execute_reply.started": "2022-04-05T09:59:47.401439Z"
    },
    "papermill": {
     "duration": 0.059862,
     "end_time": "2022-04-05T11:37:43.418453",
     "exception": false,
     "start_time": "2022-04-05T11:37:43.358591",
     "status": "completed"
    },
    "tags": []
   },
   "outputs": [
    {
     "name": "stdout",
     "output_type": "stream",
     "text": [
      "/kaggle/input/Kannada-MNIST/sample_submission.csv\n",
      "/kaggle/input/Kannada-MNIST/Dig-MNIST.csv\n",
      "/kaggle/input/Kannada-MNIST/train.csv\n",
      "/kaggle/input/Kannada-MNIST/test.csv\n"
     ]
    }
   ],
   "source": [
    "# This Python 3 environment comes with many helpful analytics libraries installed\n",
    "# It is defined by the kaggle/python Docker image: https://github.com/kaggle/docker-python\n",
    "# For example, here's several helpful packages to load\n",
    "\n",
    "import numpy as np # linear algebra\n",
    "import pandas as pd # data processing, CSV file I/O (e.g. pd.read_csv)\n",
    "\n",
    "# Input data files are available in the read-only \"../input/\" directory\n",
    "# For example, running this (by clicking run or pressing Shift+Enter) will list all files under the input directory\n",
    "\n",
    "import os\n",
    "for dirname, _, filenames in os.walk('/kaggle/input'):\n",
    "#for dirname, _, filenames in os.walk('/kaggle/input'):\n",
    "    for filename in filenames:\n",
    "        print(os.path.join(dirname, filename))\n",
    "\n",
    "# You can write up to 20GB to the current directory (/kaggle/working/) that gets preserved as output when you create a version using \"Save & Run All\" \n",
    "# You can also write temporary files to /kaggle/temp/, but they won't be saved outside of the current session"
   ]
  },
  {
   "cell_type": "markdown",
   "id": "e5b7be28",
   "metadata": {
    "papermill": {
     "duration": 0.039355,
     "end_time": "2022-04-05T11:37:43.500608",
     "exception": false,
     "start_time": "2022-04-05T11:37:43.461253",
     "status": "completed"
    },
    "tags": []
   },
   "source": [
    "# Imports - loading the data\n",
    "\n",
    "I used this notebook:\n",
    "https://www.kaggle.com/code/gabmars/pytorch-lenet5"
   ]
  },
  {
   "cell_type": "code",
   "execution_count": 2,
   "id": "7f7c9107",
   "metadata": {
    "execution": {
     "iopub.execute_input": "2022-04-05T11:37:43.588796Z",
     "iopub.status.busy": "2022-04-05T11:37:43.588079Z",
     "iopub.status.idle": "2022-04-05T11:37:46.941106Z",
     "shell.execute_reply": "2022-04-05T11:37:46.941520Z",
     "shell.execute_reply.started": "2022-04-05T09:59:47.435484Z"
    },
    "papermill": {
     "duration": 3.399808,
     "end_time": "2022-04-05T11:37:46.941675",
     "exception": false,
     "start_time": "2022-04-05T11:37:43.541867",
     "status": "completed"
    },
    "tags": []
   },
   "outputs": [
    {
     "name": "stdout",
     "output_type": "stream",
     "text": [
      "cuda:0\n"
     ]
    }
   ],
   "source": [
    "import torch\n",
    "import torch.nn as nn\n",
    "from torch import optim\n",
    "import torch.nn.functional as F\n",
    "import torchvision\n",
    "from torchvision import transforms\n",
    "from torch.utils.data import DataLoader\n",
    "import torchmetrics\n",
    "#from torchsummary import summary\n",
    "\n",
    "import matplotlib.pyplot as plt\n",
    "import numpy as np\n",
    "import pandas as pd\n",
    "from sklearn.model_selection import train_test_split\n",
    "\n",
    "%matplotlib inline\n",
    "\n",
    "device = torch.device(\"cuda:0\" if torch.cuda.is_available() else \"cpu\")\n",
    "print(device) # Might as well find out! "
   ]
  },
  {
   "cell_type": "code",
   "execution_count": 3,
   "id": "453bf27d",
   "metadata": {
    "execution": {
     "iopub.execute_input": "2022-04-05T11:37:47.027666Z",
     "iopub.status.busy": "2022-04-05T11:37:47.027091Z",
     "iopub.status.idle": "2022-04-05T11:37:50.893879Z",
     "shell.execute_reply": "2022-04-05T11:37:50.893328Z",
     "shell.execute_reply.started": "2022-04-05T09:59:47.474456Z"
    },
    "papermill": {
     "duration": 3.911936,
     "end_time": "2022-04-05T11:37:50.894008",
     "exception": false,
     "start_time": "2022-04-05T11:37:46.982072",
     "status": "completed"
    },
    "tags": []
   },
   "outputs": [],
   "source": [
    "train_data = pd.read_csv('/kaggle/input/Kannada-MNIST/train.csv')"
   ]
  },
  {
   "cell_type": "code",
   "execution_count": 4,
   "id": "476ed92b",
   "metadata": {
    "execution": {
     "iopub.execute_input": "2022-04-05T11:37:50.977682Z",
     "iopub.status.busy": "2022-04-05T11:37:50.977093Z",
     "iopub.status.idle": "2022-04-05T11:37:51.603635Z",
     "shell.execute_reply": "2022-04-05T11:37:51.602616Z",
     "shell.execute_reply.started": "2022-04-05T09:59:50.951881Z"
    },
    "papermill": {
     "duration": 0.669628,
     "end_time": "2022-04-05T11:37:51.603805",
     "exception": false,
     "start_time": "2022-04-05T11:37:50.934177",
     "status": "completed"
    },
    "tags": []
   },
   "outputs": [],
   "source": [
    "valid_data = pd.read_csv('/kaggle/input/Kannada-MNIST/Dig-MNIST.csv')"
   ]
  },
  {
   "cell_type": "code",
   "execution_count": 5,
   "id": "1b06abc2",
   "metadata": {
    "execution": {
     "iopub.execute_input": "2022-04-05T11:37:51.689809Z",
     "iopub.status.busy": "2022-04-05T11:37:51.689082Z",
     "iopub.status.idle": "2022-04-05T11:37:51.692117Z",
     "shell.execute_reply": "2022-04-05T11:37:51.692551Z",
     "shell.execute_reply.started": "2022-04-05T09:59:51.522516Z"
    },
    "papermill": {
     "duration": 0.048417,
     "end_time": "2022-04-05T11:37:51.692691",
     "exception": false,
     "start_time": "2022-04-05T11:37:51.644274",
     "status": "completed"
    },
    "tags": []
   },
   "outputs": [
    {
     "data": {
      "text/plain": [
       "(60000, 785)"
      ]
     },
     "execution_count": 5,
     "metadata": {},
     "output_type": "execute_result"
    }
   ],
   "source": [
    "train_data.shape"
   ]
  },
  {
   "cell_type": "code",
   "execution_count": 6,
   "id": "01cce200",
   "metadata": {
    "execution": {
     "iopub.execute_input": "2022-04-05T11:37:51.778674Z",
     "iopub.status.busy": "2022-04-05T11:37:51.777991Z",
     "iopub.status.idle": "2022-04-05T11:37:51.793936Z",
     "shell.execute_reply": "2022-04-05T11:37:51.794355Z",
     "shell.execute_reply.started": "2022-04-05T09:59:51.529957Z"
    },
    "papermill": {
     "duration": 0.062455,
     "end_time": "2022-04-05T11:37:51.794479",
     "exception": false,
     "start_time": "2022-04-05T11:37:51.732024",
     "status": "completed"
    },
    "tags": []
   },
   "outputs": [
    {
     "data": {
      "text/html": [
       "<div>\n",
       "<style scoped>\n",
       "    .dataframe tbody tr th:only-of-type {\n",
       "        vertical-align: middle;\n",
       "    }\n",
       "\n",
       "    .dataframe tbody tr th {\n",
       "        vertical-align: top;\n",
       "    }\n",
       "\n",
       "    .dataframe thead th {\n",
       "        text-align: right;\n",
       "    }\n",
       "</style>\n",
       "<table border=\"1\" class=\"dataframe\">\n",
       "  <thead>\n",
       "    <tr style=\"text-align: right;\">\n",
       "      <th></th>\n",
       "      <th>label</th>\n",
       "      <th>pixel0</th>\n",
       "      <th>pixel1</th>\n",
       "      <th>pixel2</th>\n",
       "      <th>pixel3</th>\n",
       "      <th>pixel4</th>\n",
       "      <th>pixel5</th>\n",
       "      <th>pixel6</th>\n",
       "      <th>pixel7</th>\n",
       "      <th>pixel8</th>\n",
       "      <th>...</th>\n",
       "      <th>pixel774</th>\n",
       "      <th>pixel775</th>\n",
       "      <th>pixel776</th>\n",
       "      <th>pixel777</th>\n",
       "      <th>pixel778</th>\n",
       "      <th>pixel779</th>\n",
       "      <th>pixel780</th>\n",
       "      <th>pixel781</th>\n",
       "      <th>pixel782</th>\n",
       "      <th>pixel783</th>\n",
       "    </tr>\n",
       "  </thead>\n",
       "  <tbody>\n",
       "    <tr>\n",
       "      <th>0</th>\n",
       "      <td>0</td>\n",
       "      <td>0</td>\n",
       "      <td>0</td>\n",
       "      <td>0</td>\n",
       "      <td>0</td>\n",
       "      <td>0</td>\n",
       "      <td>0</td>\n",
       "      <td>0</td>\n",
       "      <td>0</td>\n",
       "      <td>0</td>\n",
       "      <td>...</td>\n",
       "      <td>0</td>\n",
       "      <td>0</td>\n",
       "      <td>0</td>\n",
       "      <td>0</td>\n",
       "      <td>0</td>\n",
       "      <td>0</td>\n",
       "      <td>0</td>\n",
       "      <td>0</td>\n",
       "      <td>0</td>\n",
       "      <td>0</td>\n",
       "    </tr>\n",
       "    <tr>\n",
       "      <th>1</th>\n",
       "      <td>1</td>\n",
       "      <td>0</td>\n",
       "      <td>0</td>\n",
       "      <td>0</td>\n",
       "      <td>0</td>\n",
       "      <td>0</td>\n",
       "      <td>0</td>\n",
       "      <td>0</td>\n",
       "      <td>0</td>\n",
       "      <td>0</td>\n",
       "      <td>...</td>\n",
       "      <td>0</td>\n",
       "      <td>0</td>\n",
       "      <td>0</td>\n",
       "      <td>0</td>\n",
       "      <td>0</td>\n",
       "      <td>0</td>\n",
       "      <td>0</td>\n",
       "      <td>0</td>\n",
       "      <td>0</td>\n",
       "      <td>0</td>\n",
       "    </tr>\n",
       "    <tr>\n",
       "      <th>2</th>\n",
       "      <td>2</td>\n",
       "      <td>0</td>\n",
       "      <td>0</td>\n",
       "      <td>0</td>\n",
       "      <td>0</td>\n",
       "      <td>0</td>\n",
       "      <td>0</td>\n",
       "      <td>0</td>\n",
       "      <td>0</td>\n",
       "      <td>0</td>\n",
       "      <td>...</td>\n",
       "      <td>0</td>\n",
       "      <td>0</td>\n",
       "      <td>0</td>\n",
       "      <td>0</td>\n",
       "      <td>0</td>\n",
       "      <td>0</td>\n",
       "      <td>0</td>\n",
       "      <td>0</td>\n",
       "      <td>0</td>\n",
       "      <td>0</td>\n",
       "    </tr>\n",
       "    <tr>\n",
       "      <th>3</th>\n",
       "      <td>3</td>\n",
       "      <td>0</td>\n",
       "      <td>0</td>\n",
       "      <td>0</td>\n",
       "      <td>0</td>\n",
       "      <td>0</td>\n",
       "      <td>0</td>\n",
       "      <td>0</td>\n",
       "      <td>0</td>\n",
       "      <td>0</td>\n",
       "      <td>...</td>\n",
       "      <td>0</td>\n",
       "      <td>0</td>\n",
       "      <td>0</td>\n",
       "      <td>0</td>\n",
       "      <td>0</td>\n",
       "      <td>0</td>\n",
       "      <td>0</td>\n",
       "      <td>0</td>\n",
       "      <td>0</td>\n",
       "      <td>0</td>\n",
       "    </tr>\n",
       "    <tr>\n",
       "      <th>4</th>\n",
       "      <td>4</td>\n",
       "      <td>0</td>\n",
       "      <td>0</td>\n",
       "      <td>0</td>\n",
       "      <td>0</td>\n",
       "      <td>0</td>\n",
       "      <td>0</td>\n",
       "      <td>0</td>\n",
       "      <td>0</td>\n",
       "      <td>0</td>\n",
       "      <td>...</td>\n",
       "      <td>0</td>\n",
       "      <td>0</td>\n",
       "      <td>0</td>\n",
       "      <td>0</td>\n",
       "      <td>0</td>\n",
       "      <td>0</td>\n",
       "      <td>0</td>\n",
       "      <td>0</td>\n",
       "      <td>0</td>\n",
       "      <td>0</td>\n",
       "    </tr>\n",
       "  </tbody>\n",
       "</table>\n",
       "<p>5 rows × 785 columns</p>\n",
       "</div>"
      ],
      "text/plain": [
       "   label  pixel0  pixel1  pixel2  pixel3  pixel4  pixel5  pixel6  pixel7  \\\n",
       "0      0       0       0       0       0       0       0       0       0   \n",
       "1      1       0       0       0       0       0       0       0       0   \n",
       "2      2       0       0       0       0       0       0       0       0   \n",
       "3      3       0       0       0       0       0       0       0       0   \n",
       "4      4       0       0       0       0       0       0       0       0   \n",
       "\n",
       "   pixel8  ...  pixel774  pixel775  pixel776  pixel777  pixel778  pixel779  \\\n",
       "0       0  ...         0         0         0         0         0         0   \n",
       "1       0  ...         0         0         0         0         0         0   \n",
       "2       0  ...         0         0         0         0         0         0   \n",
       "3       0  ...         0         0         0         0         0         0   \n",
       "4       0  ...         0         0         0         0         0         0   \n",
       "\n",
       "   pixel780  pixel781  pixel782  pixel783  \n",
       "0         0         0         0         0  \n",
       "1         0         0         0         0  \n",
       "2         0         0         0         0  \n",
       "3         0         0         0         0  \n",
       "4         0         0         0         0  \n",
       "\n",
       "[5 rows x 785 columns]"
      ]
     },
     "execution_count": 6,
     "metadata": {},
     "output_type": "execute_result"
    }
   ],
   "source": [
    "train_data.head()"
   ]
  },
  {
   "cell_type": "code",
   "execution_count": 7,
   "id": "0b7f4230",
   "metadata": {
    "execution": {
     "iopub.execute_input": "2022-04-05T11:37:51.880600Z",
     "iopub.status.busy": "2022-04-05T11:37:51.879920Z",
     "iopub.status.idle": "2022-04-05T11:37:51.882480Z",
     "shell.execute_reply": "2022-04-05T11:37:51.883055Z",
     "shell.execute_reply.started": "2022-04-05T09:59:51.553718Z"
    },
    "papermill": {
     "duration": 0.04793,
     "end_time": "2022-04-05T11:37:51.883186",
     "exception": false,
     "start_time": "2022-04-05T11:37:51.835256",
     "status": "completed"
    },
    "tags": []
   },
   "outputs": [
    {
     "data": {
      "text/plain": [
       "(10240, 785)"
      ]
     },
     "execution_count": 7,
     "metadata": {},
     "output_type": "execute_result"
    }
   ],
   "source": [
    "valid_data.shape"
   ]
  },
  {
   "cell_type": "code",
   "execution_count": null,
   "id": "36a9d7e3",
   "metadata": {
    "papermill": {
     "duration": 0.040196,
     "end_time": "2022-04-05T11:37:51.963814",
     "exception": false,
     "start_time": "2022-04-05T11:37:51.923618",
     "status": "completed"
    },
    "tags": []
   },
   "outputs": [],
   "source": []
  },
  {
   "cell_type": "code",
   "execution_count": 8,
   "id": "9ba9561c",
   "metadata": {
    "execution": {
     "iopub.execute_input": "2022-04-05T11:37:52.059859Z",
     "iopub.status.busy": "2022-04-05T11:37:52.059078Z",
     "iopub.status.idle": "2022-04-05T11:37:52.061927Z",
     "shell.execute_reply": "2022-04-05T11:37:52.062419Z",
     "shell.execute_reply.started": "2022-04-05T09:59:51.562801Z"
    },
    "papermill": {
     "duration": 0.057719,
     "end_time": "2022-04-05T11:37:52.062561",
     "exception": false,
     "start_time": "2022-04-05T11:37:52.004842",
     "status": "completed"
    },
    "tags": []
   },
   "outputs": [
    {
     "data": {
      "text/html": [
       "<div>\n",
       "<style scoped>\n",
       "    .dataframe tbody tr th:only-of-type {\n",
       "        vertical-align: middle;\n",
       "    }\n",
       "\n",
       "    .dataframe tbody tr th {\n",
       "        vertical-align: top;\n",
       "    }\n",
       "\n",
       "    .dataframe thead th {\n",
       "        text-align: right;\n",
       "    }\n",
       "</style>\n",
       "<table border=\"1\" class=\"dataframe\">\n",
       "  <thead>\n",
       "    <tr style=\"text-align: right;\">\n",
       "      <th></th>\n",
       "      <th>label</th>\n",
       "      <th>pixel0</th>\n",
       "      <th>pixel1</th>\n",
       "      <th>pixel2</th>\n",
       "      <th>pixel3</th>\n",
       "      <th>pixel4</th>\n",
       "      <th>pixel5</th>\n",
       "      <th>pixel6</th>\n",
       "      <th>pixel7</th>\n",
       "      <th>pixel8</th>\n",
       "      <th>...</th>\n",
       "      <th>pixel774</th>\n",
       "      <th>pixel775</th>\n",
       "      <th>pixel776</th>\n",
       "      <th>pixel777</th>\n",
       "      <th>pixel778</th>\n",
       "      <th>pixel779</th>\n",
       "      <th>pixel780</th>\n",
       "      <th>pixel781</th>\n",
       "      <th>pixel782</th>\n",
       "      <th>pixel783</th>\n",
       "    </tr>\n",
       "  </thead>\n",
       "  <tbody>\n",
       "    <tr>\n",
       "      <th>0</th>\n",
       "      <td>0</td>\n",
       "      <td>0</td>\n",
       "      <td>0</td>\n",
       "      <td>0</td>\n",
       "      <td>0</td>\n",
       "      <td>0</td>\n",
       "      <td>0</td>\n",
       "      <td>0</td>\n",
       "      <td>0</td>\n",
       "      <td>0</td>\n",
       "      <td>...</td>\n",
       "      <td>0</td>\n",
       "      <td>0</td>\n",
       "      <td>0</td>\n",
       "      <td>0</td>\n",
       "      <td>0</td>\n",
       "      <td>0</td>\n",
       "      <td>0</td>\n",
       "      <td>0</td>\n",
       "      <td>0</td>\n",
       "      <td>0</td>\n",
       "    </tr>\n",
       "    <tr>\n",
       "      <th>1</th>\n",
       "      <td>1</td>\n",
       "      <td>0</td>\n",
       "      <td>0</td>\n",
       "      <td>0</td>\n",
       "      <td>0</td>\n",
       "      <td>0</td>\n",
       "      <td>0</td>\n",
       "      <td>0</td>\n",
       "      <td>0</td>\n",
       "      <td>0</td>\n",
       "      <td>...</td>\n",
       "      <td>0</td>\n",
       "      <td>0</td>\n",
       "      <td>0</td>\n",
       "      <td>0</td>\n",
       "      <td>0</td>\n",
       "      <td>0</td>\n",
       "      <td>0</td>\n",
       "      <td>0</td>\n",
       "      <td>0</td>\n",
       "      <td>0</td>\n",
       "    </tr>\n",
       "    <tr>\n",
       "      <th>2</th>\n",
       "      <td>2</td>\n",
       "      <td>0</td>\n",
       "      <td>0</td>\n",
       "      <td>0</td>\n",
       "      <td>0</td>\n",
       "      <td>0</td>\n",
       "      <td>0</td>\n",
       "      <td>0</td>\n",
       "      <td>0</td>\n",
       "      <td>0</td>\n",
       "      <td>...</td>\n",
       "      <td>0</td>\n",
       "      <td>0</td>\n",
       "      <td>0</td>\n",
       "      <td>0</td>\n",
       "      <td>0</td>\n",
       "      <td>0</td>\n",
       "      <td>0</td>\n",
       "      <td>0</td>\n",
       "      <td>0</td>\n",
       "      <td>0</td>\n",
       "    </tr>\n",
       "    <tr>\n",
       "      <th>3</th>\n",
       "      <td>3</td>\n",
       "      <td>0</td>\n",
       "      <td>0</td>\n",
       "      <td>0</td>\n",
       "      <td>0</td>\n",
       "      <td>0</td>\n",
       "      <td>0</td>\n",
       "      <td>0</td>\n",
       "      <td>0</td>\n",
       "      <td>0</td>\n",
       "      <td>...</td>\n",
       "      <td>0</td>\n",
       "      <td>0</td>\n",
       "      <td>0</td>\n",
       "      <td>0</td>\n",
       "      <td>0</td>\n",
       "      <td>0</td>\n",
       "      <td>0</td>\n",
       "      <td>0</td>\n",
       "      <td>0</td>\n",
       "      <td>0</td>\n",
       "    </tr>\n",
       "    <tr>\n",
       "      <th>4</th>\n",
       "      <td>4</td>\n",
       "      <td>0</td>\n",
       "      <td>0</td>\n",
       "      <td>0</td>\n",
       "      <td>0</td>\n",
       "      <td>0</td>\n",
       "      <td>0</td>\n",
       "      <td>0</td>\n",
       "      <td>0</td>\n",
       "      <td>0</td>\n",
       "      <td>...</td>\n",
       "      <td>0</td>\n",
       "      <td>0</td>\n",
       "      <td>0</td>\n",
       "      <td>0</td>\n",
       "      <td>0</td>\n",
       "      <td>0</td>\n",
       "      <td>0</td>\n",
       "      <td>0</td>\n",
       "      <td>0</td>\n",
       "      <td>0</td>\n",
       "    </tr>\n",
       "  </tbody>\n",
       "</table>\n",
       "<p>5 rows × 785 columns</p>\n",
       "</div>"
      ],
      "text/plain": [
       "   label  pixel0  pixel1  pixel2  pixel3  pixel4  pixel5  pixel6  pixel7  \\\n",
       "0      0       0       0       0       0       0       0       0       0   \n",
       "1      1       0       0       0       0       0       0       0       0   \n",
       "2      2       0       0       0       0       0       0       0       0   \n",
       "3      3       0       0       0       0       0       0       0       0   \n",
       "4      4       0       0       0       0       0       0       0       0   \n",
       "\n",
       "   pixel8  ...  pixel774  pixel775  pixel776  pixel777  pixel778  pixel779  \\\n",
       "0       0  ...         0         0         0         0         0         0   \n",
       "1       0  ...         0         0         0         0         0         0   \n",
       "2       0  ...         0         0         0         0         0         0   \n",
       "3       0  ...         0         0         0         0         0         0   \n",
       "4       0  ...         0         0         0         0         0         0   \n",
       "\n",
       "   pixel780  pixel781  pixel782  pixel783  \n",
       "0         0         0         0         0  \n",
       "1         0         0         0         0  \n",
       "2         0         0         0         0  \n",
       "3         0         0         0         0  \n",
       "4         0         0         0         0  \n",
       "\n",
       "[5 rows x 785 columns]"
      ]
     },
     "execution_count": 8,
     "metadata": {},
     "output_type": "execute_result"
    }
   ],
   "source": [
    "train_data.head()"
   ]
  },
  {
   "cell_type": "code",
   "execution_count": 9,
   "id": "9014117b",
   "metadata": {
    "execution": {
     "iopub.execute_input": "2022-04-05T11:37:52.279789Z",
     "iopub.status.busy": "2022-04-05T11:37:52.262893Z",
     "iopub.status.idle": "2022-04-05T11:37:52.282238Z",
     "shell.execute_reply": "2022-04-05T11:37:52.281832Z",
     "shell.execute_reply.started": "2022-04-05T09:59:51.580848Z"
    },
    "papermill": {
     "duration": 0.178797,
     "end_time": "2022-04-05T11:37:52.282401",
     "exception": false,
     "start_time": "2022-04-05T11:37:52.103604",
     "status": "completed"
    },
    "tags": []
   },
   "outputs": [],
   "source": [
    "# split the data into features and target label\n",
    "X, y = (train_data.drop(['label'], axis=1), train_data.label)\n",
    "X_valid, y_valid = (valid_data.drop(['label'], axis=1), valid_data.label)"
   ]
  },
  {
   "cell_type": "code",
   "execution_count": 10,
   "id": "064e12c9",
   "metadata": {
    "execution": {
     "iopub.execute_input": "2022-04-05T11:37:52.371697Z",
     "iopub.status.busy": "2022-04-05T11:37:52.370960Z",
     "iopub.status.idle": "2022-04-05T11:37:52.372912Z",
     "shell.execute_reply": "2022-04-05T11:37:52.373443Z",
     "shell.execute_reply.started": "2022-04-05T09:59:51.709863Z"
    },
    "papermill": {
     "duration": 0.049651,
     "end_time": "2022-04-05T11:37:52.373590",
     "exception": false,
     "start_time": "2022-04-05T11:37:52.323939",
     "status": "completed"
    },
    "tags": []
   },
   "outputs": [],
   "source": [
    "class KannadaDataSet(torch.utils.data.Dataset):\n",
    "    def __init__(self, images, labels, transforms = None):\n",
    "        self.images = images\n",
    "        self.labels = labels\n",
    "        self.transforms = transforms\n",
    "         \n",
    "    def __len__(self):\n",
    "        return self.images.shape[0]\n",
    "    \n",
    "    def __getitem__(self, i):\n",
    "        data = np.array(self.images.iloc[i,:]).astype(np.uint8).reshape(28,28,1)\n",
    "        \n",
    "        if self.transforms:\n",
    "            data = self.transforms(data)\n",
    "            \n",
    "        return (data, self.labels[i])"
   ]
  },
  {
   "cell_type": "code",
   "execution_count": 11,
   "id": "4a429cc8",
   "metadata": {
    "execution": {
     "iopub.execute_input": "2022-04-05T11:37:52.468980Z",
     "iopub.status.busy": "2022-04-05T11:37:52.468252Z",
     "iopub.status.idle": "2022-04-05T11:37:52.470797Z",
     "shell.execute_reply": "2022-04-05T11:37:52.470375Z",
     "shell.execute_reply.started": "2022-04-05T09:59:51.718446Z"
    },
    "papermill": {
     "duration": 0.047035,
     "end_time": "2022-04-05T11:37:52.470896",
     "exception": false,
     "start_time": "2022-04-05T11:37:52.423861",
     "status": "completed"
    },
    "tags": []
   },
   "outputs": [],
   "source": [
    "transform = transforms.Compose(([\n",
    "    transforms.ToTensor(),\n",
    "]))"
   ]
  },
  {
   "cell_type": "code",
   "execution_count": 12,
   "id": "1c401efd",
   "metadata": {
    "execution": {
     "iopub.execute_input": "2022-04-05T11:37:52.558327Z",
     "iopub.status.busy": "2022-04-05T11:37:52.557823Z",
     "iopub.status.idle": "2022-04-05T11:37:52.561785Z",
     "shell.execute_reply": "2022-04-05T11:37:52.562145Z",
     "shell.execute_reply.started": "2022-04-05T09:59:51.729711Z"
    },
    "papermill": {
     "duration": 0.049858,
     "end_time": "2022-04-05T11:37:52.562262",
     "exception": false,
     "start_time": "2022-04-05T11:37:52.512404",
     "status": "completed"
    },
    "tags": []
   },
   "outputs": [
    {
     "data": {
      "text/plain": [
       "((60000, 784), (60000,), pandas.core.frame.DataFrame)"
      ]
     },
     "execution_count": 12,
     "metadata": {},
     "output_type": "execute_result"
    }
   ],
   "source": [
    "X.shape, y.shape, type(X)"
   ]
  },
  {
   "cell_type": "code",
   "execution_count": 13,
   "id": "28973385",
   "metadata": {
    "execution": {
     "iopub.execute_input": "2022-04-05T11:37:52.649964Z",
     "iopub.status.busy": "2022-04-05T11:37:52.649204Z",
     "iopub.status.idle": "2022-04-05T11:37:52.664739Z",
     "shell.execute_reply": "2022-04-05T11:37:52.665128Z",
     "shell.execute_reply.started": "2022-04-05T09:59:51.738587Z"
    },
    "papermill": {
     "duration": 0.061402,
     "end_time": "2022-04-05T11:37:52.665239",
     "exception": false,
     "start_time": "2022-04-05T11:37:52.603837",
     "status": "completed"
    },
    "tags": []
   },
   "outputs": [
    {
     "data": {
      "text/html": [
       "<div>\n",
       "<style scoped>\n",
       "    .dataframe tbody tr th:only-of-type {\n",
       "        vertical-align: middle;\n",
       "    }\n",
       "\n",
       "    .dataframe tbody tr th {\n",
       "        vertical-align: top;\n",
       "    }\n",
       "\n",
       "    .dataframe thead th {\n",
       "        text-align: right;\n",
       "    }\n",
       "</style>\n",
       "<table border=\"1\" class=\"dataframe\">\n",
       "  <thead>\n",
       "    <tr style=\"text-align: right;\">\n",
       "      <th></th>\n",
       "      <th>pixel0</th>\n",
       "      <th>pixel1</th>\n",
       "      <th>pixel2</th>\n",
       "      <th>pixel3</th>\n",
       "      <th>pixel4</th>\n",
       "      <th>pixel5</th>\n",
       "      <th>pixel6</th>\n",
       "      <th>pixel7</th>\n",
       "      <th>pixel8</th>\n",
       "      <th>pixel9</th>\n",
       "      <th>...</th>\n",
       "      <th>pixel774</th>\n",
       "      <th>pixel775</th>\n",
       "      <th>pixel776</th>\n",
       "      <th>pixel777</th>\n",
       "      <th>pixel778</th>\n",
       "      <th>pixel779</th>\n",
       "      <th>pixel780</th>\n",
       "      <th>pixel781</th>\n",
       "      <th>pixel782</th>\n",
       "      <th>pixel783</th>\n",
       "    </tr>\n",
       "  </thead>\n",
       "  <tbody>\n",
       "    <tr>\n",
       "      <th>1000</th>\n",
       "      <td>0</td>\n",
       "      <td>0</td>\n",
       "      <td>0</td>\n",
       "      <td>0</td>\n",
       "      <td>0</td>\n",
       "      <td>0</td>\n",
       "      <td>0</td>\n",
       "      <td>0</td>\n",
       "      <td>0</td>\n",
       "      <td>0</td>\n",
       "      <td>...</td>\n",
       "      <td>0</td>\n",
       "      <td>0</td>\n",
       "      <td>0</td>\n",
       "      <td>0</td>\n",
       "      <td>0</td>\n",
       "      <td>0</td>\n",
       "      <td>0</td>\n",
       "      <td>0</td>\n",
       "      <td>0</td>\n",
       "      <td>0</td>\n",
       "    </tr>\n",
       "    <tr>\n",
       "      <th>1001</th>\n",
       "      <td>0</td>\n",
       "      <td>0</td>\n",
       "      <td>0</td>\n",
       "      <td>0</td>\n",
       "      <td>0</td>\n",
       "      <td>0</td>\n",
       "      <td>0</td>\n",
       "      <td>0</td>\n",
       "      <td>0</td>\n",
       "      <td>0</td>\n",
       "      <td>...</td>\n",
       "      <td>0</td>\n",
       "      <td>0</td>\n",
       "      <td>0</td>\n",
       "      <td>0</td>\n",
       "      <td>0</td>\n",
       "      <td>0</td>\n",
       "      <td>0</td>\n",
       "      <td>0</td>\n",
       "      <td>0</td>\n",
       "      <td>0</td>\n",
       "    </tr>\n",
       "    <tr>\n",
       "      <th>1002</th>\n",
       "      <td>0</td>\n",
       "      <td>0</td>\n",
       "      <td>0</td>\n",
       "      <td>0</td>\n",
       "      <td>0</td>\n",
       "      <td>0</td>\n",
       "      <td>0</td>\n",
       "      <td>0</td>\n",
       "      <td>0</td>\n",
       "      <td>0</td>\n",
       "      <td>...</td>\n",
       "      <td>0</td>\n",
       "      <td>0</td>\n",
       "      <td>0</td>\n",
       "      <td>0</td>\n",
       "      <td>0</td>\n",
       "      <td>0</td>\n",
       "      <td>0</td>\n",
       "      <td>0</td>\n",
       "      <td>0</td>\n",
       "      <td>0</td>\n",
       "    </tr>\n",
       "    <tr>\n",
       "      <th>1003</th>\n",
       "      <td>0</td>\n",
       "      <td>0</td>\n",
       "      <td>0</td>\n",
       "      <td>0</td>\n",
       "      <td>0</td>\n",
       "      <td>0</td>\n",
       "      <td>0</td>\n",
       "      <td>0</td>\n",
       "      <td>0</td>\n",
       "      <td>0</td>\n",
       "      <td>...</td>\n",
       "      <td>0</td>\n",
       "      <td>0</td>\n",
       "      <td>0</td>\n",
       "      <td>0</td>\n",
       "      <td>0</td>\n",
       "      <td>0</td>\n",
       "      <td>0</td>\n",
       "      <td>0</td>\n",
       "      <td>0</td>\n",
       "      <td>0</td>\n",
       "    </tr>\n",
       "    <tr>\n",
       "      <th>1004</th>\n",
       "      <td>0</td>\n",
       "      <td>0</td>\n",
       "      <td>0</td>\n",
       "      <td>0</td>\n",
       "      <td>0</td>\n",
       "      <td>0</td>\n",
       "      <td>0</td>\n",
       "      <td>0</td>\n",
       "      <td>0</td>\n",
       "      <td>0</td>\n",
       "      <td>...</td>\n",
       "      <td>0</td>\n",
       "      <td>0</td>\n",
       "      <td>0</td>\n",
       "      <td>0</td>\n",
       "      <td>0</td>\n",
       "      <td>0</td>\n",
       "      <td>0</td>\n",
       "      <td>0</td>\n",
       "      <td>0</td>\n",
       "      <td>0</td>\n",
       "    </tr>\n",
       "    <tr>\n",
       "      <th>...</th>\n",
       "      <td>...</td>\n",
       "      <td>...</td>\n",
       "      <td>...</td>\n",
       "      <td>...</td>\n",
       "      <td>...</td>\n",
       "      <td>...</td>\n",
       "      <td>...</td>\n",
       "      <td>...</td>\n",
       "      <td>...</td>\n",
       "      <td>...</td>\n",
       "      <td>...</td>\n",
       "      <td>...</td>\n",
       "      <td>...</td>\n",
       "      <td>...</td>\n",
       "      <td>...</td>\n",
       "      <td>...</td>\n",
       "      <td>...</td>\n",
       "      <td>...</td>\n",
       "      <td>...</td>\n",
       "      <td>...</td>\n",
       "      <td>...</td>\n",
       "    </tr>\n",
       "    <tr>\n",
       "      <th>1995</th>\n",
       "      <td>0</td>\n",
       "      <td>0</td>\n",
       "      <td>0</td>\n",
       "      <td>0</td>\n",
       "      <td>0</td>\n",
       "      <td>0</td>\n",
       "      <td>0</td>\n",
       "      <td>0</td>\n",
       "      <td>0</td>\n",
       "      <td>0</td>\n",
       "      <td>...</td>\n",
       "      <td>0</td>\n",
       "      <td>0</td>\n",
       "      <td>0</td>\n",
       "      <td>0</td>\n",
       "      <td>0</td>\n",
       "      <td>0</td>\n",
       "      <td>0</td>\n",
       "      <td>0</td>\n",
       "      <td>0</td>\n",
       "      <td>0</td>\n",
       "    </tr>\n",
       "    <tr>\n",
       "      <th>1996</th>\n",
       "      <td>0</td>\n",
       "      <td>0</td>\n",
       "      <td>0</td>\n",
       "      <td>0</td>\n",
       "      <td>0</td>\n",
       "      <td>0</td>\n",
       "      <td>0</td>\n",
       "      <td>0</td>\n",
       "      <td>0</td>\n",
       "      <td>0</td>\n",
       "      <td>...</td>\n",
       "      <td>0</td>\n",
       "      <td>0</td>\n",
       "      <td>0</td>\n",
       "      <td>0</td>\n",
       "      <td>0</td>\n",
       "      <td>0</td>\n",
       "      <td>0</td>\n",
       "      <td>0</td>\n",
       "      <td>0</td>\n",
       "      <td>0</td>\n",
       "    </tr>\n",
       "    <tr>\n",
       "      <th>1997</th>\n",
       "      <td>0</td>\n",
       "      <td>0</td>\n",
       "      <td>0</td>\n",
       "      <td>0</td>\n",
       "      <td>0</td>\n",
       "      <td>0</td>\n",
       "      <td>0</td>\n",
       "      <td>0</td>\n",
       "      <td>0</td>\n",
       "      <td>0</td>\n",
       "      <td>...</td>\n",
       "      <td>0</td>\n",
       "      <td>0</td>\n",
       "      <td>0</td>\n",
       "      <td>0</td>\n",
       "      <td>0</td>\n",
       "      <td>0</td>\n",
       "      <td>0</td>\n",
       "      <td>0</td>\n",
       "      <td>0</td>\n",
       "      <td>0</td>\n",
       "    </tr>\n",
       "    <tr>\n",
       "      <th>1998</th>\n",
       "      <td>0</td>\n",
       "      <td>0</td>\n",
       "      <td>0</td>\n",
       "      <td>0</td>\n",
       "      <td>0</td>\n",
       "      <td>0</td>\n",
       "      <td>0</td>\n",
       "      <td>0</td>\n",
       "      <td>0</td>\n",
       "      <td>0</td>\n",
       "      <td>...</td>\n",
       "      <td>0</td>\n",
       "      <td>0</td>\n",
       "      <td>0</td>\n",
       "      <td>0</td>\n",
       "      <td>0</td>\n",
       "      <td>0</td>\n",
       "      <td>0</td>\n",
       "      <td>0</td>\n",
       "      <td>0</td>\n",
       "      <td>0</td>\n",
       "    </tr>\n",
       "    <tr>\n",
       "      <th>1999</th>\n",
       "      <td>0</td>\n",
       "      <td>0</td>\n",
       "      <td>0</td>\n",
       "      <td>0</td>\n",
       "      <td>0</td>\n",
       "      <td>0</td>\n",
       "      <td>0</td>\n",
       "      <td>0</td>\n",
       "      <td>0</td>\n",
       "      <td>0</td>\n",
       "      <td>...</td>\n",
       "      <td>0</td>\n",
       "      <td>0</td>\n",
       "      <td>0</td>\n",
       "      <td>0</td>\n",
       "      <td>0</td>\n",
       "      <td>0</td>\n",
       "      <td>0</td>\n",
       "      <td>0</td>\n",
       "      <td>0</td>\n",
       "      <td>0</td>\n",
       "    </tr>\n",
       "  </tbody>\n",
       "</table>\n",
       "<p>1000 rows × 784 columns</p>\n",
       "</div>"
      ],
      "text/plain": [
       "      pixel0  pixel1  pixel2  pixel3  pixel4  pixel5  pixel6  pixel7  pixel8  \\\n",
       "1000       0       0       0       0       0       0       0       0       0   \n",
       "1001       0       0       0       0       0       0       0       0       0   \n",
       "1002       0       0       0       0       0       0       0       0       0   \n",
       "1003       0       0       0       0       0       0       0       0       0   \n",
       "1004       0       0       0       0       0       0       0       0       0   \n",
       "...      ...     ...     ...     ...     ...     ...     ...     ...     ...   \n",
       "1995       0       0       0       0       0       0       0       0       0   \n",
       "1996       0       0       0       0       0       0       0       0       0   \n",
       "1997       0       0       0       0       0       0       0       0       0   \n",
       "1998       0       0       0       0       0       0       0       0       0   \n",
       "1999       0       0       0       0       0       0       0       0       0   \n",
       "\n",
       "      pixel9  ...  pixel774  pixel775  pixel776  pixel777  pixel778  pixel779  \\\n",
       "1000       0  ...         0         0         0         0         0         0   \n",
       "1001       0  ...         0         0         0         0         0         0   \n",
       "1002       0  ...         0         0         0         0         0         0   \n",
       "1003       0  ...         0         0         0         0         0         0   \n",
       "1004       0  ...         0         0         0         0         0         0   \n",
       "...      ...  ...       ...       ...       ...       ...       ...       ...   \n",
       "1995       0  ...         0         0         0         0         0         0   \n",
       "1996       0  ...         0         0         0         0         0         0   \n",
       "1997       0  ...         0         0         0         0         0         0   \n",
       "1998       0  ...         0         0         0         0         0         0   \n",
       "1999       0  ...         0         0         0         0         0         0   \n",
       "\n",
       "      pixel780  pixel781  pixel782  pixel783  \n",
       "1000         0         0         0         0  \n",
       "1001         0         0         0         0  \n",
       "1002         0         0         0         0  \n",
       "1003         0         0         0         0  \n",
       "1004         0         0         0         0  \n",
       "...        ...       ...       ...       ...  \n",
       "1995         0         0         0         0  \n",
       "1996         0         0         0         0  \n",
       "1997         0         0         0         0  \n",
       "1998         0         0         0         0  \n",
       "1999         0         0         0         0  \n",
       "\n",
       "[1000 rows x 784 columns]"
      ]
     },
     "execution_count": 13,
     "metadata": {},
     "output_type": "execute_result"
    }
   ],
   "source": [
    "X[1000:2000]"
   ]
  },
  {
   "cell_type": "code",
   "execution_count": 14,
   "id": "de5d1dc2",
   "metadata": {
    "execution": {
     "iopub.execute_input": "2022-04-05T11:37:52.754998Z",
     "iopub.status.busy": "2022-04-05T11:37:52.753320Z",
     "iopub.status.idle": "2022-04-05T11:37:52.755633Z",
     "shell.execute_reply": "2022-04-05T11:37:52.756058Z",
     "shell.execute_reply.started": "2022-04-05T09:59:51.762833Z"
    },
    "papermill": {
     "duration": 0.048838,
     "end_time": "2022-04-05T11:37:52.756168",
     "exception": false,
     "start_time": "2022-04-05T11:37:52.707330",
     "status": "completed"
    },
    "tags": []
   },
   "outputs": [],
   "source": [
    "train_set = KannadaDataSet(X, y, transform)\n",
    "valid_set = KannadaDataSet(X_valid, y_valid, transform)"
   ]
  },
  {
   "cell_type": "code",
   "execution_count": null,
   "id": "55177184",
   "metadata": {
    "papermill": {
     "duration": 0.04199,
     "end_time": "2022-04-05T11:37:52.840870",
     "exception": false,
     "start_time": "2022-04-05T11:37:52.798880",
     "status": "completed"
    },
    "tags": []
   },
   "outputs": [],
   "source": []
  },
  {
   "cell_type": "code",
   "execution_count": 15,
   "id": "ac7bea9a",
   "metadata": {
    "execution": {
     "iopub.execute_input": "2022-04-05T11:37:52.931849Z",
     "iopub.status.busy": "2022-04-05T11:37:52.931196Z",
     "iopub.status.idle": "2022-04-05T11:37:52.936640Z",
     "shell.execute_reply": "2022-04-05T11:37:52.936143Z",
     "shell.execute_reply.started": "2022-04-05T09:59:51.768628Z"
    },
    "papermill": {
     "duration": 0.053358,
     "end_time": "2022-04-05T11:37:52.936747",
     "exception": false,
     "start_time": "2022-04-05T11:37:52.883389",
     "status": "completed"
    },
    "tags": []
   },
   "outputs": [],
   "source": [
    "torch.manual_seed(43)\n",
    "train_loader = torch.utils.data.DataLoader(train_set, \n",
    "                                           batch_size=100, \n",
    "                                           shuffle=True)\n",
    "\n",
    "valid_loader = torch.utils.data.DataLoader(valid_set,\n",
    "                                          batch_size=100, \n",
    "                                          shuffle=False)\n",
    "\n",
    "classes = ('0', '1', '2', '3', '4', '5', '6', '7', '8', '9')"
   ]
  },
  {
   "cell_type": "code",
   "execution_count": 16,
   "id": "f6f26ed1",
   "metadata": {
    "execution": {
     "iopub.execute_input": "2022-04-05T11:37:53.027536Z",
     "iopub.status.busy": "2022-04-05T11:37:53.027026Z",
     "iopub.status.idle": "2022-04-05T11:37:53.351834Z",
     "shell.execute_reply": "2022-04-05T11:37:53.352234Z",
     "shell.execute_reply.started": "2022-04-05T09:59:51.777311Z"
    },
    "papermill": {
     "duration": 0.373368,
     "end_time": "2022-04-05T11:37:53.352389",
     "exception": false,
     "start_time": "2022-04-05T11:37:52.979021",
     "status": "completed"
    },
    "tags": []
   },
   "outputs": [
    {
     "name": "stdout",
     "output_type": "stream",
     "text": [
      "tensor([3, 1, 6, 5, 4, 7, 9, 6, 6, 3, 8, 1, 0, 4, 1, 6, 8, 2, 3, 4, 8, 6, 6, 9,\n",
      "        2, 9, 9, 6, 3, 5, 2, 9, 7, 5, 1, 3, 7, 7, 4, 2, 3, 5, 0, 0, 3, 9, 4, 4,\n",
      "        7, 9, 8, 0, 8, 5, 2, 0, 0, 3, 5, 4, 5, 8, 7, 2, 9, 3, 2, 3, 4, 3, 8, 9,\n",
      "        6, 1, 3, 3, 1, 4, 7, 0, 9, 3, 2, 0, 4, 2, 9, 6, 9, 1, 8, 3, 4, 2, 0, 8,\n",
      "        0, 1, 3, 9])\n"
     ]
    },
    {
     "data": {
      "text/plain": [
       "tensor(1.)"
      ]
     },
     "execution_count": 16,
     "metadata": {},
     "output_type": "execute_result"
    },
    {
     "data": {
      "image/png": "[encoded data removed]",
      "text/plain": [
       "<Figure size 432x288 with 1 Axes>"
      ]
     },
     "metadata": {
      "needs_background": "light"
     },
     "output_type": "display_data"
    }
   ],
   "source": [
    "images, labels = next(iter(train_loader))\n",
    "plt.imshow(torchvision.utils.make_grid(images)[0,:,:], cmap='gray')\n",
    "print(labels)\n",
    "images[0,:,:].max()"
   ]
  },
  {
   "cell_type": "markdown",
   "id": "2b1acf8a",
   "metadata": {
    "papermill": {
     "duration": 0.045338,
     "end_time": "2022-04-05T11:37:53.442416",
     "exception": false,
     "start_time": "2022-04-05T11:37:53.397078",
     "status": "completed"
    },
    "tags": []
   },
   "source": [
    "# Helper functions"
   ]
  },
  {
   "cell_type": "code",
   "execution_count": 17,
   "id": "ebaba29d",
   "metadata": {
    "execution": {
     "iopub.execute_input": "2022-04-05T11:37:53.547364Z",
     "iopub.status.busy": "2022-04-05T11:37:53.546595Z",
     "iopub.status.idle": "2022-04-05T11:37:53.548580Z",
     "shell.execute_reply": "2022-04-05T11:37:53.548949Z",
     "shell.execute_reply.started": "2022-04-05T09:59:51.993279Z"
    },
    "papermill": {
     "duration": 0.061454,
     "end_time": "2022-04-05T11:37:53.549075",
     "exception": false,
     "start_time": "2022-04-05T11:37:53.487621",
     "status": "completed"
    },
    "tags": []
   },
   "outputs": [],
   "source": [
    "import time\n",
    "def train(train_loader,valid_loader,model,optimizer,criterion,num_epochs=10,lr_scheduler=None):\n",
    "    \"\"\"\n",
    "    Function for training\n",
    "    \n",
    "    train_loader : training dataset loader\n",
    "    valid_loader : validation dataset loader\n",
    "    optimizer : optimizer algorithm\n",
    "    criterion : loss function\n",
    "    num_epochs : number of epochs\n",
    "    \n",
    "    The function returns (train_loss_list, train_acc_list, valid_loss_list, valid_acc_list), where\n",
    "    train_loss_list : average loss on mini-batches in the training set\n",
    "    train_acc_list : training accuracy\n",
    "    valid_loss_list : average loss on mini-batches in the validation set\n",
    "    valid_acc_list : average validation accuracy\n",
    "    \"\"\"\n",
    "    \n",
    "    train_loss_list = []\n",
    "    valid_loss_list = []\n",
    "    \n",
    "    train_acc_list = []\n",
    "    valid_acc_list = []\n",
    "    \n",
    "\n",
    "    epoch = 0\n",
    "    start = time.time()\n",
    "    \n",
    "    while epoch < num_epochs:\n",
    "        epoch+=1\n",
    "            \n",
    "        train_loss_temp = []\n",
    "        train_acc_temp = 0.0\n",
    "        train_total_samples = 0\n",
    "    \n",
    "        # training phase\n",
    "        for i, data in enumerate(train_loader, 0):\n",
    "\n",
    "            inputs, labels = data[0].to(device), data[1].to(device)\n",
    "\n",
    "            optimizer.zero_grad()\n",
    "\n",
    "            outputs = model(inputs)\n",
    "            loss = criterion(outputs, labels)\n",
    "            loss.backward()\n",
    "            optimizer.step()\n",
    "\n",
    "            # training loss\n",
    "            train_loss_temp.append(loss.item())\n",
    "        \n",
    "            # training accuracy\n",
    "            _, predicted = torch.max(outputs.data, 1)\n",
    "            train_acc_temp += (predicted == labels).sum().item()\n",
    "            train_total_samples += labels.size(0)\n",
    "        \n",
    "        train_loss_list.append(np.mean(train_loss_temp))\n",
    "        train_acc_list.append(train_acc_temp/train_total_samples)\n",
    "    \n",
    "        # validation set\n",
    "        with torch.no_grad():\n",
    "            valid_loss_temp = []\n",
    "            valid_acc_temp = 0.0\n",
    "            valid_total_samples = 0\n",
    "            model.eval()\n",
    "        \n",
    "            for v_i, v_data in enumerate(valid_loader,0):\n",
    "                v_inputs, v_labels = v_data[0].to(device), v_data[1].to(device)\n",
    "                v_outputs = model(v_inputs)\n",
    "                v_loss = criterion(v_outputs,v_labels)\n",
    "            \n",
    "                valid_loss_temp.append(v_loss.item())\n",
    "                _, predicted = torch.max(v_outputs.data,1)\n",
    "                \n",
    "            \n",
    "                valid_total_samples += v_labels.size(0)\n",
    "                valid_acc_temp += (predicted == v_labels).sum().item()\n",
    "            \n",
    "            valid_loss_list.append(np.mean(valid_loss_temp))\n",
    "            valid_acc_list.append(valid_acc_temp/valid_total_samples)\n",
    "            \n",
    "       \n",
    "\n",
    "        model.train()   \n",
    "        \n",
    "        # Scheduler\n",
    "        if lr_scheduler:\n",
    "            lr_scheduler.step()\n",
    "            \n",
    "        end = time.time()\n",
    "    \n",
    "        # Displaying the results\n",
    "        print(f\"[{epoch}/{num_epochs}] | TE: {train_loss_list[-1]:.6f} TA: {train_acc_list[-1]:.6f} | VE {valid_loss_list[-1]:.6f} VA: {valid_acc_list[-1]:.6f} | ET: {end-start:.2f}s\")\n",
    "\n",
    "    result_dict = {\"training loss\": train_loss_list, \n",
    "                   \"training acc\": train_acc_list,\n",
    "                   \"validation loss\": valid_loss_list, \n",
    "                   \"validation acc\": valid_acc_list\n",
    "                  }\n",
    "        \n",
    "    return result_dict"
   ]
  },
  {
   "cell_type": "code",
   "execution_count": 18,
   "id": "8b7c9aa9",
   "metadata": {
    "execution": {
     "iopub.execute_input": "2022-04-05T11:37:53.648618Z",
     "iopub.status.busy": "2022-04-05T11:37:53.645054Z",
     "iopub.status.idle": "2022-04-05T11:37:53.651019Z",
     "shell.execute_reply": "2022-04-05T11:37:53.650605Z",
     "shell.execute_reply.started": "2022-04-05T09:59:52.010106Z"
    },
    "papermill": {
     "duration": 0.05753,
     "end_time": "2022-04-05T11:37:53.651116",
     "exception": false,
     "start_time": "2022-04-05T11:37:53.593586",
     "status": "completed"
    },
    "tags": []
   },
   "outputs": [],
   "source": [
    "def annot_max(x,y, ax=None):\n",
    "    xmax = x[np.argmax(y)]\n",
    "    ymax = y.max()\n",
    "    text= \"epoch: {}, valid acc: {:.3f}\".format(xmax, ymax)\n",
    "    if not ax:\n",
    "        ax=plt.gca()\n",
    "    bbox_props = dict(boxstyle=\"square,pad=0.3\", fc=\"w\", ec=\"k\", lw=0.72)\n",
    "    arrowprops=dict(arrowstyle=\"->\")#,connectionstyle=\"angle,angleA=0,angleB=60\")\n",
    "    kw = dict(xycoords='data',textcoords=\"axes fraction\",\n",
    "              arrowprops=arrowprops, bbox=bbox_props, ha=\"right\", va=\"top\")\n",
    "    ax.annotate(text, xy=(xmax, ymax), xytext=(0.94,0.96), **kw)\n",
    "\n",
    "def plot_acc_loss(result_dict):\n",
    "    \"\"\"\n",
    "    Plotting function\n",
    "    \n",
    "    result_dict : containing the results from the `train` function\n",
    "    \"\"\"\n",
    "    \n",
    "    train_acc_list = result_dict[\"training acc\"]\n",
    "    train_loss_list = result_dict[\"training loss\"]\n",
    "    valid_acc_list = result_dict[\"validation acc\"]\n",
    "    valid_loss_list = result_dict[\"validation loss\"]\n",
    "    \n",
    "    \n",
    "    fig, ax = plt.subplots(1, 2, figsize = (8, 4))\n",
    "    \n",
    "    x = np.arange(1,len(train_acc_list)+1)\n",
    "    \n",
    "    ax[0].set_title('Accuracies')\n",
    "    ax[0].plot(x,train_acc_list, color = 'green', label = 'training')\n",
    "    ax[0].plot(x,valid_acc_list, color = 'blue', label = 'validation')\n",
    "    \n",
    "    \n",
    "    annot_max(x,np.array(valid_acc_list),ax[0])\n",
    "    ax[0].legend()\n",
    "\n",
    "    ax[1].set_title('Losses')\n",
    "    ax[1].plot(x,train_loss_list, color = 'green', label = 'training')\n",
    "    ax[1].plot(x,valid_loss_list, color = 'blue', label = 'validation')\n",
    "    \n",
    "    ax[1].legend()\n",
    "\n",
    "    plt.show() "
   ]
  },
  {
   "cell_type": "markdown",
   "id": "68f7afef",
   "metadata": {
    "papermill": {
     "duration": 0.044178,
     "end_time": "2022-04-05T11:37:53.739487",
     "exception": false,
     "start_time": "2022-04-05T11:37:53.695309",
     "status": "completed"
    },
    "tags": []
   },
   "source": [
    "# Model\n",
    "\n",
    "I used the model in https://www.kaggle.com/code/nicapotato/pytorch-cnn-kanada/notebook."
   ]
  },
  {
   "cell_type": "code",
   "execution_count": 19,
   "id": "95821242",
   "metadata": {
    "execution": {
     "iopub.execute_input": "2022-04-05T11:37:53.847500Z",
     "iopub.status.busy": "2022-04-05T11:37:53.846777Z",
     "iopub.status.idle": "2022-04-05T11:37:53.849273Z",
     "shell.execute_reply": "2022-04-05T11:37:53.848871Z",
     "shell.execute_reply.started": "2022-04-05T09:59:52.025296Z"
    },
    "papermill": {
     "duration": 0.064784,
     "end_time": "2022-04-05T11:37:53.849401",
     "exception": false,
     "start_time": "2022-04-05T11:37:53.784617",
     "status": "completed"
    },
    "tags": []
   },
   "outputs": [],
   "source": [
    "class Net(nn.Module):\n",
    "    def __init__(self, dropout = 0.40):\n",
    "        super(Net, self).__init__()\n",
    "        self.dropout = dropout\n",
    "        \n",
    "        # https://blog.algorithmia.com/convolutional-neural-nets-in-pytorch\n",
    "        #Our batch shape for input x is (1, 28, 28)\n",
    "        # (Batch, Number Channels, height, width).\n",
    "        #Input channels = 1, output channels = 18\n",
    "        self.conv1 = nn.Conv2d(in_channels=1, out_channels=64, kernel_size=5, stride=1, padding=2)\n",
    "        self.conv1_bn = nn.BatchNorm2d(num_features=64)\n",
    "        \n",
    "        self.conv1_1 = nn.Conv2d(in_channels=64, out_channels=64, kernel_size=5, stride=1, padding=2)\n",
    "        self.conv1_1_bn = nn.BatchNorm2d(num_features=64)\n",
    "        self.pool1 = nn.AvgPool2d(kernel_size=2, stride=2, padding=0)\n",
    "        self.d2_1 = nn.Dropout2d(p=self.dropout)\n",
    "        \n",
    "        self.conv2 = nn.Conv2d(in_channels=64, out_channels=128, kernel_size=3, stride=1, padding=1)\n",
    "        self.conv2_bn = nn.BatchNorm2d(num_features=128)\n",
    "        self.pool2 = nn.AvgPool2d(kernel_size=2, stride=2, padding=0)\n",
    "        self.d2_2 = nn.Dropout2d(p=self.dropout)\n",
    "        \n",
    "        self.conv3 = nn.Conv2d(in_channels=128, out_channels=256, kernel_size=3, stride=1, padding=1)\n",
    "        self.conv3_bn = nn.BatchNorm2d(num_features=256)\n",
    "        self.pool3 = nn.AvgPool2d(kernel_size=2, stride=2, padding=0)\n",
    "        self.d2_3 = nn.Dropout2d(p=self.dropout)\n",
    "        \n",
    "        #4608 input features, 256 output features (see sizing flow below)\n",
    "        self.fc1 = nn.Linear(256 * 3 * 3, 512) # Linear 1\n",
    "        self.d1_1 = nn.Dropout(p=self.dropout)\n",
    "        #64 input features, 10 output features for our 10 defined classes\n",
    "        self.fc2 = nn.Linear(in_features=512, out_features=256) # linear 2\n",
    "        self.d1_2 = nn.Dropout(p=self.dropout)\n",
    "        self.fc3 = nn.Linear(in_features=256, out_features=128) # linear 3\n",
    "        self.d1_3 = nn.Dropout(p=self.dropout)\n",
    "        self.out = nn.Linear(in_features=128, out_features=10) # linear 3\n",
    "        \n",
    "    def forward(self, x):\n",
    "        #Computes the activation of the first convolution\n",
    "        #Size changes from (1, 28, 28) to (18, 28, 28)\n",
    "        x = self.conv1(x)\n",
    "        x = self.conv1_bn(x)\n",
    "        x = F.relu(x)\n",
    "        x = self.conv1_1(x)\n",
    "        x = self.conv1_1_bn(x)\n",
    "        x = F.relu(x)       \n",
    "        \n",
    "        x = self.d2_1(x)\n",
    "        x = self.pool1(x) # Size changes from (18, 28, 28) to (18, 14, 14)\n",
    "        \n",
    "        # Second Conv       \n",
    "        x = self.conv2(x)\n",
    "        x = self.conv2_bn(x)\n",
    "        x = F.relu(x)\n",
    "        x = self.d2_2(x)\n",
    "        x = self.pool2(x) # Size changes from (18, 14, 14) to (18, 7, 7)\n",
    "        \n",
    "        # Third Conv       \n",
    "        x = self.conv3(x)\n",
    "        x = self.conv3_bn(x)\n",
    "        x = F.relu(x)\n",
    "        x = self.d2_3(x)\n",
    "        x = self.pool3(x) # Size changes from (18, 7, 7) to (18, 3, 3)\n",
    "        \n",
    "        #Reshape data to input to the input layer of the neural net\n",
    "        #Size changes from (18, 14, 14) to (1, 3528)\n",
    "        #Recall that the -1 infers this dimension from the other given dimension\n",
    "        x = x.view(-1, 256 * 3 * 3)\n",
    "\n",
    "        #Computes the activation of the first fully connected layer\n",
    "        #Size changes from (1, 4608) to (1, 64)\n",
    "        #Computes the second fully connected layer (activation applied later)\n",
    "        #Size changes from (1, 64) to (1, 10)\n",
    "        x = F.relu(self.fc1(x))\n",
    "        x = self.d1_1(x)\n",
    "        \n",
    "        x = F.relu(self.fc2(x))\n",
    "        x = self.d1_2(x)\n",
    "        \n",
    "        x = F.relu(self.fc3(x))\n",
    "        x = self.d1_3(x)\n",
    "        \n",
    "        x = self.out(x)\n",
    "        return F.log_softmax(x, dim=-1)"
   ]
  },
  {
   "cell_type": "code",
   "execution_count": 20,
   "id": "4f61ea91",
   "metadata": {
    "execution": {
     "iopub.execute_input": "2022-04-05T11:37:53.943333Z",
     "iopub.status.busy": "2022-04-05T11:37:53.942425Z",
     "iopub.status.idle": "2022-04-05T11:37:53.945038Z",
     "shell.execute_reply": "2022-04-05T11:37:53.944578Z",
     "shell.execute_reply.started": "2022-04-05T09:59:52.049874Z"
    },
    "papermill": {
     "duration": 0.050528,
     "end_time": "2022-04-05T11:37:53.945144",
     "exception": false,
     "start_time": "2022-04-05T11:37:53.894616",
     "status": "completed"
    },
    "tags": []
   },
   "outputs": [],
   "source": [
    "import math"
   ]
  },
  {
   "cell_type": "code",
   "execution_count": 21,
   "id": "ac524f00",
   "metadata": {
    "execution": {
     "iopub.execute_input": "2022-04-05T11:37:54.043861Z",
     "iopub.status.busy": "2022-04-05T11:37:54.042960Z",
     "iopub.status.idle": "2022-04-05T11:37:54.044989Z",
     "shell.execute_reply": "2022-04-05T11:37:54.045383Z",
     "shell.execute_reply.started": "2022-04-05T09:59:52.061625Z"
    },
    "papermill": {
     "duration": 0.056209,
     "end_time": "2022-04-05T11:37:54.045515",
     "exception": false,
     "start_time": "2022-04-05T11:37:53.989306",
     "status": "completed"
    },
    "tags": []
   },
   "outputs": [],
   "source": [
    "# Learning Rate Finder https://sgugger.github.io/how-do-you-find-a-good-learning-rate.html\n",
    "# https://www.kaggle.com/code/nicapotato/pytorch-cnn-kanada/notebook\n",
    "def find_lr(trn_loader, init_value = 1e-8, final_value=10., beta = 0.98):\n",
    "    num = len(trn_loader)-1\n",
    "    mult = (final_value / init_value) ** (1/num)\n",
    "    lr = init_value\n",
    "    optimizer.param_groups[0]['lr'] = lr\n",
    "    avg_loss = 0.\n",
    "    best_loss = 0.\n",
    "    batch_num = 0\n",
    "    losses = []\n",
    "    log_lrs = []\n",
    "    for data in trn_loader:\n",
    "        batch_num += 1\n",
    "        #As before, get the loss for this mini-batch of inputs/outputs\n",
    "        inputs = data[0].to(device)\n",
    "        labels = data[1].to(device)\n",
    "        optimizer.zero_grad()\n",
    "        outputs = net(inputs)\n",
    "        loss = criterion(outputs, labels)\n",
    "        #Compute the smoothed loss\n",
    "        avg_loss = beta * avg_loss + (1-beta)*loss.item()\n",
    "        smoothed_loss = avg_loss / (1 - beta**batch_num)\n",
    "        #Stop if the loss is exploding\n",
    "        if batch_num > 1 and smoothed_loss > 4 * best_loss:\n",
    "            return log_lrs, losses\n",
    "        #Record the best loss\n",
    "        if smoothed_loss < best_loss or batch_num==1:\n",
    "            best_loss = smoothed_loss\n",
    "        #Store the values\n",
    "        losses.append(smoothed_loss)\n",
    "        log_lrs.append(math.log10(lr))\n",
    "        #Do the SGD step\n",
    "        loss.backward()\n",
    "        optimizer.step()\n",
    "        #Update the lr for the next step\n",
    "        lr *= mult\n",
    "        optimizer.param_groups[0]['lr'] = lr\n",
    "    return log_lrs, losses"
   ]
  },
  {
   "cell_type": "code",
   "execution_count": 22,
   "id": "8572652a",
   "metadata": {
    "execution": {
     "iopub.execute_input": "2022-04-05T11:37:54.138101Z",
     "iopub.status.busy": "2022-04-05T11:37:54.137395Z",
     "iopub.status.idle": "2022-04-05T11:37:57.061894Z",
     "shell.execute_reply": "2022-04-05T11:37:57.061249Z",
     "shell.execute_reply.started": "2022-04-05T09:59:52.074461Z"
    },
    "papermill": {
     "duration": 2.972532,
     "end_time": "2022-04-05T11:37:57.062035",
     "exception": false,
     "start_time": "2022-04-05T11:37:54.089503",
     "status": "completed"
    },
    "tags": []
   },
   "outputs": [],
   "source": [
    "torch.manual_seed(42)\n",
    "net = Net().to(device)"
   ]
  },
  {
   "cell_type": "code",
   "execution_count": 23,
   "id": "b164607f",
   "metadata": {
    "execution": {
     "iopub.execute_input": "2022-04-05T11:37:57.159864Z",
     "iopub.status.busy": "2022-04-05T11:37:57.158336Z",
     "iopub.status.idle": "2022-04-05T11:37:57.160472Z",
     "shell.execute_reply": "2022-04-05T11:37:57.160868Z",
     "shell.execute_reply.started": "2022-04-05T09:59:52.10478Z"
    },
    "papermill": {
     "duration": 0.053893,
     "end_time": "2022-04-05T11:37:57.160992",
     "exception": false,
     "start_time": "2022-04-05T11:37:57.107099",
     "status": "completed"
    },
    "tags": []
   },
   "outputs": [],
   "source": [
    "criterion = nn.CrossEntropyLoss()\n",
    "optimizer = optim.Adam(net.parameters(), lr=1e-3)"
   ]
  },
  {
   "cell_type": "code",
   "execution_count": 24,
   "id": "53eaab66",
   "metadata": {
    "execution": {
     "iopub.execute_input": "2022-04-05T11:37:57.256845Z",
     "iopub.status.busy": "2022-04-05T11:37:57.256069Z",
     "iopub.status.idle": "2022-04-05T11:38:17.274994Z",
     "shell.execute_reply": "2022-04-05T11:38:17.275473Z",
     "shell.execute_reply.started": "2022-04-05T09:59:52.112746Z"
    },
    "papermill": {
     "duration": 20.070098,
     "end_time": "2022-04-05T11:38:17.275650",
     "exception": false,
     "start_time": "2022-04-05T11:37:57.205552",
     "status": "completed"
    },
    "tags": []
   },
   "outputs": [
    {
     "data": {
      "text/plain": [
       "[<matplotlib.lines.Line2D at 0x7fc49bee2ed0>]"
      ]
     },
     "execution_count": 24,
     "metadata": {},
     "output_type": "execute_result"
    },
    {
     "data": {
      "image/png": "[encoded data removed]",
      "text/plain": [
       "<Figure size 432x288 with 1 Axes>"
      ]
     },
     "metadata": {
      "needs_background": "light"
     },
     "output_type": "display_data"
    }
   ],
   "source": [
    "logs,losses = find_lr(trn_loader = train_loader)\n",
    "plt.plot(logs[10:-5],losses[10:-5])"
   ]
  },
  {
   "cell_type": "code",
   "execution_count": 25,
   "id": "b4ec7af5",
   "metadata": {
    "execution": {
     "iopub.execute_input": "2022-04-05T11:38:17.372481Z",
     "iopub.status.busy": "2022-04-05T11:38:17.371757Z",
     "iopub.status.idle": "2022-04-05T11:38:17.374206Z",
     "shell.execute_reply": "2022-04-05T11:38:17.373807Z",
     "shell.execute_reply.started": "2022-04-05T10:00:05.231181Z"
    },
    "papermill": {
     "duration": 0.051859,
     "end_time": "2022-04-05T11:38:17.374340",
     "exception": false,
     "start_time": "2022-04-05T11:38:17.322481",
     "status": "completed"
    },
    "tags": []
   },
   "outputs": [],
   "source": [
    "#summary(net, input_size = (1, 28, 28), device = 'cuda')"
   ]
  },
  {
   "cell_type": "code",
   "execution_count": 26,
   "id": "974fcb51",
   "metadata": {
    "execution": {
     "iopub.execute_input": "2022-04-05T11:38:17.555530Z",
     "iopub.status.busy": "2022-04-05T11:38:17.554651Z",
     "iopub.status.idle": "2022-04-05T11:38:17.593648Z",
     "shell.execute_reply": "2022-04-05T11:38:17.594346Z",
     "shell.execute_reply.started": "2022-04-05T10:00:05.238926Z"
    },
    "papermill": {
     "duration": 0.1475,
     "end_time": "2022-04-05T11:38:17.594487",
     "exception": false,
     "start_time": "2022-04-05T11:38:17.446987",
     "status": "completed"
    },
    "tags": []
   },
   "outputs": [],
   "source": [
    "# https://discuss.pytorch.org/t/how-to-do-exponential-learning-rate-decay-in-pytorch/63146\n",
    "torch.manual_seed(42)\n",
    "net = Net().to(device)\n",
    "criterion = nn.CrossEntropyLoss()\n",
    "optimizer = optim.Adam(net.parameters(), lr=4e-3)\n",
    "decayRate = 0.95\n",
    "lr_scheduler = torch.optim.lr_scheduler.ExponentialLR(optimizer=optimizer, gamma=decayRate)"
   ]
  },
  {
   "cell_type": "code",
   "execution_count": 27,
   "id": "2a060ef8",
   "metadata": {
    "execution": {
     "iopub.execute_input": "2022-04-05T11:38:17.751592Z",
     "iopub.status.busy": "2022-04-05T11:38:17.750844Z",
     "iopub.status.idle": "2022-04-05T11:52:20.440863Z",
     "shell.execute_reply": "2022-04-05T11:52:20.441329Z",
     "shell.execute_reply.started": "2022-04-05T10:00:05.290557Z"
    },
    "papermill": {
     "duration": 842.769674,
     "end_time": "2022-04-05T11:52:20.441492",
     "exception": false,
     "start_time": "2022-04-05T11:38:17.671818",
     "status": "completed"
    },
    "tags": []
   },
   "outputs": [
    {
     "name": "stdout",
     "output_type": "stream",
     "text": [
      "[1/40] | TE: 0.272070 TA: 0.915183 | VE 1.440610 VA: 0.785742 | ET: 21.22s\n",
      "[2/40] | TE: 0.097685 TA: 0.978433 | VE 1.163068 VA: 0.797168 | ET: 42.53s\n",
      "[3/40] | TE: 0.072871 TA: 0.983200 | VE 1.080916 VA: 0.821484 | ET: 64.12s\n",
      "[4/40] | TE: 0.068102 TA: 0.985567 | VE 1.270837 VA: 0.796387 | ET: 85.25s\n",
      "[5/40] | TE: 0.052307 TA: 0.988283 | VE 1.503150 VA: 0.788477 | ET: 106.50s\n",
      "[6/40] | TE: 0.050617 TA: 0.988333 | VE 1.283870 VA: 0.813672 | ET: 128.03s\n",
      "[7/40] | TE: 0.047249 TA: 0.989400 | VE 1.477577 VA: 0.826172 | ET: 149.12s\n",
      "[8/40] | TE: 0.041638 TA: 0.990800 | VE 1.794355 VA: 0.808594 | ET: 170.47s\n",
      "[9/40] | TE: 0.037421 TA: 0.991767 | VE 1.193530 VA: 0.829492 | ET: 191.71s\n",
      "[10/40] | TE: 0.037809 TA: 0.991483 | VE 1.602628 VA: 0.827637 | ET: 212.93s\n",
      "[11/40] | TE: 0.034843 TA: 0.991900 | VE 1.672760 VA: 0.816992 | ET: 234.03s\n",
      "[12/40] | TE: 0.031366 TA: 0.992833 | VE 2.149239 VA: 0.803711 | ET: 255.03s\n",
      "[13/40] | TE: 0.030608 TA: 0.993333 | VE 1.989469 VA: 0.806250 | ET: 276.10s\n",
      "[14/40] | TE: 0.026233 TA: 0.993800 | VE 2.028249 VA: 0.822559 | ET: 297.21s\n",
      "[15/40] | TE: 0.028523 TA: 0.993617 | VE 1.642507 VA: 0.830078 | ET: 317.94s\n",
      "[16/40] | TE: 0.027396 TA: 0.993933 | VE 1.778079 VA: 0.838965 | ET: 339.07s\n",
      "[17/40] | TE: 0.025458 TA: 0.994050 | VE 1.842841 VA: 0.837891 | ET: 360.21s\n",
      "[18/40] | TE: 0.020893 TA: 0.994900 | VE 1.965261 VA: 0.832031 | ET: 380.95s\n",
      "[19/40] | TE: 0.021930 TA: 0.995083 | VE 1.715905 VA: 0.825977 | ET: 402.17s\n",
      "[20/40] | TE: 0.017936 TA: 0.995333 | VE 2.109342 VA: 0.838086 | ET: 423.17s\n",
      "[21/40] | TE: 0.019286 TA: 0.995433 | VE 2.288233 VA: 0.827148 | ET: 444.02s\n",
      "[22/40] | TE: 0.017915 TA: 0.995683 | VE 2.304015 VA: 0.833691 | ET: 465.06s\n",
      "[23/40] | TE: 0.017083 TA: 0.995883 | VE 2.425002 VA: 0.820996 | ET: 486.43s\n",
      "[24/40] | TE: 0.015214 TA: 0.996233 | VE 2.985969 VA: 0.819531 | ET: 507.15s\n",
      "[25/40] | TE: 0.015337 TA: 0.995800 | VE 2.776302 VA: 0.804102 | ET: 528.07s\n",
      "[26/40] | TE: 0.014373 TA: 0.996250 | VE 2.030257 VA: 0.838281 | ET: 548.55s\n",
      "[27/40] | TE: 0.013731 TA: 0.996533 | VE 2.467520 VA: 0.815625 | ET: 569.77s\n",
      "[28/40] | TE: 0.014741 TA: 0.996433 | VE 2.668565 VA: 0.816016 | ET: 590.88s\n",
      "[29/40] | TE: 0.011100 TA: 0.996783 | VE 2.432981 VA: 0.823145 | ET: 611.48s\n",
      "[30/40] | TE: 0.014786 TA: 0.996700 | VE 2.294982 VA: 0.826270 | ET: 632.68s\n",
      "[31/40] | TE: 0.012632 TA: 0.996967 | VE 2.330177 VA: 0.834277 | ET: 653.73s\n",
      "[32/40] | TE: 0.011657 TA: 0.996750 | VE 2.568280 VA: 0.830273 | ET: 674.90s\n",
      "[33/40] | TE: 0.011240 TA: 0.997000 | VE 3.008304 VA: 0.824414 | ET: 695.97s\n",
      "[34/40] | TE: 0.010592 TA: 0.997117 | VE 2.724054 VA: 0.831641 | ET: 717.16s\n",
      "[35/40] | TE: 0.010633 TA: 0.997067 | VE 2.666074 VA: 0.830078 | ET: 737.86s\n",
      "[36/40] | TE: 0.011177 TA: 0.997217 | VE 3.044782 VA: 0.828418 | ET: 759.06s\n",
      "[37/40] | TE: 0.009555 TA: 0.997383 | VE 2.953487 VA: 0.830078 | ET: 779.94s\n",
      "[38/40] | TE: 0.009002 TA: 0.997600 | VE 3.108530 VA: 0.819141 | ET: 800.99s\n",
      "[39/40] | TE: 0.009392 TA: 0.997800 | VE 2.992707 VA: 0.824414 | ET: 821.98s\n",
      "[40/40] | TE: 0.009858 TA: 0.997400 | VE 3.035423 VA: 0.824023 | ET: 842.63s\n"
     ]
    }
   ],
   "source": [
    "result_dict = train(train_loader,valid_loader,net,optimizer,criterion,40,lr_scheduler)"
   ]
  },
  {
   "cell_type": "code",
   "execution_count": 28,
   "id": "f68360c2",
   "metadata": {
    "execution": {
     "iopub.execute_input": "2022-04-05T11:52:20.564113Z",
     "iopub.status.busy": "2022-04-05T11:52:20.563275Z",
     "iopub.status.idle": "2022-04-05T11:52:20.567505Z",
     "shell.execute_reply": "2022-04-05T11:52:20.566944Z",
     "shell.execute_reply.started": "2022-04-05T10:03:51.393511Z"
    },
    "papermill": {
     "duration": 0.068416,
     "end_time": "2022-04-05T11:52:20.567646",
     "exception": false,
     "start_time": "2022-04-05T11:52:20.499230",
     "status": "completed"
    },
    "tags": []
   },
   "outputs": [
    {
     "data": {
      "text/plain": [
       "{'training loss': [0.27207028940785677,\n",
       "  0.09768519897091513,\n",
       "  0.07287103757204022,\n",
       "  0.06810244717169553,\n",
       "  0.05230714878785269,\n",
       "  0.05061718279263005,\n",
       "  0.047249499856261534,\n",
       "  0.04163760168623412,\n",
       "  0.037421472214579504,\n",
       "  0.037808822504836526,\n",
       "  0.03484318950767677,\n",
       "  0.03136574681529358,\n",
       "  0.03060830093289648,\n",
       "  0.02623293977654612,\n",
       "  0.028523370018059116,\n",
       "  0.027395503832473574,\n",
       "  0.025458287072445577,\n",
       "  0.020892723436105976,\n",
       "  0.021930176240659117,\n",
       "  0.017935795991858565,\n",
       "  0.019286159072419953,\n",
       "  0.017915076720194822,\n",
       "  0.01708349633517173,\n",
       "  0.015214384986891597,\n",
       "  0.01533722125064287,\n",
       "  0.014373176864055495,\n",
       "  0.013730956279665255,\n",
       "  0.014740892236807971,\n",
       "  0.011100340456184767,\n",
       "  0.014785747863897995,\n",
       "  0.012632239383087836,\n",
       "  0.011656667366799715,\n",
       "  0.011239771517856146,\n",
       "  0.01059190519696358,\n",
       "  0.010632680193096652,\n",
       "  0.011177446762077731,\n",
       "  0.009554924207486692,\n",
       "  0.00900154983072639,\n",
       "  0.009391804844859356,\n",
       "  0.009857865201637802],\n",
       " 'training acc': [0.9151833333333333,\n",
       "  0.9784333333333334,\n",
       "  0.9832,\n",
       "  0.9855666666666667,\n",
       "  0.9882833333333333,\n",
       "  0.9883333333333333,\n",
       "  0.9894,\n",
       "  0.9908,\n",
       "  0.9917666666666667,\n",
       "  0.9914833333333334,\n",
       "  0.9919,\n",
       "  0.9928333333333333,\n",
       "  0.9933333333333333,\n",
       "  0.9938,\n",
       "  0.9936166666666667,\n",
       "  0.9939333333333333,\n",
       "  0.99405,\n",
       "  0.9949,\n",
       "  0.9950833333333333,\n",
       "  0.9953333333333333,\n",
       "  0.9954333333333333,\n",
       "  0.9956833333333334,\n",
       "  0.9958833333333333,\n",
       "  0.9962333333333333,\n",
       "  0.9958,\n",
       "  0.99625,\n",
       "  0.9965333333333334,\n",
       "  0.9964333333333333,\n",
       "  0.9967833333333334,\n",
       "  0.9967,\n",
       "  0.9969666666666667,\n",
       "  0.99675,\n",
       "  0.997,\n",
       "  0.9971166666666667,\n",
       "  0.9970666666666667,\n",
       "  0.9972166666666666,\n",
       "  0.9973833333333333,\n",
       "  0.9976,\n",
       "  0.9978,\n",
       "  0.9974],\n",
       " 'validation loss': [1.4406098839148735,\n",
       "  1.1630684065731984,\n",
       "  1.080916171152036,\n",
       "  1.2708373667256345,\n",
       "  1.503150039795533,\n",
       "  1.2838695316928104,\n",
       "  1.4775765425371892,\n",
       "  1.7943545007011266,\n",
       "  1.19352975335804,\n",
       "  1.6026276841904352,\n",
       "  1.672759971427686,\n",
       "  2.1492392863463428,\n",
       "  1.989468645123602,\n",
       "  2.0282487025828035,\n",
       "  1.6425067345494206,\n",
       "  1.778078713463348,\n",
       "  1.8428412539143006,\n",
       "  1.9652605823521476,\n",
       "  1.7159046627653456,\n",
       "  2.109342085432659,\n",
       "  2.2882332457500754,\n",
       "  2.3040153315489733,\n",
       "  2.4250020768167904,\n",
       "  2.9859690867292072,\n",
       "  2.7763017144018005,\n",
       "  2.0302570894794556,\n",
       "  2.467519851998218,\n",
       "  2.6685651475654066,\n",
       "  2.432981309236832,\n",
       "  2.294981544746936,\n",
       "  2.330177466267521,\n",
       "  2.568279872675544,\n",
       "  3.008303696814093,\n",
       "  2.7240535132225276,\n",
       "  2.6660742768384877,\n",
       "  3.0447824028799837,\n",
       "  2.9534871275853183,\n",
       "  3.1085299275164466,\n",
       "  2.9927068263726326,\n",
       "  3.035422689561705],\n",
       " 'validation acc': [0.7857421875,\n",
       "  0.79716796875,\n",
       "  0.821484375,\n",
       "  0.79638671875,\n",
       "  0.7884765625,\n",
       "  0.813671875,\n",
       "  0.826171875,\n",
       "  0.80859375,\n",
       "  0.8294921875,\n",
       "  0.82763671875,\n",
       "  0.8169921875,\n",
       "  0.8037109375,\n",
       "  0.80625,\n",
       "  0.82255859375,\n",
       "  0.830078125,\n",
       "  0.83896484375,\n",
       "  0.837890625,\n",
       "  0.83203125,\n",
       "  0.8259765625,\n",
       "  0.8380859375,\n",
       "  0.8271484375,\n",
       "  0.83369140625,\n",
       "  0.82099609375,\n",
       "  0.81953125,\n",
       "  0.8041015625,\n",
       "  0.83828125,\n",
       "  0.815625,\n",
       "  0.816015625,\n",
       "  0.82314453125,\n",
       "  0.82626953125,\n",
       "  0.83427734375,\n",
       "  0.8302734375,\n",
       "  0.8244140625,\n",
       "  0.831640625,\n",
       "  0.830078125,\n",
       "  0.82841796875,\n",
       "  0.830078125,\n",
       "  0.819140625,\n",
       "  0.8244140625,\n",
       "  0.8240234375]}"
      ]
     },
     "execution_count": 28,
     "metadata": {},
     "output_type": "execute_result"
    }
   ],
   "source": [
    "result_dict"
   ]
  },
  {
   "cell_type": "code",
   "execution_count": 29,
   "id": "9e28104a",
   "metadata": {
    "execution": {
     "iopub.execute_input": "2022-04-05T11:52:20.720785Z",
     "iopub.status.busy": "2022-04-05T11:52:20.708391Z",
     "iopub.status.idle": "2022-04-05T11:52:21.023886Z",
     "shell.execute_reply": "2022-04-05T11:52:21.023324Z",
     "shell.execute_reply.started": "2022-04-05T10:03:51.406431Z"
    },
    "papermill": {
     "duration": 0.395511,
     "end_time": "2022-04-05T11:52:21.024023",
     "exception": false,
     "start_time": "2022-04-05T11:52:20.628512",
     "status": "completed"
    },
    "tags": []
   },
   "outputs": [
    {
     "data": {
      "image/png": "[encoded data removed]",
      "text/plain": [
       "<Figure size 576x288 with 2 Axes>"
      ]
     },
     "metadata": {
      "needs_background": "light"
     },
     "output_type": "display_data"
    }
   ],
   "source": [
    "plot_acc_loss(result_dict)"
   ]
  },
  {
   "cell_type": "markdown",
   "id": "19b849d2",
   "metadata": {
    "papermill": {
     "duration": 0.059292,
     "end_time": "2022-04-05T11:52:21.143563",
     "exception": false,
     "start_time": "2022-04-05T11:52:21.084271",
     "status": "completed"
    },
    "tags": []
   },
   "source": [
    "# Submission"
   ]
  },
  {
   "cell_type": "code",
   "execution_count": 30,
   "id": "7f215e95",
   "metadata": {
    "execution": {
     "iopub.execute_input": "2022-04-05T11:52:21.267072Z",
     "iopub.status.busy": "2022-04-05T11:52:21.266329Z",
     "iopub.status.idle": "2022-04-05T11:52:21.616611Z",
     "shell.execute_reply": "2022-04-05T11:52:21.615659Z",
     "shell.execute_reply.started": "2022-04-05T10:03:51.755742Z"
    },
    "papermill": {
     "duration": 0.41324,
     "end_time": "2022-04-05T11:52:21.616774",
     "exception": false,
     "start_time": "2022-04-05T11:52:21.203534",
     "status": "completed"
    },
    "tags": []
   },
   "outputs": [],
   "source": [
    "test_data = pd.read_csv('/kaggle/input/Kannada-MNIST/test.csv')\n",
    "#test_data = pd.read_csv('/kaggle/input/Kannada-MNIST/test.csv')"
   ]
  },
  {
   "cell_type": "code",
   "execution_count": 31,
   "id": "875f34cb",
   "metadata": {
    "execution": {
     "iopub.execute_input": "2022-04-05T11:52:21.752793Z",
     "iopub.status.busy": "2022-04-05T11:52:21.743334Z",
     "iopub.status.idle": "2022-04-05T11:52:21.755458Z",
     "shell.execute_reply": "2022-04-05T11:52:21.754989Z",
     "shell.execute_reply.started": "2022-04-05T10:03:52.093479Z"
    },
    "papermill": {
     "duration": 0.077683,
     "end_time": "2022-04-05T11:52:21.755576",
     "exception": false,
     "start_time": "2022-04-05T11:52:21.677893",
     "status": "completed"
    },
    "tags": []
   },
   "outputs": [],
   "source": [
    "ids, test_set = test_data.id, test_data.drop(['id'], axis=1)"
   ]
  },
  {
   "cell_type": "code",
   "execution_count": 32,
   "id": "d7692741",
   "metadata": {
    "execution": {
     "iopub.execute_input": "2022-04-05T11:52:21.880571Z",
     "iopub.status.busy": "2022-04-05T11:52:21.879507Z",
     "iopub.status.idle": "2022-04-05T11:52:21.888322Z",
     "shell.execute_reply": "2022-04-05T11:52:21.888730Z",
     "shell.execute_reply.started": "2022-04-05T10:03:52.108271Z"
    },
    "papermill": {
     "duration": 0.073227,
     "end_time": "2022-04-05T11:52:21.888854",
     "exception": false,
     "start_time": "2022-04-05T11:52:21.815627",
     "status": "completed"
    },
    "tags": []
   },
   "outputs": [],
   "source": [
    "test_set = torch.from_numpy(test_set.values)\n",
    "test_set = test_set.view(test_set.shape[0],28,28).to(device)"
   ]
  },
  {
   "cell_type": "code",
   "execution_count": 33,
   "id": "c8677f6f",
   "metadata": {
    "execution": {
     "iopub.execute_input": "2022-04-05T11:52:22.017690Z",
     "iopub.status.busy": "2022-04-05T11:52:22.016887Z",
     "iopub.status.idle": "2022-04-05T11:52:22.019718Z",
     "shell.execute_reply": "2022-04-05T11:52:22.020128Z",
     "shell.execute_reply.started": "2022-04-05T10:03:52.122729Z"
    },
    "papermill": {
     "duration": 0.071149,
     "end_time": "2022-04-05T11:52:22.020251",
     "exception": false,
     "start_time": "2022-04-05T11:52:21.949102",
     "status": "completed"
    },
    "tags": []
   },
   "outputs": [
    {
     "data": {
      "text/plain": [
       "torch.Size([5000, 28, 28])"
      ]
     },
     "execution_count": 33,
     "metadata": {},
     "output_type": "execute_result"
    }
   ],
   "source": [
    "test_set.shape"
   ]
  },
  {
   "cell_type": "code",
   "execution_count": 34,
   "id": "4cc9f9b1",
   "metadata": {
    "execution": {
     "iopub.execute_input": "2022-04-05T11:52:22.146510Z",
     "iopub.status.busy": "2022-04-05T11:52:22.145936Z",
     "iopub.status.idle": "2022-04-05T11:52:22.152175Z",
     "shell.execute_reply": "2022-04-05T11:52:22.151757Z",
     "shell.execute_reply.started": "2022-04-05T10:03:52.129611Z"
    },
    "papermill": {
     "duration": 0.07153,
     "end_time": "2022-04-05T11:52:22.152276",
     "exception": false,
     "start_time": "2022-04-05T11:52:22.080746",
     "status": "completed"
    },
    "tags": []
   },
   "outputs": [
    {
     "data": {
      "text/plain": [
       "tensor(255, device='cuda:0')"
      ]
     },
     "execution_count": 34,
     "metadata": {},
     "output_type": "execute_result"
    }
   ],
   "source": [
    "test_set.max()"
   ]
  },
  {
   "cell_type": "code",
   "execution_count": 35,
   "id": "66f2844d",
   "metadata": {
    "execution": {
     "iopub.execute_input": "2022-04-05T11:52:22.277516Z",
     "iopub.status.busy": "2022-04-05T11:52:22.276596Z",
     "iopub.status.idle": "2022-04-05T11:52:22.278701Z",
     "shell.execute_reply": "2022-04-05T11:52:22.279063Z",
     "shell.execute_reply.started": "2022-04-05T10:03:52.141502Z"
    },
    "papermill": {
     "duration": 0.066676,
     "end_time": "2022-04-05T11:52:22.279181",
     "exception": false,
     "start_time": "2022-04-05T11:52:22.212505",
     "status": "completed"
    },
    "tags": []
   },
   "outputs": [],
   "source": [
    "test_set = test_set/255."
   ]
  },
  {
   "cell_type": "code",
   "execution_count": 36,
   "id": "254a4b75",
   "metadata": {
    "execution": {
     "iopub.execute_input": "2022-04-05T11:52:22.412591Z",
     "iopub.status.busy": "2022-04-05T11:52:22.411845Z",
     "iopub.status.idle": "2022-04-05T11:52:29.892616Z",
     "shell.execute_reply": "2022-04-05T11:52:29.892110Z",
     "shell.execute_reply.started": "2022-04-05T10:03:52.146933Z"
    },
    "papermill": {
     "duration": 7.553311,
     "end_time": "2022-04-05T11:52:29.892754",
     "exception": false,
     "start_time": "2022-04-05T11:52:22.339443",
     "status": "completed"
    },
    "tags": []
   },
   "outputs": [],
   "source": [
    "predictions=[]\n",
    "with torch.no_grad():\n",
    "    for i, data in enumerate(test_set):\n",
    "        images = data.to(device)\n",
    "        outputs = net(images.float().unsqueeze(0).unsqueeze(0))\n",
    "        \n",
    "        predicted = outputs.data.cpu().numpy().argmax()\n",
    "        #print(f\"{outputs.data} \\n ---> {predicted} \\n----------------\")\n",
    "        predictions.append([i,predicted.item()])"
   ]
  },
  {
   "cell_type": "code",
   "execution_count": 37,
   "id": "ed37f5b4",
   "metadata": {
    "execution": {
     "iopub.execute_input": "2022-04-05T11:52:30.019472Z",
     "iopub.status.busy": "2022-04-05T11:52:30.018833Z",
     "iopub.status.idle": "2022-04-05T11:52:30.021530Z",
     "shell.execute_reply": "2022-04-05T11:52:30.021931Z",
     "shell.execute_reply.started": "2022-04-05T10:03:59.720527Z"
    },
    "papermill": {
     "duration": 0.068382,
     "end_time": "2022-04-05T11:52:30.022053",
     "exception": false,
     "start_time": "2022-04-05T11:52:29.953671",
     "status": "completed"
    },
    "tags": []
   },
   "outputs": [
    {
     "data": {
      "text/plain": [
       "3"
      ]
     },
     "execution_count": 37,
     "metadata": {},
     "output_type": "execute_result"
    }
   ],
   "source": [
    "predicted"
   ]
  },
  {
   "cell_type": "code",
   "execution_count": 38,
   "id": "c6de3e73",
   "metadata": {
    "execution": {
     "iopub.execute_input": "2022-04-05T11:52:30.151501Z",
     "iopub.status.busy": "2022-04-05T11:52:30.150823Z",
     "iopub.status.idle": "2022-04-05T11:52:30.153303Z",
     "shell.execute_reply": "2022-04-05T11:52:30.152885Z",
     "shell.execute_reply.started": "2022-04-05T10:03:59.728802Z"
    },
    "papermill": {
     "duration": 0.070793,
     "end_time": "2022-04-05T11:52:30.153419",
     "exception": false,
     "start_time": "2022-04-05T11:52:30.082626",
     "status": "completed"
    },
    "tags": []
   },
   "outputs": [],
   "source": [
    "predictions=pd.DataFrame(predictions)"
   ]
  },
  {
   "cell_type": "code",
   "execution_count": 39,
   "id": "d70e3e7d",
   "metadata": {
    "execution": {
     "iopub.execute_input": "2022-04-05T11:52:30.278725Z",
     "iopub.status.busy": "2022-04-05T11:52:30.277996Z",
     "iopub.status.idle": "2022-04-05T11:52:30.280125Z",
     "shell.execute_reply": "2022-04-05T11:52:30.280663Z",
     "shell.execute_reply.started": "2022-04-05T10:03:59.742067Z"
    },
    "papermill": {
     "duration": 0.066569,
     "end_time": "2022-04-05T11:52:30.280799",
     "exception": false,
     "start_time": "2022-04-05T11:52:30.214230",
     "status": "completed"
    },
    "tags": []
   },
   "outputs": [],
   "source": [
    "predictions.columns=['id','label']"
   ]
  },
  {
   "cell_type": "code",
   "execution_count": 40,
   "id": "9b68e3e2",
   "metadata": {
    "execution": {
     "iopub.execute_input": "2022-04-05T11:52:30.411854Z",
     "iopub.status.busy": "2022-04-05T11:52:30.411226Z",
     "iopub.status.idle": "2022-04-05T11:52:30.423550Z",
     "shell.execute_reply": "2022-04-05T11:52:30.423126Z",
     "shell.execute_reply.started": "2022-04-05T10:03:59.750164Z"
    },
    "papermill": {
     "duration": 0.077602,
     "end_time": "2022-04-05T11:52:30.423659",
     "exception": false,
     "start_time": "2022-04-05T11:52:30.346057",
     "status": "completed"
    },
    "tags": []
   },
   "outputs": [],
   "source": [
    "predictions.to_csv('/kaggle/working/submission.csv', index=False)"
   ]
  },
  {
   "cell_type": "code",
   "execution_count": 41,
   "id": "681d185d",
   "metadata": {
    "execution": {
     "iopub.execute_input": "2022-04-05T11:52:30.549101Z",
     "iopub.status.busy": "2022-04-05T11:52:30.548514Z",
     "iopub.status.idle": "2022-04-05T11:52:30.551040Z",
     "shell.execute_reply": "2022-04-05T11:52:30.551445Z",
     "shell.execute_reply.started": "2022-04-05T10:03:59.768689Z"
    },
    "papermill": {
     "duration": 0.067684,
     "end_time": "2022-04-05T11:52:30.551560",
     "exception": false,
     "start_time": "2022-04-05T11:52:30.483876",
     "status": "completed"
    },
    "tags": []
   },
   "outputs": [
    {
     "data": {
      "text/plain": [
       "'1.9.1'"
      ]
     },
     "execution_count": 41,
     "metadata": {},
     "output_type": "execute_result"
    }
   ],
   "source": [
    "torch.__version__"
   ]
  },
  {
   "cell_type": "code",
   "execution_count": null,
   "id": "6f4f7b1f",
   "metadata": {
    "papermill": {
     "duration": 0.060247,
     "end_time": "2022-04-05T11:52:30.672823",
     "exception": false,
     "start_time": "2022-04-05T11:52:30.612576",
     "status": "completed"
    },
    "tags": []
   },
   "outputs": [],
   "source": []
  }
 ],
 "metadata": {
  "kernelspec": {
   "display_name": "Python 3 (ipykernel)",
   "language": "python",
   "name": "python3"
  },
  "language_info": {
   "codemirror_mode": {
    "name": "ipython",
    "version": 3
   },
   "file_extension": ".py",
   "mimetype": "text/x-python",
   "name": "python",
   "nbconvert_exporter": "python",
   "pygments_lexer": "ipython3",
   "version": "3.9.7"
  },
  "papermill": {
   "default_parameters": {},
   "duration": 897.369915,
   "end_time": "2022-04-05T11:52:32.147333",
   "environment_variables": {},
   "exception": null,
   "input_path": "__notebook__.ipynb",
   "output_path": "__notebook__.ipynb",
   "parameters": {},
   "start_time": "2022-04-05T11:37:34.777418",
   "version": "2.3.3"
  }
 },
 "nbformat": 4,
 "nbformat_minor": 5
}
